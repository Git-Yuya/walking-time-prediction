{
  "cells": [
    {
      "cell_type": "markdown",
      "metadata": {
        "id": "QkuQJFwsXC8z"
      },
      "source": [
        "# 連合学習"
      ]
    },
    {
      "cell_type": "markdown",
      "metadata": {
        "id": "D5YobPSoXHWZ"
      },
      "source": [
        "## 必要なライブラリをインストール・インポート"
      ]
    },
    {
      "cell_type": "code",
      "execution_count": null,
      "metadata": {
        "id": "oP44E0aF8CLC"
      },
      "outputs": [],
      "source": [
        "!pip install -q flwr[simulation]"
      ]
    },
    {
      "cell_type": "code",
      "execution_count": null,
      "metadata": {
        "id": "fCQFYaeSGmmt"
      },
      "outputs": [],
      "source": [
        "from sklearn.model_selection import train_test_split\n",
        "from sklearn.preprocessing import StandardScaler\n",
        "\n",
        "import torch\n",
        "import torch.nn as nn\n",
        "import torch.optim as optim\n",
        "from torch.utils.data import DataLoader, TensorDataset, random_split\n",
        "\n",
        "import flwr as fl\n",
        "from flwr.common import Metrics\n",
        "\n",
        "import multiprocessing\n",
        "import numpy as np\n",
        "import pandas as pd\n",
        "import matplotlib.pyplot as plt\n",
        "%matplotlib inline\n",
        "\n",
        "from collections import OrderedDict\n",
        "from typing import List, Tuple, Dict, Optional\n",
        "from __future__ import annotations"
      ]
    },
    {
      "cell_type": "markdown",
      "metadata": {
        "id": "zPl0v8I0ezOo"
      },
      "source": [
        "## CSVファイルの読み込み"
      ]
    },
    {
      "cell_type": "code",
      "execution_count": null,
      "metadata": {
        "colab": {
          "base_uri": "https://localhost:8080/"
        },
        "id": "aDVX_RY8GlvB",
        "outputId": "6f6d1a6c-3e60-40fc-ce64-d9bb6b8cccff"
      },
      "outputs": [
        {
          "data": {
            "text/html": [
              "\n",
              "  <div id=\"df-220c02b9-a4ee-4d26-9b36-31e37e983c50\" class=\"colab-df-container\">\n",
              "    <div>\n",
              "<style scoped>\n",
              "    .dataframe tbody tr th:only-of-type {\n",
              "        vertical-align: middle;\n",
              "    }\n",
              "\n",
              "    .dataframe tbody tr th {\n",
              "        vertical-align: top;\n",
              "    }\n",
              "\n",
              "    .dataframe thead th {\n",
              "        text-align: right;\n",
              "    }\n",
              "</style>\n",
              "<table border=\"1\" class=\"dataframe\">\n",
              "  <thead>\n",
              "    <tr style=\"text-align: right;\">\n",
              "      <th></th>\n",
              "      <th>distance</th>\n",
              "      <th>width</th>\n",
              "      <th>speed</th>\n",
              "      <th>crowd_level</th>\n",
              "      <th>time</th>\n",
              "    </tr>\n",
              "  </thead>\n",
              "  <tbody>\n",
              "    <tr>\n",
              "      <th>0</th>\n",
              "      <td>120.400000</td>\n",
              "      <td>1.0</td>\n",
              "      <td>1.4</td>\n",
              "      <td>1</td>\n",
              "      <td>86</td>\n",
              "    </tr>\n",
              "    <tr>\n",
              "      <th>1</th>\n",
              "      <td>103.549615</td>\n",
              "      <td>1.0</td>\n",
              "      <td>1.7</td>\n",
              "      <td>1</td>\n",
              "      <td>61</td>\n",
              "    </tr>\n",
              "    <tr>\n",
              "      <th>2</th>\n",
              "      <td>95.000000</td>\n",
              "      <td>1.0</td>\n",
              "      <td>1.0</td>\n",
              "      <td>1</td>\n",
              "      <td>95</td>\n",
              "    </tr>\n",
              "    <tr>\n",
              "      <th>3</th>\n",
              "      <td>85.000000</td>\n",
              "      <td>1.0</td>\n",
              "      <td>1.0</td>\n",
              "      <td>1</td>\n",
              "      <td>85</td>\n",
              "    </tr>\n",
              "    <tr>\n",
              "      <th>4</th>\n",
              "      <td>62.000000</td>\n",
              "      <td>1.0</td>\n",
              "      <td>1.0</td>\n",
              "      <td>1</td>\n",
              "      <td>62</td>\n",
              "    </tr>\n",
              "  </tbody>\n",
              "</table>\n",
              "</div>\n",
              "    <div class=\"colab-df-buttons\">\n",
              "\n",
              "  <div class=\"colab-df-container\">\n",
              "    <button class=\"colab-df-convert\" onclick=\"convertToInteractive('df-220c02b9-a4ee-4d26-9b36-31e37e983c50')\"\n",
              "            title=\"Convert this dataframe to an interactive table.\"\n",
              "            style=\"display:none;\">\n",
              "\n",
              "  <svg xmlns=\"http://www.w3.org/2000/svg\" height=\"24px\" viewBox=\"0 -960 960 960\">\n",
              "    <path d=\"M120-120v-720h720v720H120Zm60-500h600v-160H180v160Zm220 220h160v-160H400v160Zm0 220h160v-160H400v160ZM180-400h160v-160H180v160Zm440 0h160v-160H620v160ZM180-180h160v-160H180v160Zm440 0h160v-160H620v160Z\"/>\n",
              "  </svg>\n",
              "    </button>\n",
              "\n",
              "  <style>\n",
              "    .colab-df-container {\n",
              "      display:flex;\n",
              "      gap: 12px;\n",
              "    }\n",
              "\n",
              "    .colab-df-convert {\n",
              "      background-color: #E8F0FE;\n",
              "      border: none;\n",
              "      border-radius: 50%;\n",
              "      cursor: pointer;\n",
              "      display: none;\n",
              "      fill: #1967D2;\n",
              "      height: 32px;\n",
              "      padding: 0 0 0 0;\n",
              "      width: 32px;\n",
              "    }\n",
              "\n",
              "    .colab-df-convert:hover {\n",
              "      background-color: #E2EBFA;\n",
              "      box-shadow: 0px 1px 2px rgba(60, 64, 67, 0.3), 0px 1px 3px 1px rgba(60, 64, 67, 0.15);\n",
              "      fill: #174EA6;\n",
              "    }\n",
              "\n",
              "    .colab-df-buttons div {\n",
              "      margin-bottom: 4px;\n",
              "    }\n",
              "\n",
              "    [theme=dark] .colab-df-convert {\n",
              "      background-color: #3B4455;\n",
              "      fill: #D2E3FC;\n",
              "    }\n",
              "\n",
              "    [theme=dark] .colab-df-convert:hover {\n",
              "      background-color: #434B5C;\n",
              "      box-shadow: 0px 1px 3px 1px rgba(0, 0, 0, 0.15);\n",
              "      filter: drop-shadow(0px 1px 2px rgba(0, 0, 0, 0.3));\n",
              "      fill: #FFFFFF;\n",
              "    }\n",
              "  </style>\n",
              "\n",
              "    <script>\n",
              "      const buttonEl =\n",
              "        document.querySelector('#df-220c02b9-a4ee-4d26-9b36-31e37e983c50 button.colab-df-convert');\n",
              "      buttonEl.style.display =\n",
              "        google.colab.kernel.accessAllowed ? 'block' : 'none';\n",
              "\n",
              "      async function convertToInteractive(key) {\n",
              "        const element = document.querySelector('#df-220c02b9-a4ee-4d26-9b36-31e37e983c50');\n",
              "        const dataTable =\n",
              "          await google.colab.kernel.invokeFunction('convertToInteractive',\n",
              "                                                    [key], {});\n",
              "        if (!dataTable) return;\n",
              "\n",
              "        const docLinkHtml = 'Like what you see? Visit the ' +\n",
              "          '<a target=\"_blank\" href=https://colab.research.google.com/notebooks/data_table.ipynb>data table notebook</a>'\n",
              "          + ' to learn more about interactive tables.';\n",
              "        element.innerHTML = '';\n",
              "        dataTable['output_type'] = 'display_data';\n",
              "        await google.colab.output.renderOutput(dataTable, element);\n",
              "        const docLink = document.createElement('div');\n",
              "        docLink.innerHTML = docLinkHtml;\n",
              "        element.appendChild(docLink);\n",
              "      }\n",
              "    </script>\n",
              "  </div>\n",
              "\n",
              "\n",
              "<div id=\"df-8f1597a1-38d1-48ed-a9f9-91f185feb193\">\n",
              "  <button class=\"colab-df-quickchart\" onclick=\"quickchart('df-8f1597a1-38d1-48ed-a9f9-91f185feb193')\"\n",
              "            title=\"Suggest charts\"\n",
              "            style=\"display:none;\">\n",
              "\n",
              "<svg xmlns=\"http://www.w3.org/2000/svg\" height=\"24px\"viewBox=\"0 0 24 24\"\n",
              "     width=\"24px\">\n",
              "    <g>\n",
              "        <path d=\"M19 3H5c-1.1 0-2 .9-2 2v14c0 1.1.9 2 2 2h14c1.1 0 2-.9 2-2V5c0-1.1-.9-2-2-2zM9 17H7v-7h2v7zm4 0h-2V7h2v10zm4 0h-2v-4h2v4z\"/>\n",
              "    </g>\n",
              "</svg>\n",
              "  </button>\n",
              "\n",
              "<style>\n",
              "  .colab-df-quickchart {\n",
              "      --bg-color: #E8F0FE;\n",
              "      --fill-color: #1967D2;\n",
              "      --hover-bg-color: #E2EBFA;\n",
              "      --hover-fill-color: #174EA6;\n",
              "      --disabled-fill-color: #AAA;\n",
              "      --disabled-bg-color: #DDD;\n",
              "  }\n",
              "\n",
              "  [theme=dark] .colab-df-quickchart {\n",
              "      --bg-color: #3B4455;\n",
              "      --fill-color: #D2E3FC;\n",
              "      --hover-bg-color: #434B5C;\n",
              "      --hover-fill-color: #FFFFFF;\n",
              "      --disabled-bg-color: #3B4455;\n",
              "      --disabled-fill-color: #666;\n",
              "  }\n",
              "\n",
              "  .colab-df-quickchart {\n",
              "    background-color: var(--bg-color);\n",
              "    border: none;\n",
              "    border-radius: 50%;\n",
              "    cursor: pointer;\n",
              "    display: none;\n",
              "    fill: var(--fill-color);\n",
              "    height: 32px;\n",
              "    padding: 0;\n",
              "    width: 32px;\n",
              "  }\n",
              "\n",
              "  .colab-df-quickchart:hover {\n",
              "    background-color: var(--hover-bg-color);\n",
              "    box-shadow: 0 1px 2px rgba(60, 64, 67, 0.3), 0 1px 3px 1px rgba(60, 64, 67, 0.15);\n",
              "    fill: var(--button-hover-fill-color);\n",
              "  }\n",
              "\n",
              "  .colab-df-quickchart-complete:disabled,\n",
              "  .colab-df-quickchart-complete:disabled:hover {\n",
              "    background-color: var(--disabled-bg-color);\n",
              "    fill: var(--disabled-fill-color);\n",
              "    box-shadow: none;\n",
              "  }\n",
              "\n",
              "  .colab-df-spinner {\n",
              "    border: 2px solid var(--fill-color);\n",
              "    border-color: transparent;\n",
              "    border-bottom-color: var(--fill-color);\n",
              "    animation:\n",
              "      spin 1s steps(1) infinite;\n",
              "  }\n",
              "\n",
              "  @keyframes spin {\n",
              "    0% {\n",
              "      border-color: transparent;\n",
              "      border-bottom-color: var(--fill-color);\n",
              "      border-left-color: var(--fill-color);\n",
              "    }\n",
              "    20% {\n",
              "      border-color: transparent;\n",
              "      border-left-color: var(--fill-color);\n",
              "      border-top-color: var(--fill-color);\n",
              "    }\n",
              "    30% {\n",
              "      border-color: transparent;\n",
              "      border-left-color: var(--fill-color);\n",
              "      border-top-color: var(--fill-color);\n",
              "      border-right-color: var(--fill-color);\n",
              "    }\n",
              "    40% {\n",
              "      border-color: transparent;\n",
              "      border-right-color: var(--fill-color);\n",
              "      border-top-color: var(--fill-color);\n",
              "    }\n",
              "    60% {\n",
              "      border-color: transparent;\n",
              "      border-right-color: var(--fill-color);\n",
              "    }\n",
              "    80% {\n",
              "      border-color: transparent;\n",
              "      border-right-color: var(--fill-color);\n",
              "      border-bottom-color: var(--fill-color);\n",
              "    }\n",
              "    90% {\n",
              "      border-color: transparent;\n",
              "      border-bottom-color: var(--fill-color);\n",
              "    }\n",
              "  }\n",
              "</style>\n",
              "\n",
              "  <script>\n",
              "    async function quickchart(key) {\n",
              "      const quickchartButtonEl =\n",
              "        document.querySelector('#' + key + ' button');\n",
              "      quickchartButtonEl.disabled = true;  // To prevent multiple clicks.\n",
              "      quickchartButtonEl.classList.add('colab-df-spinner');\n",
              "      try {\n",
              "        const charts = await google.colab.kernel.invokeFunction(\n",
              "            'suggestCharts', [key], {});\n",
              "      } catch (error) {\n",
              "        console.error('Error during call to suggestCharts:', error);\n",
              "      }\n",
              "      quickchartButtonEl.classList.remove('colab-df-spinner');\n",
              "      quickchartButtonEl.classList.add('colab-df-quickchart-complete');\n",
              "    }\n",
              "    (() => {\n",
              "      let quickchartButtonEl =\n",
              "        document.querySelector('#df-8f1597a1-38d1-48ed-a9f9-91f185feb193 button');\n",
              "      quickchartButtonEl.style.display =\n",
              "        google.colab.kernel.accessAllowed ? 'block' : 'none';\n",
              "    })();\n",
              "  </script>\n",
              "</div>\n",
              "\n",
              "    </div>\n",
              "  </div>\n"
            ],
            "text/plain": [
              "     distance  width  speed  crowd_level  time\n",
              "0  120.400000    1.0    1.4            1    86\n",
              "1  103.549615    1.0    1.7            1    61\n",
              "2   95.000000    1.0    1.0            1    95\n",
              "3   85.000000    1.0    1.0            1    85\n",
              "4   62.000000    1.0    1.0            1    62"
            ]
          },
          "execution_count": 23,
          "metadata": {},
          "output_type": "execute_result"
        }
      ],
      "source": [
        "dataset_df = pd.read_csv(\"dataset.csv\")\n",
        "dataset_df.head()"
      ]
    },
    {
      "cell_type": "markdown",
      "metadata": {
        "id": "O2F20NweM3Mn"
      },
      "source": [
        "## データセットの整形"
      ]
    },
    {
      "cell_type": "code",
      "execution_count": null,
      "metadata": {
        "colab": {
          "base_uri": "https://localhost:8080/"
        },
        "id": "kG6Ey11cKGxZ",
        "outputId": "11fd6720-3cac-41da-837d-7e0e0709030e"
      },
      "outputs": [
        {
          "name": "stdout",
          "output_type": "stream",
          "text": [
            "<class 'pandas.core.frame.DataFrame'>\n",
            "RangeIndex: 10000 entries, 0 to 9999\n",
            "Data columns (total 5 columns):\n",
            " #   Column       Non-Null Count  Dtype  \n",
            "---  ------       --------------  -----  \n",
            " 0   distance     10000 non-null  float64\n",
            " 1   width        10000 non-null  float64\n",
            " 2   speed        10000 non-null  float64\n",
            " 3   crowd_level  10000 non-null  object \n",
            " 4   time         10000 non-null  int64  \n",
            "dtypes: float64(3), int64(1), object(1)\n",
            "memory usage: 390.8+ KB\n"
          ]
        }
      ],
      "source": [
        "# \"crowd_level\"を文字列型に変換\n",
        "dataset_df[\"crowd_level\"] = dataset_df[\"crowd_level\"].astype(str)\n",
        "dataset_df.info()"
      ]
    },
    {
      "cell_type": "code",
      "execution_count": null,
      "metadata": {
        "colab": {
          "base_uri": "https://localhost:8080/"
        },
        "id": "ia70cIteKt6W",
        "outputId": "27f7d84e-4b32-4ccc-d223-67095ab051c9"
      },
      "outputs": [
        {
          "data": {
            "text/html": [
              "\n",
              "  <div id=\"df-dc50d07d-9e05-4a23-a4cb-d23158ce8f0d\" class=\"colab-df-container\">\n",
              "    <div>\n",
              "<style scoped>\n",
              "    .dataframe tbody tr th:only-of-type {\n",
              "        vertical-align: middle;\n",
              "    }\n",
              "\n",
              "    .dataframe tbody tr th {\n",
              "        vertical-align: top;\n",
              "    }\n",
              "\n",
              "    .dataframe thead th {\n",
              "        text-align: right;\n",
              "    }\n",
              "</style>\n",
              "<table border=\"1\" class=\"dataframe\">\n",
              "  <thead>\n",
              "    <tr style=\"text-align: right;\">\n",
              "      <th></th>\n",
              "      <th>distance</th>\n",
              "      <th>width</th>\n",
              "      <th>speed</th>\n",
              "      <th>time</th>\n",
              "      <th>crowd_level_2</th>\n",
              "      <th>crowd_level_3</th>\n",
              "      <th>crowd_level_4</th>\n",
              "      <th>crowd_level_5</th>\n",
              "    </tr>\n",
              "  </thead>\n",
              "  <tbody>\n",
              "    <tr>\n",
              "      <th>0</th>\n",
              "      <td>120.400000</td>\n",
              "      <td>1.0</td>\n",
              "      <td>1.4</td>\n",
              "      <td>86</td>\n",
              "      <td>0</td>\n",
              "      <td>0</td>\n",
              "      <td>0</td>\n",
              "      <td>0</td>\n",
              "    </tr>\n",
              "    <tr>\n",
              "      <th>1</th>\n",
              "      <td>103.549615</td>\n",
              "      <td>1.0</td>\n",
              "      <td>1.7</td>\n",
              "      <td>61</td>\n",
              "      <td>0</td>\n",
              "      <td>0</td>\n",
              "      <td>0</td>\n",
              "      <td>0</td>\n",
              "    </tr>\n",
              "    <tr>\n",
              "      <th>2</th>\n",
              "      <td>95.000000</td>\n",
              "      <td>1.0</td>\n",
              "      <td>1.0</td>\n",
              "      <td>95</td>\n",
              "      <td>0</td>\n",
              "      <td>0</td>\n",
              "      <td>0</td>\n",
              "      <td>0</td>\n",
              "    </tr>\n",
              "    <tr>\n",
              "      <th>3</th>\n",
              "      <td>85.000000</td>\n",
              "      <td>1.0</td>\n",
              "      <td>1.0</td>\n",
              "      <td>85</td>\n",
              "      <td>0</td>\n",
              "      <td>0</td>\n",
              "      <td>0</td>\n",
              "      <td>0</td>\n",
              "    </tr>\n",
              "    <tr>\n",
              "      <th>4</th>\n",
              "      <td>62.000000</td>\n",
              "      <td>1.0</td>\n",
              "      <td>1.0</td>\n",
              "      <td>62</td>\n",
              "      <td>0</td>\n",
              "      <td>0</td>\n",
              "      <td>0</td>\n",
              "      <td>0</td>\n",
              "    </tr>\n",
              "    <tr>\n",
              "      <th>...</th>\n",
              "      <td>...</td>\n",
              "      <td>...</td>\n",
              "      <td>...</td>\n",
              "      <td>...</td>\n",
              "      <td>...</td>\n",
              "      <td>...</td>\n",
              "      <td>...</td>\n",
              "      <td>...</td>\n",
              "    </tr>\n",
              "    <tr>\n",
              "      <th>9995</th>\n",
              "      <td>26.324500</td>\n",
              "      <td>3.0</td>\n",
              "      <td>1.4</td>\n",
              "      <td>27</td>\n",
              "      <td>0</td>\n",
              "      <td>0</td>\n",
              "      <td>0</td>\n",
              "      <td>1</td>\n",
              "    </tr>\n",
              "    <tr>\n",
              "      <th>9996</th>\n",
              "      <td>26.324500</td>\n",
              "      <td>3.0</td>\n",
              "      <td>1.1</td>\n",
              "      <td>27</td>\n",
              "      <td>0</td>\n",
              "      <td>0</td>\n",
              "      <td>0</td>\n",
              "      <td>1</td>\n",
              "    </tr>\n",
              "    <tr>\n",
              "      <th>9997</th>\n",
              "      <td>26.000000</td>\n",
              "      <td>3.0</td>\n",
              "      <td>1.4</td>\n",
              "      <td>21</td>\n",
              "      <td>0</td>\n",
              "      <td>0</td>\n",
              "      <td>0</td>\n",
              "      <td>1</td>\n",
              "    </tr>\n",
              "    <tr>\n",
              "      <th>9998</th>\n",
              "      <td>25.856858</td>\n",
              "      <td>3.0</td>\n",
              "      <td>1.7</td>\n",
              "      <td>22</td>\n",
              "      <td>0</td>\n",
              "      <td>0</td>\n",
              "      <td>0</td>\n",
              "      <td>1</td>\n",
              "    </tr>\n",
              "    <tr>\n",
              "      <th>9999</th>\n",
              "      <td>25.824500</td>\n",
              "      <td>3.0</td>\n",
              "      <td>1.4</td>\n",
              "      <td>22</td>\n",
              "      <td>0</td>\n",
              "      <td>0</td>\n",
              "      <td>0</td>\n",
              "      <td>1</td>\n",
              "    </tr>\n",
              "  </tbody>\n",
              "</table>\n",
              "<p>10000 rows × 8 columns</p>\n",
              "</div>\n",
              "    <div class=\"colab-df-buttons\">\n",
              "\n",
              "  <div class=\"colab-df-container\">\n",
              "    <button class=\"colab-df-convert\" onclick=\"convertToInteractive('df-dc50d07d-9e05-4a23-a4cb-d23158ce8f0d')\"\n",
              "            title=\"Convert this dataframe to an interactive table.\"\n",
              "            style=\"display:none;\">\n",
              "\n",
              "  <svg xmlns=\"http://www.w3.org/2000/svg\" height=\"24px\" viewBox=\"0 -960 960 960\">\n",
              "    <path d=\"M120-120v-720h720v720H120Zm60-500h600v-160H180v160Zm220 220h160v-160H400v160Zm0 220h160v-160H400v160ZM180-400h160v-160H180v160Zm440 0h160v-160H620v160ZM180-180h160v-160H180v160Zm440 0h160v-160H620v160Z\"/>\n",
              "  </svg>\n",
              "    </button>\n",
              "\n",
              "  <style>\n",
              "    .colab-df-container {\n",
              "      display:flex;\n",
              "      gap: 12px;\n",
              "    }\n",
              "\n",
              "    .colab-df-convert {\n",
              "      background-color: #E8F0FE;\n",
              "      border: none;\n",
              "      border-radius: 50%;\n",
              "      cursor: pointer;\n",
              "      display: none;\n",
              "      fill: #1967D2;\n",
              "      height: 32px;\n",
              "      padding: 0 0 0 0;\n",
              "      width: 32px;\n",
              "    }\n",
              "\n",
              "    .colab-df-convert:hover {\n",
              "      background-color: #E2EBFA;\n",
              "      box-shadow: 0px 1px 2px rgba(60, 64, 67, 0.3), 0px 1px 3px 1px rgba(60, 64, 67, 0.15);\n",
              "      fill: #174EA6;\n",
              "    }\n",
              "\n",
              "    .colab-df-buttons div {\n",
              "      margin-bottom: 4px;\n",
              "    }\n",
              "\n",
              "    [theme=dark] .colab-df-convert {\n",
              "      background-color: #3B4455;\n",
              "      fill: #D2E3FC;\n",
              "    }\n",
              "\n",
              "    [theme=dark] .colab-df-convert:hover {\n",
              "      background-color: #434B5C;\n",
              "      box-shadow: 0px 1px 3px 1px rgba(0, 0, 0, 0.15);\n",
              "      filter: drop-shadow(0px 1px 2px rgba(0, 0, 0, 0.3));\n",
              "      fill: #FFFFFF;\n",
              "    }\n",
              "  </style>\n",
              "\n",
              "    <script>\n",
              "      const buttonEl =\n",
              "        document.querySelector('#df-dc50d07d-9e05-4a23-a4cb-d23158ce8f0d button.colab-df-convert');\n",
              "      buttonEl.style.display =\n",
              "        google.colab.kernel.accessAllowed ? 'block' : 'none';\n",
              "\n",
              "      async function convertToInteractive(key) {\n",
              "        const element = document.querySelector('#df-dc50d07d-9e05-4a23-a4cb-d23158ce8f0d');\n",
              "        const dataTable =\n",
              "          await google.colab.kernel.invokeFunction('convertToInteractive',\n",
              "                                                    [key], {});\n",
              "        if (!dataTable) return;\n",
              "\n",
              "        const docLinkHtml = 'Like what you see? Visit the ' +\n",
              "          '<a target=\"_blank\" href=https://colab.research.google.com/notebooks/data_table.ipynb>data table notebook</a>'\n",
              "          + ' to learn more about interactive tables.';\n",
              "        element.innerHTML = '';\n",
              "        dataTable['output_type'] = 'display_data';\n",
              "        await google.colab.output.renderOutput(dataTable, element);\n",
              "        const docLink = document.createElement('div');\n",
              "        docLink.innerHTML = docLinkHtml;\n",
              "        element.appendChild(docLink);\n",
              "      }\n",
              "    </script>\n",
              "  </div>\n",
              "\n",
              "\n",
              "<div id=\"df-a7f9743d-b7a0-4e49-b694-35aeac6fd738\">\n",
              "  <button class=\"colab-df-quickchart\" onclick=\"quickchart('df-a7f9743d-b7a0-4e49-b694-35aeac6fd738')\"\n",
              "            title=\"Suggest charts\"\n",
              "            style=\"display:none;\">\n",
              "\n",
              "<svg xmlns=\"http://www.w3.org/2000/svg\" height=\"24px\"viewBox=\"0 0 24 24\"\n",
              "     width=\"24px\">\n",
              "    <g>\n",
              "        <path d=\"M19 3H5c-1.1 0-2 .9-2 2v14c0 1.1.9 2 2 2h14c1.1 0 2-.9 2-2V5c0-1.1-.9-2-2-2zM9 17H7v-7h2v7zm4 0h-2V7h2v10zm4 0h-2v-4h2v4z\"/>\n",
              "    </g>\n",
              "</svg>\n",
              "  </button>\n",
              "\n",
              "<style>\n",
              "  .colab-df-quickchart {\n",
              "      --bg-color: #E8F0FE;\n",
              "      --fill-color: #1967D2;\n",
              "      --hover-bg-color: #E2EBFA;\n",
              "      --hover-fill-color: #174EA6;\n",
              "      --disabled-fill-color: #AAA;\n",
              "      --disabled-bg-color: #DDD;\n",
              "  }\n",
              "\n",
              "  [theme=dark] .colab-df-quickchart {\n",
              "      --bg-color: #3B4455;\n",
              "      --fill-color: #D2E3FC;\n",
              "      --hover-bg-color: #434B5C;\n",
              "      --hover-fill-color: #FFFFFF;\n",
              "      --disabled-bg-color: #3B4455;\n",
              "      --disabled-fill-color: #666;\n",
              "  }\n",
              "\n",
              "  .colab-df-quickchart {\n",
              "    background-color: var(--bg-color);\n",
              "    border: none;\n",
              "    border-radius: 50%;\n",
              "    cursor: pointer;\n",
              "    display: none;\n",
              "    fill: var(--fill-color);\n",
              "    height: 32px;\n",
              "    padding: 0;\n",
              "    width: 32px;\n",
              "  }\n",
              "\n",
              "  .colab-df-quickchart:hover {\n",
              "    background-color: var(--hover-bg-color);\n",
              "    box-shadow: 0 1px 2px rgba(60, 64, 67, 0.3), 0 1px 3px 1px rgba(60, 64, 67, 0.15);\n",
              "    fill: var(--button-hover-fill-color);\n",
              "  }\n",
              "\n",
              "  .colab-df-quickchart-complete:disabled,\n",
              "  .colab-df-quickchart-complete:disabled:hover {\n",
              "    background-color: var(--disabled-bg-color);\n",
              "    fill: var(--disabled-fill-color);\n",
              "    box-shadow: none;\n",
              "  }\n",
              "\n",
              "  .colab-df-spinner {\n",
              "    border: 2px solid var(--fill-color);\n",
              "    border-color: transparent;\n",
              "    border-bottom-color: var(--fill-color);\n",
              "    animation:\n",
              "      spin 1s steps(1) infinite;\n",
              "  }\n",
              "\n",
              "  @keyframes spin {\n",
              "    0% {\n",
              "      border-color: transparent;\n",
              "      border-bottom-color: var(--fill-color);\n",
              "      border-left-color: var(--fill-color);\n",
              "    }\n",
              "    20% {\n",
              "      border-color: transparent;\n",
              "      border-left-color: var(--fill-color);\n",
              "      border-top-color: var(--fill-color);\n",
              "    }\n",
              "    30% {\n",
              "      border-color: transparent;\n",
              "      border-left-color: var(--fill-color);\n",
              "      border-top-color: var(--fill-color);\n",
              "      border-right-color: var(--fill-color);\n",
              "    }\n",
              "    40% {\n",
              "      border-color: transparent;\n",
              "      border-right-color: var(--fill-color);\n",
              "      border-top-color: var(--fill-color);\n",
              "    }\n",
              "    60% {\n",
              "      border-color: transparent;\n",
              "      border-right-color: var(--fill-color);\n",
              "    }\n",
              "    80% {\n",
              "      border-color: transparent;\n",
              "      border-right-color: var(--fill-color);\n",
              "      border-bottom-color: var(--fill-color);\n",
              "    }\n",
              "    90% {\n",
              "      border-color: transparent;\n",
              "      border-bottom-color: var(--fill-color);\n",
              "    }\n",
              "  }\n",
              "</style>\n",
              "\n",
              "  <script>\n",
              "    async function quickchart(key) {\n",
              "      const quickchartButtonEl =\n",
              "        document.querySelector('#' + key + ' button');\n",
              "      quickchartButtonEl.disabled = true;  // To prevent multiple clicks.\n",
              "      quickchartButtonEl.classList.add('colab-df-spinner');\n",
              "      try {\n",
              "        const charts = await google.colab.kernel.invokeFunction(\n",
              "            'suggestCharts', [key], {});\n",
              "      } catch (error) {\n",
              "        console.error('Error during call to suggestCharts:', error);\n",
              "      }\n",
              "      quickchartButtonEl.classList.remove('colab-df-spinner');\n",
              "      quickchartButtonEl.classList.add('colab-df-quickchart-complete');\n",
              "    }\n",
              "    (() => {\n",
              "      let quickchartButtonEl =\n",
              "        document.querySelector('#df-a7f9743d-b7a0-4e49-b694-35aeac6fd738 button');\n",
              "      quickchartButtonEl.style.display =\n",
              "        google.colab.kernel.accessAllowed ? 'block' : 'none';\n",
              "    })();\n",
              "  </script>\n",
              "</div>\n",
              "\n",
              "  <div id=\"id_7c58da0d-9a05-4931-8ec5-0f24b8daccaf\">\n",
              "    <style>\n",
              "      .colab-df-generate {\n",
              "        background-color: #E8F0FE;\n",
              "        border: none;\n",
              "        border-radius: 50%;\n",
              "        cursor: pointer;\n",
              "        display: none;\n",
              "        fill: #1967D2;\n",
              "        height: 32px;\n",
              "        padding: 0 0 0 0;\n",
              "        width: 32px;\n",
              "      }\n",
              "\n",
              "      .colab-df-generate:hover {\n",
              "        background-color: #E2EBFA;\n",
              "        box-shadow: 0px 1px 2px rgba(60, 64, 67, 0.3), 0px 1px 3px 1px rgba(60, 64, 67, 0.15);\n",
              "        fill: #174EA6;\n",
              "      }\n",
              "\n",
              "      [theme=dark] .colab-df-generate {\n",
              "        background-color: #3B4455;\n",
              "        fill: #D2E3FC;\n",
              "      }\n",
              "\n",
              "      [theme=dark] .colab-df-generate:hover {\n",
              "        background-color: #434B5C;\n",
              "        box-shadow: 0px 1px 3px 1px rgba(0, 0, 0, 0.15);\n",
              "        filter: drop-shadow(0px 1px 2px rgba(0, 0, 0, 0.3));\n",
              "        fill: #FFFFFF;\n",
              "      }\n",
              "    </style>\n",
              "    <button class=\"colab-df-generate\" onclick=\"generateWithVariable('dataset_df')\"\n",
              "            title=\"Generate code using this dataframe.\"\n",
              "            style=\"display:none;\">\n",
              "\n",
              "  <svg xmlns=\"http://www.w3.org/2000/svg\" height=\"24px\"viewBox=\"0 0 24 24\"\n",
              "       width=\"24px\">\n",
              "    <path d=\"M7,19H8.4L18.45,9,17,7.55,7,17.6ZM5,21V16.75L18.45,3.32a2,2,0,0,1,2.83,0l1.4,1.43a1.91,1.91,0,0,1,.58,1.4,1.91,1.91,0,0,1-.58,1.4L9.25,21ZM18.45,9,17,7.55Zm-12,3A5.31,5.31,0,0,0,4.9,8.1,5.31,5.31,0,0,0,1,6.5,5.31,5.31,0,0,0,4.9,4.9,5.31,5.31,0,0,0,6.5,1,5.31,5.31,0,0,0,8.1,4.9,5.31,5.31,0,0,0,12,6.5,5.46,5.46,0,0,0,6.5,12Z\"/>\n",
              "  </svg>\n",
              "    </button>\n",
              "    <script>\n",
              "      (() => {\n",
              "      const buttonEl =\n",
              "        document.querySelector('#id_7c58da0d-9a05-4931-8ec5-0f24b8daccaf button.colab-df-generate');\n",
              "      buttonEl.style.display =\n",
              "        google.colab.kernel.accessAllowed ? 'block' : 'none';\n",
              "\n",
              "      buttonEl.onclick = () => {\n",
              "        google.colab.notebook.generateWithVariable('dataset_df');\n",
              "      }\n",
              "      })();\n",
              "    </script>\n",
              "  </div>\n",
              "\n",
              "    </div>\n",
              "  </div>\n"
            ],
            "text/plain": [
              "        distance  width  speed  time  crowd_level_2  crowd_level_3  \\\n",
              "0     120.400000    1.0    1.4    86              0              0   \n",
              "1     103.549615    1.0    1.7    61              0              0   \n",
              "2      95.000000    1.0    1.0    95              0              0   \n",
              "3      85.000000    1.0    1.0    85              0              0   \n",
              "4      62.000000    1.0    1.0    62              0              0   \n",
              "...          ...    ...    ...   ...            ...            ...   \n",
              "9995   26.324500    3.0    1.4    27              0              0   \n",
              "9996   26.324500    3.0    1.1    27              0              0   \n",
              "9997   26.000000    3.0    1.4    21              0              0   \n",
              "9998   25.856858    3.0    1.7    22              0              0   \n",
              "9999   25.824500    3.0    1.4    22              0              0   \n",
              "\n",
              "      crowd_level_4  crowd_level_5  \n",
              "0                 0              0  \n",
              "1                 0              0  \n",
              "2                 0              0  \n",
              "3                 0              0  \n",
              "4                 0              0  \n",
              "...             ...            ...  \n",
              "9995              0              1  \n",
              "9996              0              1  \n",
              "9997              0              1  \n",
              "9998              0              1  \n",
              "9999              0              1  \n",
              "\n",
              "[10000 rows x 8 columns]"
            ]
          },
          "execution_count": 25,
          "metadata": {},
          "output_type": "execute_result"
        }
      ],
      "source": [
        "# One-Hot Encoding\n",
        "dataset_df = pd.get_dummies(dataset_df, columns=[\"crowd_level\"], drop_first=True)\n",
        "dataset_df"
      ]
    },
    {
      "cell_type": "markdown",
      "metadata": {
        "id": "JsR7WQh753IZ"
      },
      "source": [
        "## 変数の準備"
      ]
    },
    {
      "cell_type": "code",
      "execution_count": null,
      "metadata": {
        "colab": {
          "base_uri": "https://localhost:8080/"
        },
        "id": "XWl9tW7nVSAp",
        "outputId": "b7c22de8-0cb2-4254-8b47-a756bdfb105d"
      },
      "outputs": [
        {
          "name": "stdout",
          "output_type": "stream",
          "text": [
            "cpu\n"
          ]
        }
      ],
      "source": [
        "NUM_CLIENTS = 100  # クライアント数\n",
        "EPOCHS = int(3000 / NUM_CLIENTS)  # 各クライアントのエポック数\n",
        "ROUNDS = 30        # ラウンド数\n",
        "BATCH_SIZE = 1     # バッチサイズ\n",
        "is_random = False  # データセットの分割（True:ランダム, False:歩行速度別）\n",
        "\n",
        "DEVICE = torch.device(\"cuda:0\" if torch.cuda.is_available() else \"cpu\")\n",
        "print(DEVICE)"
      ]
    },
    {
      "cell_type": "markdown",
      "metadata": {
        "id": "yNLIeuc_lhja"
      },
      "source": [
        "## データセットの準備"
      ]
    },
    {
      "cell_type": "code",
      "execution_count": null,
      "metadata": {
        "id": "oq46gu21cU69"
      },
      "outputs": [],
      "source": [
        "# ランダムにデータセットを分割\n",
        "def load_datasets_random():\n",
        "    \"\"\"\n",
        "    データセットをロード\n",
        "    \"\"\"\n",
        "    # 説明変数と目的変数に分割\n",
        "    X = dataset_df.drop([\"distance\", \"time\"], axis=1).values\n",
        "    y = ((dataset_df[\"time\"] / dataset_df[\"distance\"]) - (1 / dataset_df[\"speed\"])).values\n",
        "\n",
        "    # NumPy配列をPyTorchテンソルに変換\n",
        "    X = torch.tensor(X, dtype=torch.float32)\n",
        "    y = torch.tensor(y, dtype=torch.float32)\n",
        "\n",
        "    # サイズを(N, 1)に変更\n",
        "    y = y.view(-1, 1)\n",
        "\n",
        "    # 訓練データとテストデータに分割\n",
        "    X_train, X_test, y_train, y_test = train_test_split(X, y, test_size=0.3, random_state=42)\n",
        "\n",
        "    # 標準化処理\n",
        "    sc = StandardScaler()\n",
        "    sc.fit(X_train)\n",
        "    X_train_std = sc.transform(X_train)\n",
        "    X_test_std = sc.transform(X_test)\n",
        "\n",
        "    # PyTorchテンソルに変換\n",
        "    X_train_std = torch.tensor(X_train_std, dtype=torch.float32)\n",
        "    X_test_std = torch.tensor(X_test_std, dtype=torch.float32)\n",
        "\n",
        "    # 訓練データセットとテストデータセット\n",
        "    trainset = TensorDataset(X_train_std, y_train)\n",
        "    testset = TensorDataset(X_test_std, y_test)\n",
        "\n",
        "    # 訓練データをランダムに分割\n",
        "    partition_size = len(X_train_std) // NUM_CLIENTS\n",
        "    lengths = [partition_size] * NUM_CLIENTS\n",
        "    datasets = random_split(trainset, lengths, torch.Generator().manual_seed(42))\n",
        "\n",
        "    # データローダ\n",
        "    trainloaders = []\n",
        "    valloaders = []\n",
        "    for ds in datasets:\n",
        "        len_val = len(ds) // 10  # 検証データセットの大きさ\n",
        "        len_train = len(ds) - len_val  # 残りの訓練データセットの大きさ\n",
        "        lengths = [len_train, len_val]\n",
        "        ds_train, ds_val = random_split(ds, lengths, torch.Generator().manual_seed(42))\n",
        "\n",
        "        # 学習に訓練データをすべて利用したい場合(しっかりと検証したい場合はコメントアウト)\n",
        "        ds_train, ds_val = ds, ds\n",
        "\n",
        "        trainloaders.append(DataLoader(ds_train, batch_size=BATCH_SIZE, shuffle=True))\n",
        "        valloaders.append(DataLoader(ds_val, batch_size=BATCH_SIZE))\n",
        "    testloader = DataLoader(testset, batch_size=BATCH_SIZE)\n",
        "\n",
        "    return trainloaders, valloaders, testloader"
      ]
    },
    {
      "cell_type": "code",
      "execution_count": null,
      "metadata": {
        "id": "OjDsTSd5afrW"
      },
      "outputs": [],
      "source": [
        "# 歩行速度別にデータセットを分割\n",
        "def load_datasets_by_speed():\n",
        "    \"\"\"\n",
        "    データセットをロード\n",
        "    \"\"\"\n",
        "    # 説明変数と目的変数に分割\n",
        "    X = dataset_df.drop([\"distance\", \"time\"], axis=1).values\n",
        "    y = ((dataset_df[\"time\"] / dataset_df[\"distance\"]) - (1 / dataset_df[\"speed\"])).values\n",
        "\n",
        "    # NumPy配列をPyTorchテンソルに変換\n",
        "    X = torch.tensor(X, dtype=torch.float32)\n",
        "    y = torch.tensor(y, dtype=torch.float32)\n",
        "\n",
        "    # サイズを(N, 1)に変更\n",
        "    y = y.view(-1, 1)\n",
        "\n",
        "    # 訓練データとテストデータに分割\n",
        "    X_train, X_test, y_train, y_test = train_test_split(X, y, test_size=0.3, random_state=42)\n",
        "\n",
        "    # 標準化処理\n",
        "    sc = StandardScaler()\n",
        "    sc.fit(X_train)\n",
        "    X_train_std = sc.transform(X_train)\n",
        "    X_test_std = sc.transform(X_test)\n",
        "\n",
        "    # PyTorchテンソルに変換\n",
        "    X_train_std = torch.tensor(X_train_std, dtype=torch.float32)\n",
        "    X_test_std = torch.tensor(X_test_std, dtype=torch.float32)\n",
        "\n",
        "    # 訓練データセットとテストデータセット\n",
        "    trainset = TensorDataset(X_train_std, y_train)\n",
        "    testset = TensorDataset(X_test_std, y_test)\n",
        "\n",
        "    # 標準化後の歩行速度リスト\n",
        "    std_speed_list = []\n",
        "    for i in range(len(trainset)):\n",
        "        if (trainset[i][0][1] not in std_speed_list):\n",
        "            std_speed_list.append(trainset[i][0][1].item())\n",
        "    print(f\"標準化後の歩行速度リスト\\n  {std_speed_list}\")\n",
        "\n",
        "    # 歩行速度別のグループ\n",
        "    speed_groups = {}\n",
        "    for i in range(len(std_speed_list)):\n",
        "        speed_groups[std_speed_list[i]] = []\n",
        "    for i in range(len(trainset)):\n",
        "        speed_groups[trainset[i][0][1].item()].append(trainset[i])\n",
        "\n",
        "    # 歩行速度別にデータセットを作成\n",
        "    trainset_by_speed = {}\n",
        "    for speed, data in speed_groups.items():\n",
        "        inputs, outputs = zip(*data)\n",
        "        trainset_by_speed[speed] = TensorDataset(torch.stack(inputs), torch.stack(outputs))\n",
        "    print(\"歩行速度別のデータ数\")\n",
        "    for i in range(len(std_speed_list)):\n",
        "        print(f\"  {len(trainset_by_speed[std_speed_list[i]])},\", end=\"\")\n",
        "\n",
        "    print(\"\\n各クライアントのデータ数\")\n",
        "\n",
        "    # 訓練データを歩行速度別に分割\n",
        "    datasets = []\n",
        "    for i in range(len(std_speed_list)):\n",
        "        num_clients_by_speed = int(NUM_CLIENTS / len(std_speed_list))\n",
        "        partition_size = len(trainset_by_speed[std_speed_list[i]]) // num_clients_by_speed\n",
        "        lengths = [partition_size] * num_clients_by_speed\n",
        "        remainder = len(trainset_by_speed[std_speed_list[i]]) - (partition_size * num_clients_by_speed)\n",
        "        for j in range(remainder):\n",
        "            lengths[j] += 1\n",
        "        print(f\"  {lengths},\", end=\"\")\n",
        "\n",
        "        if (num_clients_by_speed == 1):\n",
        "            datasets.append(trainset_by_speed[std_speed_list[i]])\n",
        "        else:\n",
        "            datasets_by_speed = random_split(trainset_by_speed[std_speed_list[i]], lengths, torch.Generator().manual_seed(42))\n",
        "            for k in range(len(datasets_by_speed)):\n",
        "                datasets.append(datasets_by_speed[k])\n",
        "\n",
        "    # データローダ\n",
        "    trainloaders = []\n",
        "    valloaders = []\n",
        "    for ds in datasets:\n",
        "        len_val = len(ds) // 10  # 検証データセットの大きさ\n",
        "        len_train = len(ds) - len_val  # 残りの訓練データセットの大きさ\n",
        "        lengths = [len_train, len_val]\n",
        "        ds_train, ds_val = random_split(ds, lengths, torch.Generator().manual_seed(42))\n",
        "\n",
        "        # 学習に訓練データをすべて利用したい場合(しっかりと検証したい場合はコメントアウト)\n",
        "        ds_train, ds_val = ds, ds\n",
        "\n",
        "        trainloaders.append(DataLoader(ds_train, batch_size=BATCH_SIZE, shuffle=True))\n",
        "        valloaders.append(DataLoader(ds_val, batch_size=BATCH_SIZE))\n",
        "    testloader = DataLoader(testset, batch_size=BATCH_SIZE)\n",
        "\n",
        "    return trainloaders, valloaders, testloader"
      ]
    },
    {
      "cell_type": "code",
      "execution_count": null,
      "metadata": {
        "colab": {
          "base_uri": "https://localhost:8080/"
        },
        "id": "MuwHmmkcayfW",
        "outputId": "2ea049a0-8fb2-45fa-bb07-d32f76b67891"
      },
      "outputs": [
        {
          "name": "stdout",
          "output_type": "stream",
          "text": [
            "標準化後の歩行速度リスト\n",
            "  [-1.6115500926971436, 0.13179686665534973, 0.8291358947753906, -0.5655418038368225, 1.526474952697754, 1.1778054237365723, -0.21687224507331848, -1.262880802154541, -0.9142112731933594, 0.48046639561653137]\n",
            "歩行速度別のデータ数\n",
            "  656,  714,  720,  737,  770,  720,  694,  627,  683,  679,\n",
            "各クライアントのデータ数\n",
            "  [66, 66, 66, 66, 66, 66, 65, 65, 65, 65],  [72, 72, 72, 72, 71, 71, 71, 71, 71, 71],  [72, 72, 72, 72, 72, 72, 72, 72, 72, 72],  [74, 74, 74, 74, 74, 74, 74, 73, 73, 73],  [77, 77, 77, 77, 77, 77, 77, 77, 77, 77],  [72, 72, 72, 72, 72, 72, 72, 72, 72, 72],  [70, 70, 70, 70, 69, 69, 69, 69, 69, 69],  [63, 63, 63, 63, 63, 63, 63, 62, 62, 62],  [69, 69, 69, 68, 68, 68, 68, 68, 68, 68],  [68, 68, 68, 68, 68, 68, 68, 68, 68, 67],"
          ]
        }
      ],
      "source": [
        "if is_random == True:\n",
        "    trainloaders, valloaders, testloader = load_datasets_random()\n",
        "else:\n",
        "    trainloaders, valloaders, testloader = load_datasets_by_speed()"
      ]
    },
    {
      "cell_type": "code",
      "execution_count": null,
      "metadata": {
        "id": "QsxwQPOJUrdQ"
      },
      "outputs": [],
      "source": [
        "# # 訓練データの確認\n",
        "# for data in trainloaders[0]:\n",
        "#     X, y = data\n",
        "#     print(\"Training Data - X:\", X, \"y:\", y)"
      ]
    },
    {
      "cell_type": "markdown",
      "metadata": {
        "id": "zVCmmkm_Ixel"
      },
      "source": [
        "## 線形回帰モデル\n",
        "- 説明変数：width, speed, crowd_level_2, crowd_level_3, crowd_level_4, crowd_level_5\n",
        "- 目的変数：\n",
        "$ \\frac{1}{\\text{distance}} \\left( \\text{time} - \\frac{\\text{distance}}{\\text{speed}} \\right) = \\frac{\\text{time}}{\\text{distance}} - \\frac{1}{\\text{speed}} $"
      ]
    },
    {
      "cell_type": "code",
      "execution_count": null,
      "metadata": {
        "id": "KnhNAUuL2KN8"
      },
      "outputs": [],
      "source": [
        "input_dim = 6   # 説明変数の次元数\n",
        "output_dim = 1  # 目的変数の次元数"
      ]
    },
    {
      "cell_type": "code",
      "execution_count": null,
      "metadata": {
        "id": "VjfEOYqAp--f"
      },
      "outputs": [],
      "source": [
        "class Net(nn.Module):\n",
        "    \"\"\" 線形回帰モデル \"\"\"\n",
        "\n",
        "    def __init__(self, input_dim: int, output_dim: int) -> None:\n",
        "        \"\"\"\n",
        "        コンストラクタ\n",
        "\n",
        "        Parameters\n",
        "        ----------\n",
        "        input_dim : int\n",
        "            入力次元数\n",
        "        output_dim : int\n",
        "            出力次元数\n",
        "        \"\"\"\n",
        "        super().__init__()\n",
        "        self.l1 = nn.Linear(input_dim, output_dim)\n",
        "\n",
        "        nn.init.constant_(self.l1.weight, 1.0)\n",
        "        nn.init.constant_(self.l1.bias, 1.0)\n",
        "\n",
        "    def forward(self, x: torch.Tensor) -> torch.Tensor:\n",
        "        \"\"\"\n",
        "        順伝播\n",
        "\n",
        "        Returns\n",
        "        -------\n",
        "        torch.Tensor\n",
        "            1層目の出力\n",
        "        \"\"\"\n",
        "        return self.l1(x)"
      ]
    },
    {
      "cell_type": "markdown",
      "metadata": {
        "id": "VmDio8Vsl1yj"
      },
      "source": [
        "## 学習関数"
      ]
    },
    {
      "cell_type": "code",
      "execution_count": null,
      "metadata": {
        "id": "D5fPIz36p-7C"
      },
      "outputs": [],
      "source": [
        "def train(net: Net, trainloader: DataLoader, epochs: int, verbose: bool=False) -> np.ndarray:\n",
        "    \"\"\"\n",
        "    訓練データセットで学習\n",
        "\n",
        "    Parameters\n",
        "    ----------\n",
        "    net : DataLoader\n",
        "        線形回帰モデル\n",
        "    trainloader : DataLoader\n",
        "        訓練ローダ\n",
        "    epochs : int\n",
        "        学習回数\n",
        "    verbose : bool, default False\n",
        "        学習の途中経過を出力するかしないか\n",
        "\n",
        "    Returns\n",
        "    -------\n",
        "    history : np.ndarray\n",
        "        学習記録\n",
        "    \"\"\"\n",
        "    criterion_mse = nn.MSELoss()\n",
        "    criterion_mae = nn.L1Loss()\n",
        "    lr = 0.01\n",
        "    optimizer = optim.SGD(net.parameters(), lr=lr)\n",
        "    # optimizer = optim.Adam(net.parameters(), lr=lr)\n",
        "    net.train()\n",
        "\n",
        "    # 学習記録用\n",
        "    history = np.zeros((0, 2))\n",
        "\n",
        "    for epoch in range(epochs):\n",
        "        epoch_mse_loss, epoch_mae_loss = 0.0, 0.0\n",
        "        for X, y in trainloader:\n",
        "            X, y = X.to(DEVICE), y.to(DEVICE)\n",
        "\n",
        "            # 勾配値の初期化\n",
        "            optimizer.zero_grad()\n",
        "\n",
        "            # 予測計算（順伝播）\n",
        "            outputs = net(X)\n",
        "\n",
        "            # 損失計算（MSE）\n",
        "            mse_loss = criterion_mse(outputs, y)\n",
        "\n",
        "            # 損失計算（MAE）\n",
        "            mae_loss = criterion_mae(outputs, y)\n",
        "\n",
        "            # 勾配計算（逆伝播）\n",
        "            mse_loss.backward()\n",
        "\n",
        "            # パラメータの更新\n",
        "            optimizer.step()\n",
        "\n",
        "            # 評価指標\n",
        "            epoch_mse_loss += mse_loss\n",
        "            epoch_mae_loss += mae_loss\n",
        "\n",
        "        epoch_mse_loss /= len(trainloader.dataset)\n",
        "        epoch_mae_loss /= len(trainloader.dataset)\n",
        "\n",
        "        # エポック10回ごとに途中経過を記録\n",
        "        if (epoch % 10 == 0):\n",
        "            history = np.vstack((history, np.array([epoch, epoch_mse_loss.item()])))\n",
        "\n",
        "        if verbose:\n",
        "            if (epoch % 10 == 0):\n",
        "                print(f\"Epoch {epoch}: MSE_loss = {epoch_mse_loss}, MAE_loss = {epoch_mae_loss}\")\n",
        "\n",
        "    return history"
      ]
    },
    {
      "cell_type": "markdown",
      "metadata": {
        "id": "3-nhYFC0l8hs"
      },
      "source": [
        "## テスト関数"
      ]
    },
    {
      "cell_type": "code",
      "execution_count": null,
      "metadata": {
        "id": "zTQOurg3qqSo"
      },
      "outputs": [],
      "source": [
        "def test(net: Net, testloader: DataLoader) -> Tuple[float, float]:\n",
        "    \"\"\"\n",
        "    テストデータセットで評価\n",
        "\n",
        "    Parameters\n",
        "    ----------\n",
        "    net : Net\n",
        "        線形回帰モデル\n",
        "    trainloader : DataLoader\n",
        "        テストローダ\n",
        "\n",
        "    Returns\n",
        "    -------\n",
        "    mse_loss : float\n",
        "        平均二乗誤差 (Mean Squared Error; MSE)\n",
        "    mae_loss : float\n",
        "        平均絶対誤差 (Mean Absolute Error; MAE)\n",
        "    \"\"\"\n",
        "    criterion_mse = nn.MSELoss()\n",
        "    criterion_mae = nn.L1Loss()\n",
        "    mse_loss, mae_loss = 0.0, 0.0\n",
        "    net.eval()\n",
        "\n",
        "    with torch.no_grad():\n",
        "        for X, y in testloader:\n",
        "            X, y = X.to(DEVICE), y.to(DEVICE)\n",
        "            outputs = net(X)\n",
        "            mse_loss += criterion_mse(outputs, y).item()\n",
        "            mae_loss += criterion_mae(outputs, y).item()\n",
        "\n",
        "    mse_loss /= len(testloader.dataset)\n",
        "    mae_loss /= len(testloader.dataset)\n",
        "\n",
        "    return mse_loss, mae_loss"
      ]
    },
    {
      "cell_type": "markdown",
      "metadata": {
        "id": "w4lLKlgskUg6"
      },
      "source": [
        "## Flowerの実装"
      ]
    },
    {
      "cell_type": "code",
      "execution_count": null,
      "metadata": {
        "id": "TmY1m83PqqMg"
      },
      "outputs": [],
      "source": [
        "def get_parameters(net: Net) -> List[np.ndarray]:\n",
        "    \"\"\"\n",
        "    パラメータを取得\n",
        "\n",
        "    Parameters\n",
        "    ----------\n",
        "    net : Net\n",
        "        線形回帰モデル\n",
        "\n",
        "    Returns\n",
        "    -------\n",
        "    List[np.ndarray]\n",
        "        パラメータを格納したリスト\n",
        "    \"\"\"\n",
        "    return [val.cpu().numpy() for _, val in net.state_dict().items()]\n",
        "\n",
        "def set_parameters(net: Net, parameters: List[np.ndarray]) -> None:\n",
        "    \"\"\"\n",
        "    パラメータをモデルに適用\n",
        "\n",
        "    Parameters\n",
        "    ----------\n",
        "    net : Net\n",
        "        線形回帰モデル\n",
        "    parameters : List[np.ndarray]\n",
        "        パラメータを格納したリスト\n",
        "    \"\"\"\n",
        "    params_dict = zip(net.state_dict().keys(), parameters)\n",
        "    state_dict = OrderedDict({k: torch.tensor(v) for k, v in params_dict})\n",
        "    net.load_state_dict(state_dict, strict=True)"
      ]
    },
    {
      "cell_type": "code",
      "execution_count": null,
      "metadata": {
        "id": "uq_qPTMbqqKM"
      },
      "outputs": [],
      "source": [
        "class FlowerClient(fl.client.NumPyClient):\n",
        "    \"\"\" 連合学習を担うFlowerクライアント \"\"\"\n",
        "\n",
        "    def __init__(self, net: Net, trainloader: DataLoader, valloader: DataLoader) -> None:\n",
        "        \"\"\"\n",
        "        コンストラクタ\n",
        "\n",
        "        Parameters\n",
        "        ----------\n",
        "        net : Net\n",
        "            線形回帰モデル\n",
        "        trainloader : DataLoader\n",
        "            訓練ローダ\n",
        "        valloader : DataLoader\n",
        "            検証ローダ\n",
        "        \"\"\"\n",
        "        self.net = net\n",
        "        self.trainloader = trainloader\n",
        "        self.valloader = valloader\n",
        "\n",
        "    def get_parameters(self, config) -> List[np.ndarray]:\n",
        "        \"\"\"\n",
        "        ローカルモデルのパラメータを取得\n",
        "\n",
        "        Returns\n",
        "        -------\n",
        "        List[np.ndarray]\n",
        "            パラメータを格納したリスト\n",
        "        \"\"\"\n",
        "        return get_parameters(self.net)\n",
        "\n",
        "    def fit(self, parameters: List[np.ndarray], config) -> Tuple[List[np.ndarray], int, Dict]:\n",
        "        \"\"\"\n",
        "        サーバからグローバルモデルのパラメータを受信\n",
        "        ローカルの訓練データセットで学習\n",
        "        更新モデルのパラメータをサーバに送信\n",
        "\n",
        "        Parameters\n",
        "        ----------\n",
        "        parameters : List[np.ndarray]\n",
        "            サーバから受信したパラメータを格納したリスト\n",
        "\n",
        "        Returns\n",
        "        -------\n",
        "        List[np.ndarray]\n",
        "            更新モデルのパラメータを格納したリスト\n",
        "        int\n",
        "            ローカルの訓練データセットの大きさ\n",
        "        Dict\n",
        "            空の辞書\n",
        "        \"\"\"\n",
        "        set_parameters(self.net, parameters)\n",
        "        history = train(self.net, self.trainloader, epochs=EPOCHS)\n",
        "        return get_parameters(self.net), len(self.trainloader), {}\n",
        "        # return get_parameters(self.net), len(self.trainloader), history\n",
        "\n",
        "    def evaluate(self, parameters: List[np.ndarray], config) -> Tuple[float, int, Dict]:\n",
        "        \"\"\"\n",
        "        サーバからグローバルモデルのパラメータを受信\n",
        "        ローカルの検証データセットで評価\n",
        "        評価結果をサーバに送信\n",
        "\n",
        "        Parameters\n",
        "        ----------\n",
        "        parameters : List[np.ndarray]\n",
        "            サーバから受信したパラメータを格納したリスト\n",
        "\n",
        "        Returns\n",
        "        -------\n",
        "        mse_loss : float\n",
        "            平均二乗誤差 (Mean Squared Error; MSE)\n",
        "        int\n",
        "            ローカルの検証データセットの大きさ\n",
        "        Dict\n",
        "            平均絶対誤差 (Mean Absolute Error; MAE)のキーと値\n",
        "        \"\"\"\n",
        "        set_parameters(self.net, parameters)\n",
        "        mse_loss, mae_loss = test(self.net, self.valloader)\n",
        "        return float(mse_loss), len(self.valloader), {\"MAE_loss\": mae_loss}"
      ]
    },
    {
      "cell_type": "code",
      "execution_count": null,
      "metadata": {
        "id": "f5if9fbVqqHi"
      },
      "outputs": [],
      "source": [
        "def client_fn(cid: str) -> FlowerClient:\n",
        "    \"\"\"\n",
        "    1つのクライアント組織を表すFlowerクライアントの作成\n",
        "\n",
        "    Parameters\n",
        "    ----------\n",
        "    cid : str\n",
        "        クライアントID\n",
        "\n",
        "    Returns\n",
        "    -------\n",
        "    FlowerClient\n",
        "        クライアントIDによって識別されたFlowerクライアント\n",
        "    \"\"\"\n",
        "\n",
        "    # モデルのロード\n",
        "    net = Net(input_dim, output_dim).to(DEVICE)\n",
        "\n",
        "    # ローカルデータセットのロード\n",
        "    trainloader = trainloaders[int(cid)]\n",
        "    valloader = valloaders[int(cid)]\n",
        "\n",
        "    return FlowerClient(net, trainloader, valloader)"
      ]
    },
    {
      "cell_type": "markdown",
      "metadata": {
        "id": "bIeVyzIPidj8"
      },
      "source": [
        "## 評価関数"
      ]
    },
    {
      "cell_type": "code",
      "execution_count": null,
      "metadata": {
        "id": "lwfw2NEbii0w"
      },
      "outputs": [],
      "source": [
        "# テストデータを混雑度別に分ける\n",
        "X = dataset_df.drop([\"distance\", \"time\"], axis=1)\n",
        "y = (dataset_df[\"time\"] / dataset_df[\"distance\"]) - (1 / dataset_df[\"speed\"])\n",
        "X_train, X_test, y_train, y_test = train_test_split(X, y, test_size=0.3, random_state=42)\n",
        "\n",
        "test_index_1 = X_test[(X_test[\"crowd_level_2\"] == 0) & (X_test[\"crowd_level_3\"] == 0) & (X_test[\"crowd_level_4\"] == 0) & (X_test[\"crowd_level_5\"] == 0)].index\n",
        "test_index_2 = X_test[X_test[\"crowd_level_2\"] == 1].index\n",
        "test_index_3 = X_test[X_test[\"crowd_level_3\"] == 1].index\n",
        "test_index_4 = X_test[X_test[\"crowd_level_4\"] == 1].index\n",
        "test_index_5 = X_test[X_test[\"crowd_level_5\"] == 1].index\n",
        "\n",
        "X_test_1 = X_test.loc[test_index_1].values\n",
        "y_test_1 = y_test.loc[test_index_1].values\n",
        "X_test_2 = X_test.loc[test_index_2].values\n",
        "y_test_2 = y_test.loc[test_index_2].values\n",
        "X_test_3 = X_test.loc[test_index_3].values\n",
        "y_test_3 = y_test.loc[test_index_3].values\n",
        "X_test_4 = X_test.loc[test_index_4].values\n",
        "y_test_4 = y_test.loc[test_index_4].values\n",
        "X_test_5 = X_test.loc[test_index_5].values\n",
        "y_test_5 = y_test.loc[test_index_5].values\n",
        "\n",
        "X_test_1 = torch.tensor(X_test_1, dtype=torch.float32)\n",
        "y_test_1 = torch.tensor(y_test_1, dtype=torch.float32)\n",
        "X_test_2 = torch.tensor(X_test_2, dtype=torch.float32)\n",
        "y_test_2 = torch.tensor(y_test_2, dtype=torch.float32)\n",
        "X_test_3 = torch.tensor(X_test_3, dtype=torch.float32)\n",
        "y_test_3 = torch.tensor(y_test_3, dtype=torch.float32)\n",
        "X_test_4 = torch.tensor(X_test_4, dtype=torch.float32)\n",
        "y_test_4 = torch.tensor(y_test_4, dtype=torch.float32)\n",
        "X_test_5 = torch.tensor(X_test_5, dtype=torch.float32)\n",
        "y_test_5 = torch.tensor(y_test_5, dtype=torch.float32)\n",
        "\n",
        "y_test_1 = y_test_1.view(-1, 1)\n",
        "y_test_2 = y_test_2.view(-1, 1)\n",
        "y_test_3 = y_test_3.view(-1, 1)\n",
        "y_test_4 = y_test_4.view(-1, 1)\n",
        "y_test_5 = y_test_5.view(-1, 1)\n",
        "\n",
        "X = dataset_df.drop([\"distance\", \"time\"], axis=1).values\n",
        "y = (dataset_df[\"time\"] / dataset_df[\"distance\"]) - (1 / dataset_df[\"speed\"]).values\n",
        "X_train, X_test, y_train, y_test = train_test_split(X, y, test_size=0.3, random_state=42)\n",
        "\n",
        "sc = StandardScaler()\n",
        "sc.fit(X_train)\n",
        "\n",
        "X_test_std_1 = sc.transform(X_test_1)\n",
        "X_test_std_2 = sc.transform(X_test_2)\n",
        "X_test_std_3 = sc.transform(X_test_3)\n",
        "X_test_std_4 = sc.transform(X_test_4)\n",
        "X_test_std_5 = sc.transform(X_test_5)\n",
        "\n",
        "X_test_std_1 = torch.tensor(X_test_std_1, dtype=torch.float32)\n",
        "X_test_std_2 = torch.tensor(X_test_std_2, dtype=torch.float32)\n",
        "X_test_std_3 = torch.tensor(X_test_std_3, dtype=torch.float32)\n",
        "X_test_std_4 = torch.tensor(X_test_std_4, dtype=torch.float32)\n",
        "X_test_std_5 = torch.tensor(X_test_std_5, dtype=torch.float32)\n",
        "\n",
        "testset_1 = TensorDataset(X_test_std_1, y_test_1)\n",
        "testloader_1 = DataLoader(testset_1, batch_size=BATCH_SIZE)\n",
        "testset_2 = TensorDataset(X_test_std_2, y_test_2)\n",
        "testloader_2 = DataLoader(testset_2, batch_size=BATCH_SIZE)\n",
        "testset_3 = TensorDataset(X_test_std_3, y_test_3)\n",
        "testloader_3 = DataLoader(testset_3, batch_size=BATCH_SIZE)\n",
        "testset_4 = TensorDataset(X_test_std_4, y_test_4)\n",
        "testloader_4 = DataLoader(testset_4, batch_size=BATCH_SIZE)\n",
        "testset_5 = TensorDataset(X_test_std_5, y_test_5)\n",
        "testloader_5 = DataLoader(testset_5, batch_size=BATCH_SIZE)\n",
        "\n",
        "testloader_n = [testloader_1, testloader_2, testloader_3, testloader_4, testloader_5]"
      ]
    },
    {
      "cell_type": "code",
      "execution_count": null,
      "metadata": {
        "id": "oUA_rpzBzjd3"
      },
      "outputs": [],
      "source": [
        "def evaluate(server_round: int, parameters: fl.common.NDArrays, config: Dict[str, float]) -> Optional[Tuple[float, Dict[str, float]]]:\n",
        "    \"\"\"\n",
        "    各ラウンド後にグローバルモデルを評価\n",
        "\n",
        "    Parameters\n",
        "    ----------\n",
        "    server_round : int\n",
        "        現在のラウンド\n",
        "    parameters : fl.common.NDArrays\n",
        "        パラメータ\n",
        "\n",
        "    Returns\n",
        "    mse_loss : float\n",
        "        平均二乗誤差 (Mean Sauared Error; MSE)\n",
        "    mae_loss_dict : Dict[str, float]\n",
        "        平均絶対誤差 (Mean Absolute Error; MAE)のキーと値\n",
        "    \"\"\"\n",
        "    net = Net(input_dim, output_dim).to(DEVICE)\n",
        "    # 最新のパラメータでグローバルモデルを更新\n",
        "    set_parameters(net, parameters)\n",
        "\n",
        "    mse_loss, mae_loss = test(net, testloader)\n",
        "    mse_loss_dict = {\"MSE_loss\": mse_loss}\n",
        "    mae_loss_dict = {\"MAE_loss\": mae_loss}\n",
        "\n",
        "    print(f\"----- Round {server_round} server-side evaluation -----\")\n",
        "    print(f\"All test data: MSE_loss = {mse_loss}, MAE_loss = {mae_loss}\")\n",
        "\n",
        "    for i in range(len(testloader_n)):\n",
        "        mse_loss_, mae_loss_ = test(net, testloader_n[i])\n",
        "        mse_loss_dict[f\"MSE_loss_{i + 1}\"] = mse_loss_\n",
        "        mae_loss_dict[f\"MAE_loss_{i + 1}\"] = mae_loss_\n",
        "        print(f\"Crowd level {i + 1}: MSE_loss = {mse_loss_}, MAE_loss = {mae_loss_}\")\n",
        "\n",
        "    return mse_loss, mae_loss_dict"
      ]
    },
    {
      "cell_type": "markdown",
      "metadata": {
        "id": "2dIKUcATkeYr"
      },
      "source": [
        "## シミュレーション"
      ]
    },
    {
      "cell_type": "code",
      "execution_count": null,
      "metadata": {
        "colab": {
          "background_save": true,
          "base_uri": "https://localhost:8080/"
        },
        "id": "C37inxcrqqFM",
        "outputId": "a8216fce-a8bf-4a30-8fb8-206ca7781b45"
      },
      "outputs": [
        {
          "name": "stderr",
          "output_type": "stream",
          "text": [
            "INFO flwr 2024-01-18 10:45:01,476 | app.py:178 | Starting Flower simulation, config: ServerConfig(num_rounds=30, round_timeout=None)\n",
            "INFO:flwr:Starting Flower simulation, config: ServerConfig(num_rounds=30, round_timeout=None)\n",
            "2024-01-18 10:45:05,815\tINFO worker.py:1621 -- Started a local Ray instance.\n",
            "INFO flwr 2024-01-18 10:45:07,770 | app.py:213 | Flower VCE: Ray initialized with resources: {'node:__internal_head__': 1.0, 'node:172.28.0.12': 1.0, 'memory': 32386100430.0, 'object_store_memory': 16193050214.0, 'CPU': 8.0}\n",
            "INFO:flwr:Flower VCE: Ray initialized with resources: {'node:__internal_head__': 1.0, 'node:172.28.0.12': 1.0, 'memory': 32386100430.0, 'object_store_memory': 16193050214.0, 'CPU': 8.0}\n",
            "INFO flwr 2024-01-18 10:45:07,776 | app.py:219 | Optimize your simulation with Flower VCE: https://flower.dev/docs/framework/how-to-run-simulations.html\n",
            "INFO:flwr:Optimize your simulation with Flower VCE: https://flower.dev/docs/framework/how-to-run-simulations.html\n",
            "INFO flwr 2024-01-18 10:45:07,780 | app.py:242 | Flower VCE: Resources for each Virtual Client: {'num_cpus': 8, 'num_gpus': 0}\n",
            "INFO:flwr:Flower VCE: Resources for each Virtual Client: {'num_cpus': 8, 'num_gpus': 0}\n",
            "INFO flwr 2024-01-18 10:45:07,802 | app.py:288 | Flower VCE: Creating VirtualClientEngineActorPool with 1 actors\n",
            "INFO:flwr:Flower VCE: Creating VirtualClientEngineActorPool with 1 actors\n",
            "INFO flwr 2024-01-18 10:45:07,809 | server.py:89 | Initializing global parameters\n",
            "INFO:flwr:Initializing global parameters\n",
            "INFO flwr 2024-01-18 10:45:07,813 | server.py:272 | Using initial parameters provided by strategy\n",
            "INFO:flwr:Using initial parameters provided by strategy\n",
            "INFO flwr 2024-01-18 10:45:07,817 | server.py:91 | Evaluating initial parameters\n",
            "INFO:flwr:Evaluating initial parameters\n"
          ]
        },
        {
          "name": "stdout",
          "output_type": "stream",
          "text": [
            "----- Round 0 server-side evaluation -----\n",
            "All test data: MSE_loss = 3.680575243328568, MAE_loss = 1.5870249590898553\n",
            "Crowd level 1: MSE_loss = 3.3662569517754735, MAE_loss = 1.5237905299082732\n",
            "Crowd level 2: MSE_loss = 3.889489654584127, MAE_loss = 1.6402422723103498\n",
            "Crowd level 3: MSE_loss = 4.043093486310407, MAE_loss = 1.681275717254545\n",
            "Crowd level 4: MSE_loss = 3.9249997778575585, MAE_loss = 1.6377711890214315\n"
          ]
        },
        {
          "name": "stderr",
          "output_type": "stream",
          "text": [
            "INFO flwr 2024-01-18 10:45:09,408 | server.py:94 | initial parameters (loss, other metrics): 3.680575243328568, {'MAE_loss': 1.5870249590898553, 'MAE_loss_1': 1.5237905299082732, 'MAE_loss_2': 1.6402422723103498, 'MAE_loss_3': 1.681275717254545, 'MAE_loss_4': 1.6377711890214315, 'MAE_loss_5': 1.4529072625502464}\n",
            "INFO:flwr:initial parameters (loss, other metrics): 3.680575243328568, {'MAE_loss': 1.5870249590898553, 'MAE_loss_1': 1.5237905299082732, 'MAE_loss_2': 1.6402422723103498, 'MAE_loss_3': 1.681275717254545, 'MAE_loss_4': 1.6377711890214315, 'MAE_loss_5': 1.4529072625502464}\n",
            "INFO flwr 2024-01-18 10:45:09,415 | server.py:104 | FL starting\n",
            "INFO:flwr:FL starting\n",
            "DEBUG flwr 2024-01-18 10:45:09,420 | server.py:222 | fit_round 1: strategy sampled 100 clients (out of 100)\n",
            "DEBUG:flwr:fit_round 1: strategy sampled 100 clients (out of 100)\n"
          ]
        },
        {
          "name": "stdout",
          "output_type": "stream",
          "text": [
            "Crowd level 5: MSE_loss = 3.1872224137294847, MAE_loss = 1.4529072625502464\n"
          ]
        },
        {
          "name": "stderr",
          "output_type": "stream",
          "text": [
            "\u001b[2m\u001b[36m(pid=25261)\u001b[0m 2024-01-18 10:45:09.487923: E external/local_xla/xla/stream_executor/cuda/cuda_dnn.cc:9261] Unable to register cuDNN factory: Attempting to register factory for plugin cuDNN when one has already been registered\n",
            "\u001b[2m\u001b[36m(pid=25261)\u001b[0m 2024-01-18 10:45:09.488023: E external/local_xla/xla/stream_executor/cuda/cuda_fft.cc:607] Unable to register cuFFT factory: Attempting to register factory for plugin cuFFT when one has already been registered\n",
            "\u001b[2m\u001b[36m(pid=25261)\u001b[0m 2024-01-18 10:45:09.489487: E external/local_xla/xla/stream_executor/cuda/cuda_blas.cc:1515] Unable to register cuBLAS factory: Attempting to register factory for plugin cuBLAS when one has already been registered\n",
            "\u001b[2m\u001b[36m(pid=25261)\u001b[0m 2024-01-18 10:45:10.930534: W tensorflow/compiler/tf2tensorrt/utils/py_utils.cc:38] TF-TRT Warning: Could not find TensorRT\n",
            "DEBUG flwr 2024-01-18 10:47:24,944 | server.py:236 | fit_round 1 received 100 results and 0 failures\n",
            "DEBUG:flwr:fit_round 1 received 100 results and 0 failures\n",
            "WARNING flwr 2024-01-18 10:47:24,987 | fedavg.py:242 | No fit_metrics_aggregation_fn provided\n",
            "WARNING:flwr:No fit_metrics_aggregation_fn provided\n"
          ]
        },
        {
          "name": "stdout",
          "output_type": "stream",
          "text": [
            "----- Round 1 server-side evaluation -----\n",
            "All test data: MSE_loss = 0.46949930829301123, MAE_loss = 0.5697634032465285\n",
            "Crowd level 1: MSE_loss = 0.48323486606846494, MAE_loss = 0.5732271261887026\n",
            "Crowd level 2: MSE_loss = 0.5003722950971289, MAE_loss = 0.597747358034937\n",
            "Crowd level 3: MSE_loss = 0.4756880601474416, MAE_loss = 0.5799297347603762\n"
          ]
        },
        {
          "name": "stderr",
          "output_type": "stream",
          "text": [
            "INFO flwr 2024-01-18 10:47:26,257 | server.py:125 | fit progress: (1, 0.46949930829301123, {'MAE_loss': 0.5697634032465285, 'MAE_loss_1': 0.5732271261887026, 'MAE_loss_2': 0.597747358034937, 'MAE_loss_3': 0.5799297347603762, 'MAE_loss_4': 0.5712926386128345, 'MAE_loss_5': 0.5259582449655177}, 136.83754547900025)\n",
            "INFO:flwr:fit progress: (1, 0.46949930829301123, {'MAE_loss': 0.5697634032465285, 'MAE_loss_1': 0.5732271261887026, 'MAE_loss_2': 0.597747358034937, 'MAE_loss_3': 0.5799297347603762, 'MAE_loss_4': 0.5712926386128345, 'MAE_loss_5': 0.5259582449655177}, 136.83754547900025)\n",
            "DEBUG flwr 2024-01-18 10:47:26,261 | server.py:173 | evaluate_round 1: strategy sampled 100 clients (out of 100)\n",
            "DEBUG:flwr:evaluate_round 1: strategy sampled 100 clients (out of 100)\n"
          ]
        },
        {
          "name": "stdout",
          "output_type": "stream",
          "text": [
            "Crowd level 4: MSE_loss = 0.4655874396564897, MAE_loss = 0.5712926386128345\n",
            "Crowd level 5: MSE_loss = 0.4213926522312691, MAE_loss = 0.5259582449655177\n"
          ]
        },
        {
          "name": "stderr",
          "output_type": "stream",
          "text": [
            "DEBUG flwr 2024-01-18 10:47:30,728 | server.py:187 | evaluate_round 1 received 100 results and 0 failures\n",
            "DEBUG:flwr:evaluate_round 1 received 100 results and 0 failures\n",
            "WARNING flwr 2024-01-18 10:47:30,733 | fedavg.py:273 | No evaluate_metrics_aggregation_fn provided\n",
            "WARNING:flwr:No evaluate_metrics_aggregation_fn provided\n",
            "DEBUG flwr 2024-01-18 10:47:30,737 | server.py:222 | fit_round 2: strategy sampled 100 clients (out of 100)\n",
            "DEBUG:flwr:fit_round 2: strategy sampled 100 clients (out of 100)\n",
            "DEBUG flwr 2024-01-18 10:49:39,039 | server.py:236 | fit_round 2 received 100 results and 0 failures\n",
            "DEBUG:flwr:fit_round 2 received 100 results and 0 failures\n"
          ]
        },
        {
          "name": "stdout",
          "output_type": "stream",
          "text": [
            "----- Round 2 server-side evaluation -----\n",
            "All test data: MSE_loss = 0.14804834019612664, MAE_loss = 0.3228543002976415\n",
            "Crowd level 1: MSE_loss = 0.16518849360534432, MAE_loss = 0.34619150317003267\n",
            "Crowd level 2: MSE_loss = 0.16342331997785348, MAE_loss = 0.34849791547721615\n",
            "Crowd level 3: MSE_loss = 0.1485491566832278, MAE_loss = 0.32354427286897036\n"
          ]
        },
        {
          "name": "stderr",
          "output_type": "stream",
          "text": [
            "INFO flwr 2024-01-18 10:49:40,277 | server.py:125 | fit progress: (2, 0.14804834019612664, {'MAE_loss': 0.3228543002976415, 'MAE_loss_1': 0.34619150317003267, 'MAE_loss_2': 0.34849791547721615, 'MAE_loss_3': 0.32354427286897036, 'MAE_loss_4': 0.30928202604233884, 'MAE_loss_5': 0.2850629676683649}, 270.8571521949998)\n",
            "INFO:flwr:fit progress: (2, 0.14804834019612664, {'MAE_loss': 0.3228543002976415, 'MAE_loss_1': 0.34619150317003267, 'MAE_loss_2': 0.34849791547721615, 'MAE_loss_3': 0.32354427286897036, 'MAE_loss_4': 0.30928202604233884, 'MAE_loss_5': 0.2850629676683649}, 270.8571521949998)\n",
            "DEBUG flwr 2024-01-18 10:49:40,283 | server.py:173 | evaluate_round 2: strategy sampled 100 clients (out of 100)\n",
            "DEBUG:flwr:evaluate_round 2: strategy sampled 100 clients (out of 100)\n"
          ]
        },
        {
          "name": "stdout",
          "output_type": "stream",
          "text": [
            "Crowd level 4: MSE_loss = 0.1375844529062289, MAE_loss = 0.30928202604233884\n",
            "Crowd level 5: MSE_loss = 0.12426074496233148, MAE_loss = 0.2850629676683649\n"
          ]
        },
        {
          "name": "stderr",
          "output_type": "stream",
          "text": [
            "DEBUG flwr 2024-01-18 10:49:44,677 | server.py:187 | evaluate_round 2 received 100 results and 0 failures\n",
            "DEBUG:flwr:evaluate_round 2 received 100 results and 0 failures\n",
            "DEBUG flwr 2024-01-18 10:49:44,680 | server.py:222 | fit_round 3: strategy sampled 100 clients (out of 100)\n",
            "DEBUG:flwr:fit_round 3: strategy sampled 100 clients (out of 100)\n",
            "DEBUG flwr 2024-01-18 10:51:52,472 | server.py:236 | fit_round 3 received 100 results and 0 failures\n",
            "DEBUG:flwr:fit_round 3 received 100 results and 0 failures\n"
          ]
        },
        {
          "name": "stdout",
          "output_type": "stream",
          "text": [
            "----- Round 3 server-side evaluation -----\n",
            "All test data: MSE_loss = 0.05484362477856174, MAE_loss = 0.19545238763662443\n",
            "Crowd level 1: MSE_loss = 0.06515082648886014, MAE_loss = 0.21952373909052855\n",
            "Crowd level 2: MSE_loss = 0.06176704627037585, MAE_loss = 0.2142340681515043\n",
            "Crowd level 3: MSE_loss = 0.054219851679360526, MAE_loss = 0.1952458862856519\n"
          ]
        },
        {
          "name": "stderr",
          "output_type": "stream",
          "text": [
            "INFO flwr 2024-01-18 10:51:53,728 | server.py:125 | fit progress: (3, 0.05484362477856174, {'MAE_loss': 0.19545238763662443, 'MAE_loss_1': 0.21952373909052855, 'MAE_loss_2': 0.2142340681515043, 'MAE_loss_3': 0.1952458862856519, 'MAE_loss_4': 0.18010034238080788, 'MAE_loss_5': 0.16645910175626305}, 404.30768414500017)\n",
            "INFO:flwr:fit progress: (3, 0.05484362477856174, {'MAE_loss': 0.19545238763662443, 'MAE_loss_1': 0.21952373909052855, 'MAE_loss_2': 0.2142340681515043, 'MAE_loss_3': 0.1952458862856519, 'MAE_loss_4': 0.18010034238080788, 'MAE_loss_5': 0.16645910175626305}, 404.30768414500017)\n",
            "DEBUG flwr 2024-01-18 10:51:53,731 | server.py:173 | evaluate_round 3: strategy sampled 100 clients (out of 100)\n",
            "DEBUG:flwr:evaluate_round 3: strategy sampled 100 clients (out of 100)\n"
          ]
        },
        {
          "name": "stdout",
          "output_type": "stream",
          "text": [
            "Crowd level 4: MSE_loss = 0.04780213652792296, MAE_loss = 0.18010034238080788\n",
            "Crowd level 5: MSE_loss = 0.04456977211872139, MAE_loss = 0.16645910175626305\n"
          ]
        },
        {
          "name": "stderr",
          "output_type": "stream",
          "text": [
            "DEBUG flwr 2024-01-18 10:51:58,651 | server.py:187 | evaluate_round 3 received 100 results and 0 failures\n",
            "DEBUG:flwr:evaluate_round 3 received 100 results and 0 failures\n",
            "DEBUG flwr 2024-01-18 10:51:58,655 | server.py:222 | fit_round 4: strategy sampled 100 clients (out of 100)\n",
            "DEBUG:flwr:fit_round 4: strategy sampled 100 clients (out of 100)\n",
            "DEBUG flwr 2024-01-18 10:54:07,701 | server.py:236 | fit_round 4 received 100 results and 0 failures\n",
            "DEBUG:flwr:fit_round 4 received 100 results and 0 failures\n"
          ]
        },
        {
          "name": "stdout",
          "output_type": "stream",
          "text": [
            "----- Round 4 server-side evaluation -----\n",
            "All test data: MSE_loss = 0.02472620936624268, MAE_loss = 0.1301823958524037\n",
            "Crowd level 1: MSE_loss = 0.029117283555582362, MAE_loss = 0.14770043938689992\n",
            "Crowd level 2: MSE_loss = 0.02669398612190299, MAE_loss = 0.1406091727921503\n",
            "Crowd level 3: MSE_loss = 0.0237192998498072, MAE_loss = 0.12725673849984515\n"
          ]
        },
        {
          "name": "stderr",
          "output_type": "stream",
          "text": [
            "INFO flwr 2024-01-18 10:54:08,956 | server.py:125 | fit progress: (4, 0.02472620936624268, {'MAE_loss': 0.1301823958524037, 'MAE_loss_1': 0.14770043938689992, 'MAE_loss_2': 0.1406091727921503, 'MAE_loss_3': 0.12725673849984515, 'MAE_loss_4': 0.11829500035733648, 'MAE_loss_5': 0.1159182050627465}, 539.535963925)\n",
            "INFO:flwr:fit progress: (4, 0.02472620936624268, {'MAE_loss': 0.1301823958524037, 'MAE_loss_1': 0.14770043938689992, 'MAE_loss_2': 0.1406091727921503, 'MAE_loss_3': 0.12725673849984515, 'MAE_loss_4': 0.11829500035733648, 'MAE_loss_5': 0.1159182050627465}, 539.535963925)\n",
            "DEBUG flwr 2024-01-18 10:54:08,960 | server.py:173 | evaluate_round 4: strategy sampled 100 clients (out of 100)\n",
            "DEBUG:flwr:evaluate_round 4: strategy sampled 100 clients (out of 100)\n"
          ]
        },
        {
          "name": "stdout",
          "output_type": "stream",
          "text": [
            "Crowd level 4: MSE_loss = 0.021278114661716155, MAE_loss = 0.11829500035733648\n",
            "Crowd level 5: MSE_loss = 0.022546486071131116, MAE_loss = 0.1159182050627465\n"
          ]
        },
        {
          "name": "stderr",
          "output_type": "stream",
          "text": [
            "DEBUG flwr 2024-01-18 10:54:13,719 | server.py:187 | evaluate_round 4 received 100 results and 0 failures\n",
            "DEBUG:flwr:evaluate_round 4 received 100 results and 0 failures\n",
            "DEBUG flwr 2024-01-18 10:54:13,724 | server.py:222 | fit_round 5: strategy sampled 100 clients (out of 100)\n",
            "DEBUG:flwr:fit_round 5: strategy sampled 100 clients (out of 100)\n",
            "DEBUG flwr 2024-01-18 10:56:22,042 | server.py:236 | fit_round 5 received 100 results and 0 failures\n",
            "DEBUG:flwr:fit_round 5 received 100 results and 0 failures\n"
          ]
        },
        {
          "name": "stdout",
          "output_type": "stream",
          "text": [
            "----- Round 5 server-side evaluation -----\n",
            "All test data: MSE_loss = 0.014084624024635176, MAE_loss = 0.09603059219169276\n",
            "Crowd level 1: MSE_loss = 0.014529463897054791, MAE_loss = 0.10449169006960365\n",
            "Crowd level 2: MSE_loss = 0.013147834183419691, MAE_loss = 0.09795995158645247\n",
            "Crowd level 3: MSE_loss = 0.012924629786215011, MAE_loss = 0.09072499037262235\n"
          ]
        },
        {
          "name": "stderr",
          "output_type": "stream",
          "text": [
            "INFO flwr 2024-01-18 10:56:23,274 | server.py:125 | fit progress: (5, 0.014084624024635176, {'MAE_loss': 0.09603059219169276, 'MAE_loss_1': 0.10449169006960365, 'MAE_loss_2': 0.09795995158645247, 'MAE_loss_3': 0.09072499037262235, 'MAE_loss_4': 0.08913580549255729, 'MAE_loss_5': 0.09743311389978716}, 673.8544152439999)\n",
            "INFO:flwr:fit progress: (5, 0.014084624024635176, {'MAE_loss': 0.09603059219169276, 'MAE_loss_1': 0.10449169006960365, 'MAE_loss_2': 0.09795995158645247, 'MAE_loss_3': 0.09072499037262235, 'MAE_loss_4': 0.08913580549255729, 'MAE_loss_5': 0.09743311389978716}, 673.8544152439999)\n",
            "DEBUG flwr 2024-01-18 10:56:23,279 | server.py:173 | evaluate_round 5: strategy sampled 100 clients (out of 100)\n",
            "DEBUG:flwr:evaluate_round 5: strategy sampled 100 clients (out of 100)\n"
          ]
        },
        {
          "name": "stdout",
          "output_type": "stream",
          "text": [
            "Crowd level 4: MSE_loss = 0.012965590437278329, MAE_loss = 0.08913580549255729\n",
            "Crowd level 5: MSE_loss = 0.016862703178800634, MAE_loss = 0.09743311389978716\n"
          ]
        },
        {
          "name": "stderr",
          "output_type": "stream",
          "text": [
            "DEBUG flwr 2024-01-18 10:56:27,953 | server.py:187 | evaluate_round 5 received 100 results and 0 failures\n",
            "DEBUG:flwr:evaluate_round 5 received 100 results and 0 failures\n",
            "DEBUG flwr 2024-01-18 10:56:27,956 | server.py:222 | fit_round 6: strategy sampled 100 clients (out of 100)\n",
            "DEBUG:flwr:fit_round 6: strategy sampled 100 clients (out of 100)\n",
            "DEBUG flwr 2024-01-18 10:58:34,619 | server.py:236 | fit_round 6 received 100 results and 0 failures\n",
            "DEBUG:flwr:fit_round 6 received 100 results and 0 failures\n"
          ]
        },
        {
          "name": "stdout",
          "output_type": "stream",
          "text": [
            "----- Round 6 server-side evaluation -----\n",
            "All test data: MSE_loss = 0.01032724000809923, MAE_loss = 0.07990823404619005\n",
            "Crowd level 1: MSE_loss = 0.008378969148819809, MAE_loss = 0.07920197753113703\n",
            "Crowd level 2: MSE_loss = 0.00765039662454152, MAE_loss = 0.07373673604665774\n",
            "Crowd level 3: MSE_loss = 0.008981064348149867, MAE_loss = 0.07211041627623538\n"
          ]
        },
        {
          "name": "stderr",
          "output_type": "stream",
          "text": [
            "INFO flwr 2024-01-18 10:58:35,833 | server.py:125 | fit progress: (6, 0.01032724000809923, {'MAE_loss': 0.07990823404619005, 'MAE_loss_1': 0.07920197753113703, 'MAE_loss_2': 0.07373673604665774, 'MAE_loss_3': 0.07211041627623538, 'MAE_loss_4': 0.07670902260475511, 'MAE_loss_5': 0.09809921292867986}, 806.4131441700001)\n",
            "INFO:flwr:fit progress: (6, 0.01032724000809923, {'MAE_loss': 0.07990823404619005, 'MAE_loss_1': 0.07920197753113703, 'MAE_loss_2': 0.07373673604665774, 'MAE_loss_3': 0.07211041627623538, 'MAE_loss_4': 0.07670902260475511, 'MAE_loss_5': 0.09809921292867986}, 806.4131441700001)\n",
            "DEBUG flwr 2024-01-18 10:58:35,836 | server.py:173 | evaluate_round 6: strategy sampled 100 clients (out of 100)\n",
            "DEBUG:flwr:evaluate_round 6: strategy sampled 100 clients (out of 100)\n"
          ]
        },
        {
          "name": "stdout",
          "output_type": "stream",
          "text": [
            "Crowd level 4: MSE_loss = 0.010656091724374027, MAE_loss = 0.07670902260475511\n",
            "Crowd level 5: MSE_loss = 0.01615194512834055, MAE_loss = 0.09809921292867986\n"
          ]
        },
        {
          "name": "stderr",
          "output_type": "stream",
          "text": [
            "DEBUG flwr 2024-01-18 10:58:40,524 | server.py:187 | evaluate_round 6 received 100 results and 0 failures\n",
            "DEBUG:flwr:evaluate_round 6 received 100 results and 0 failures\n",
            "DEBUG flwr 2024-01-18 10:58:40,527 | server.py:222 | fit_round 7: strategy sampled 100 clients (out of 100)\n",
            "DEBUG:flwr:fit_round 7: strategy sampled 100 clients (out of 100)\n",
            "DEBUG flwr 2024-01-18 11:00:47,931 | server.py:236 | fit_round 7 received 100 results and 0 failures\n",
            "DEBUG:flwr:fit_round 7 received 100 results and 0 failures\n"
          ]
        },
        {
          "name": "stdout",
          "output_type": "stream",
          "text": [
            "----- Round 7 server-side evaluation -----\n",
            "All test data: MSE_loss = 0.008899938409406297, MAE_loss = 0.07207620238202314\n",
            "Crowd level 1: MSE_loss = 0.00551189332626156, MAE_loss = 0.0640751936187679\n",
            "Crowd level 2: MSE_loss = 0.005200165631203282, MAE_loss = 0.05969989383530168\n",
            "Crowd level 3: MSE_loss = 0.007435961138165957, MAE_loss = 0.062173021088361924\n"
          ]
        },
        {
          "name": "stderr",
          "output_type": "stream",
          "text": [
            "INFO flwr 2024-01-18 11:00:49,209 | server.py:125 | fit progress: (7, 0.008899938409406297, {'MAE_loss': 0.07207620238202314, 'MAE_loss_1': 0.0640751936187679, 'MAE_loss_2': 0.05969989383530168, 'MAE_loss_3': 0.062173021088361924, 'MAE_loss_4': 0.07241172109226607, 'MAE_loss_5': 0.10292175757194315}, 939.7889708439998)\n",
            "INFO:flwr:fit progress: (7, 0.008899938409406297, {'MAE_loss': 0.07207620238202314, 'MAE_loss_1': 0.0640751936187679, 'MAE_loss_2': 0.05969989383530168, 'MAE_loss_3': 0.062173021088361924, 'MAE_loss_4': 0.07241172109226607, 'MAE_loss_5': 0.10292175757194315}, 939.7889708439998)\n",
            "DEBUG flwr 2024-01-18 11:00:49,213 | server.py:173 | evaluate_round 7: strategy sampled 100 clients (out of 100)\n",
            "DEBUG:flwr:evaluate_round 7: strategy sampled 100 clients (out of 100)\n"
          ]
        },
        {
          "name": "stdout",
          "output_type": "stream",
          "text": [
            "Crowd level 4: MSE_loss = 0.010096493173573555, MAE_loss = 0.07241172109226607\n",
            "Crowd level 5: MSE_loss = 0.016542927747933634, MAE_loss = 0.10292175757194315\n"
          ]
        },
        {
          "name": "stderr",
          "output_type": "stream",
          "text": [
            "DEBUG flwr 2024-01-18 11:00:53,820 | server.py:187 | evaluate_round 7 received 100 results and 0 failures\n",
            "DEBUG:flwr:evaluate_round 7 received 100 results and 0 failures\n",
            "DEBUG flwr 2024-01-18 11:00:53,823 | server.py:222 | fit_round 8: strategy sampled 100 clients (out of 100)\n",
            "DEBUG:flwr:fit_round 8: strategy sampled 100 clients (out of 100)\n",
            "DEBUG flwr 2024-01-18 11:03:00,927 | server.py:236 | fit_round 8 received 100 results and 0 failures\n",
            "DEBUG:flwr:fit_round 8 received 100 results and 0 failures\n"
          ]
        },
        {
          "name": "stdout",
          "output_type": "stream",
          "text": [
            "----- Round 8 server-side evaluation -----\n",
            "All test data: MSE_loss = 0.008294067837980711, MAE_loss = 0.0676684593577714\n",
            "Crowd level 1: MSE_loss = 0.00393718951788485, MAE_loss = 0.053982522999555374\n",
            "Crowd level 2: MSE_loss = 0.003888349053847484, MAE_loss = 0.05074317280798772\n",
            "Crowd level 3: MSE_loss = 0.006769336199854628, MAE_loss = 0.05707845364575137\n"
          ]
        },
        {
          "name": "stderr",
          "output_type": "stream",
          "text": [
            "INFO flwr 2024-01-18 11:03:02,154 | server.py:125 | fit progress: (8, 0.008294067837980711, {'MAE_loss': 0.0676684593577714, 'MAE_loss_1': 0.053982522999555374, 'MAE_loss_2': 0.05074317280798772, 'MAE_loss_3': 0.05707845364575137, 'MAE_loss_4': 0.0714379957022324, 'MAE_loss_5': 0.1064269304851067}, 1072.7339867310002)\n",
            "INFO:flwr:fit progress: (8, 0.008294067837980711, {'MAE_loss': 0.0676684593577714, 'MAE_loss_1': 0.053982522999555374, 'MAE_loss_2': 0.05074317280798772, 'MAE_loss_3': 0.05707845364575137, 'MAE_loss_4': 0.0714379957022324, 'MAE_loss_5': 0.1064269304851067}, 1072.7339867310002)\n",
            "DEBUG flwr 2024-01-18 11:03:02,156 | server.py:173 | evaluate_round 8: strategy sampled 100 clients (out of 100)\n",
            "DEBUG:flwr:evaluate_round 8: strategy sampled 100 clients (out of 100)\n"
          ]
        },
        {
          "name": "stdout",
          "output_type": "stream",
          "text": [
            "Crowd level 4: MSE_loss = 0.010078803257065035, MAE_loss = 0.0714379957022324\n",
            "Crowd level 5: MSE_loss = 0.01715482687561356, MAE_loss = 0.1064269304851067\n"
          ]
        },
        {
          "name": "stderr",
          "output_type": "stream",
          "text": [
            "DEBUG flwr 2024-01-18 11:03:06,497 | server.py:187 | evaluate_round 8 received 100 results and 0 failures\n",
            "DEBUG:flwr:evaluate_round 8 received 100 results and 0 failures\n",
            "DEBUG flwr 2024-01-18 11:03:06,500 | server.py:222 | fit_round 9: strategy sampled 100 clients (out of 100)\n",
            "DEBUG:flwr:fit_round 9: strategy sampled 100 clients (out of 100)\n",
            "DEBUG flwr 2024-01-18 11:05:14,122 | server.py:236 | fit_round 9 received 100 results and 0 failures\n",
            "DEBUG:flwr:fit_round 9 received 100 results and 0 failures\n"
          ]
        },
        {
          "name": "stdout",
          "output_type": "stream",
          "text": [
            "----- Round 9 server-side evaluation -----\n",
            "All test data: MSE_loss = 0.008063192501945201, MAE_loss = 0.06532594275767527\n",
            "Crowd level 1: MSE_loss = 0.0030916018947311254, MAE_loss = 0.04765755002460883\n",
            "Crowd level 2: MSE_loss = 0.003220990043193687, MAE_loss = 0.045315969702291306\n",
            "Crowd level 3: MSE_loss = 0.00646409952628523, MAE_loss = 0.0539021986926005\n"
          ]
        },
        {
          "name": "stderr",
          "output_type": "stream",
          "text": [
            "INFO flwr 2024-01-18 11:05:15,339 | server.py:125 | fit progress: (9, 0.008063192501945201, {'MAE_loss': 0.06532594275767527, 'MAE_loss_1': 0.04765755002460883, 'MAE_loss_2': 0.045315969702291306, 'MAE_loss_3': 0.0539021986926005, 'MAE_loss_4': 0.07158036274781246, 'MAE_loss_5': 0.10981187477695213}, 1205.9187549870003)\n",
            "INFO:flwr:fit progress: (9, 0.008063192501945201, {'MAE_loss': 0.06532594275767527, 'MAE_loss_1': 0.04765755002460883, 'MAE_loss_2': 0.045315969702291306, 'MAE_loss_3': 0.0539021986926005, 'MAE_loss_4': 0.07158036274781246, 'MAE_loss_5': 0.10981187477695213}, 1205.9187549870003)\n",
            "DEBUG flwr 2024-01-18 11:05:15,343 | server.py:173 | evaluate_round 9: strategy sampled 100 clients (out of 100)\n",
            "DEBUG:flwr:evaluate_round 9: strategy sampled 100 clients (out of 100)\n"
          ]
        },
        {
          "name": "stdout",
          "output_type": "stream",
          "text": [
            "Crowd level 4: MSE_loss = 0.010213370387657801, MAE_loss = 0.07158036274781246\n",
            "Crowd level 5: MSE_loss = 0.017729916771923353, MAE_loss = 0.10981187477695213\n"
          ]
        },
        {
          "name": "stderr",
          "output_type": "stream",
          "text": [
            "DEBUG flwr 2024-01-18 11:05:19,711 | server.py:187 | evaluate_round 9 received 100 results and 0 failures\n",
            "DEBUG:flwr:evaluate_round 9 received 100 results and 0 failures\n",
            "DEBUG flwr 2024-01-18 11:05:19,714 | server.py:222 | fit_round 10: strategy sampled 100 clients (out of 100)\n",
            "DEBUG:flwr:fit_round 10: strategy sampled 100 clients (out of 100)\n",
            "DEBUG flwr 2024-01-18 11:07:26,238 | server.py:236 | fit_round 10 received 100 results and 0 failures\n",
            "DEBUG:flwr:fit_round 10 received 100 results and 0 failures\n"
          ]
        },
        {
          "name": "stdout",
          "output_type": "stream",
          "text": [
            "----- Round 10 server-side evaluation -----\n",
            "All test data: MSE_loss = 0.007991966980018977, MAE_loss = 0.06472969655907945\n",
            "Crowd level 1: MSE_loss = 0.0027784005106223863, MAE_loss = 0.04496252668391803\n",
            "Crowd level 2: MSE_loss = 0.00297428030622176, MAE_loss = 0.0430076941839922\n",
            "Crowd level 3: MSE_loss = 0.006354146104532392, MAE_loss = 0.052929145085900166\n"
          ]
        },
        {
          "name": "stderr",
          "output_type": "stream",
          "text": [
            "INFO flwr 2024-01-18 11:07:27,448 | server.py:125 | fit progress: (10, 0.007991966980018977, {'MAE_loss': 0.06472969655907945, 'MAE_loss_1': 0.04496252668391803, 'MAE_loss_2': 0.0430076941839922, 'MAE_loss_3': 0.052929145085900166, 'MAE_loss_4': 0.07321341865622655, 'MAE_loss_5': 0.11134395187369632}, 1338.0284261269999)\n",
            "INFO:flwr:fit progress: (10, 0.007991966980018977, {'MAE_loss': 0.06472969655907945, 'MAE_loss_1': 0.04496252668391803, 'MAE_loss_2': 0.0430076941839922, 'MAE_loss_3': 0.052929145085900166, 'MAE_loss_4': 0.07321341865622655, 'MAE_loss_5': 0.11134395187369632}, 1338.0284261269999)\n",
            "DEBUG flwr 2024-01-18 11:07:27,451 | server.py:173 | evaluate_round 10: strategy sampled 100 clients (out of 100)\n",
            "DEBUG:flwr:evaluate_round 10: strategy sampled 100 clients (out of 100)\n"
          ]
        },
        {
          "name": "stdout",
          "output_type": "stream",
          "text": [
            "Crowd level 4: MSE_loss = 0.010269580795080351, MAE_loss = 0.07321341865622655\n",
            "Crowd level 5: MSE_loss = 0.018005701836104643, MAE_loss = 0.11134395187369632\n"
          ]
        },
        {
          "name": "stderr",
          "output_type": "stream",
          "text": [
            "DEBUG flwr 2024-01-18 11:07:31,806 | server.py:187 | evaluate_round 10 received 100 results and 0 failures\n",
            "DEBUG:flwr:evaluate_round 10 received 100 results and 0 failures\n",
            "DEBUG flwr 2024-01-18 11:07:31,809 | server.py:222 | fit_round 11: strategy sampled 100 clients (out of 100)\n",
            "DEBUG:flwr:fit_round 11: strategy sampled 100 clients (out of 100)\n",
            "DEBUG flwr 2024-01-18 11:09:39,105 | server.py:236 | fit_round 11 received 100 results and 0 failures\n",
            "DEBUG:flwr:fit_round 11 received 100 results and 0 failures\n"
          ]
        },
        {
          "name": "stdout",
          "output_type": "stream",
          "text": [
            "----- Round 11 server-side evaluation -----\n",
            "All test data: MSE_loss = 0.007949219599627348, MAE_loss = 0.06389393269515131\n",
            "Crowd level 1: MSE_loss = 0.0025136660164866388, MAE_loss = 0.04268211989874428\n",
            "Crowd level 2: MSE_loss = 0.002777944546029429, MAE_loss = 0.04113169827105717\n",
            "Crowd level 3: MSE_loss = 0.0063044188460626895, MAE_loss = 0.052565073569259435\n"
          ]
        },
        {
          "name": "stderr",
          "output_type": "stream",
          "text": [
            "INFO flwr 2024-01-18 11:09:40,326 | server.py:125 | fit progress: (11, 0.007949219599627348, {'MAE_loss': 0.06389393269515131, 'MAE_loss_1': 0.04268211989874428, 'MAE_loss_2': 0.04113169827105717, 'MAE_loss_3': 0.052565073569259435, 'MAE_loss_4': 0.07304784043672916, 'MAE_loss_5': 0.11193434072497138}, 1470.9064357019997)\n",
            "INFO:flwr:fit progress: (11, 0.007949219599627348, {'MAE_loss': 0.06389393269515131, 'MAE_loss_1': 0.04268211989874428, 'MAE_loss_2': 0.04113169827105717, 'MAE_loss_3': 0.052565073569259435, 'MAE_loss_4': 0.07304784043672916, 'MAE_loss_5': 0.11193434072497138}, 1470.9064357019997)\n",
            "DEBUG flwr 2024-01-18 11:09:40,329 | server.py:173 | evaluate_round 11: strategy sampled 100 clients (out of 100)\n",
            "DEBUG:flwr:evaluate_round 11: strategy sampled 100 clients (out of 100)\n"
          ]
        },
        {
          "name": "stdout",
          "output_type": "stream",
          "text": [
            "Crowd level 4: MSE_loss = 0.01036250993552722, MAE_loss = 0.07304784043672916\n",
            "Crowd level 5: MSE_loss = 0.018225700249801368, MAE_loss = 0.11193434072497138\n"
          ]
        },
        {
          "name": "stderr",
          "output_type": "stream",
          "text": [
            "DEBUG flwr 2024-01-18 11:09:45,127 | server.py:187 | evaluate_round 11 received 100 results and 0 failures\n",
            "DEBUG:flwr:evaluate_round 11 received 100 results and 0 failures\n",
            "DEBUG flwr 2024-01-18 11:09:45,131 | server.py:222 | fit_round 12: strategy sampled 100 clients (out of 100)\n",
            "DEBUG:flwr:fit_round 12: strategy sampled 100 clients (out of 100)\n",
            "DEBUG flwr 2024-01-18 11:11:52,442 | server.py:236 | fit_round 12 received 100 results and 0 failures\n",
            "DEBUG:flwr:fit_round 12 received 100 results and 0 failures\n"
          ]
        },
        {
          "name": "stdout",
          "output_type": "stream",
          "text": [
            "----- Round 12 server-side evaluation -----\n",
            "All test data: MSE_loss = 0.007942509768771764, MAE_loss = 0.06371952647686703\n",
            "Crowd level 1: MSE_loss = 0.0023929159354079558, MAE_loss = 0.041577974066101815\n",
            "Crowd level 2: MSE_loss = 0.0026836992647686422, MAE_loss = 0.04019747121167384\n",
            "Crowd level 3: MSE_loss = 0.006272582179136213, MAE_loss = 0.0520410215436313\n"
          ]
        },
        {
          "name": "stderr",
          "output_type": "stream",
          "text": [
            "INFO flwr 2024-01-18 11:11:53,661 | server.py:125 | fit progress: (12, 0.007942509768771764, {'MAE_loss': 0.06371952647686703, 'MAE_loss_1': 0.041577974066101815, 'MAE_loss_2': 0.04019747121167384, 'MAE_loss_3': 0.0520410215436313, 'MAE_loss_4': 0.07341223812824728, 'MAE_loss_5': 0.11333836083172336}, 1604.2409820430003)\n",
            "INFO:flwr:fit progress: (12, 0.007942509768771764, {'MAE_loss': 0.06371952647686703, 'MAE_loss_1': 0.041577974066101815, 'MAE_loss_2': 0.04019747121167384, 'MAE_loss_3': 0.0520410215436313, 'MAE_loss_4': 0.07341223812824728, 'MAE_loss_5': 0.11333836083172336}, 1604.2409820430003)\n",
            "DEBUG flwr 2024-01-18 11:11:53,665 | server.py:173 | evaluate_round 12: strategy sampled 100 clients (out of 100)\n",
            "DEBUG:flwr:evaluate_round 12: strategy sampled 100 clients (out of 100)\n"
          ]
        },
        {
          "name": "stdout",
          "output_type": "stream",
          "text": [
            "Crowd level 4: MSE_loss = 0.010408831049106657, MAE_loss = 0.07341223812824728\n",
            "Crowd level 5: MSE_loss = 0.0184014692920619, MAE_loss = 0.11333836083172336\n"
          ]
        },
        {
          "name": "stderr",
          "output_type": "stream",
          "text": [
            "DEBUG flwr 2024-01-18 11:11:58,385 | server.py:187 | evaluate_round 12 received 100 results and 0 failures\n",
            "DEBUG:flwr:evaluate_round 12 received 100 results and 0 failures\n",
            "DEBUG flwr 2024-01-18 11:11:58,389 | server.py:222 | fit_round 13: strategy sampled 100 clients (out of 100)\n",
            "DEBUG:flwr:fit_round 13: strategy sampled 100 clients (out of 100)\n",
            "DEBUG flwr 2024-01-18 11:14:05,958 | server.py:236 | fit_round 13 received 100 results and 0 failures\n",
            "DEBUG:flwr:fit_round 13 received 100 results and 0 failures\n"
          ]
        },
        {
          "name": "stdout",
          "output_type": "stream",
          "text": [
            "----- Round 13 server-side evaluation -----\n",
            "All test data: MSE_loss = 0.00792954365136756, MAE_loss = 0.06329916517258001\n",
            "Crowd level 1: MSE_loss = 0.0022483400405479493, MAE_loss = 0.040297108616723795\n",
            "Crowd level 2: MSE_loss = 0.002576589531154812, MAE_loss = 0.039143750438637645\n",
            "Crowd level 3: MSE_loss = 0.006251035539839257, MAE_loss = 0.0515102663115583\n"
          ]
        },
        {
          "name": "stderr",
          "output_type": "stream",
          "text": [
            "INFO flwr 2024-01-18 11:14:07,160 | server.py:125 | fit progress: (13, 0.00792954365136756, {'MAE_loss': 0.06329916517258001, 'MAE_loss_1': 0.040297108616723795, 'MAE_loss_2': 0.039143750438637645, 'MAE_loss_3': 0.0515102663115583, 'MAE_loss_4': 0.07374007342190303, 'MAE_loss_5': 0.11384055328971258}, 1737.7404806120003)\n",
            "INFO:flwr:fit progress: (13, 0.00792954365136756, {'MAE_loss': 0.06329916517258001, 'MAE_loss_1': 0.040297108616723795, 'MAE_loss_2': 0.039143750438637645, 'MAE_loss_3': 0.0515102663115583, 'MAE_loss_4': 0.07374007342190303, 'MAE_loss_5': 0.11384055328971258}, 1737.7404806120003)\n",
            "DEBUG flwr 2024-01-18 11:14:07,163 | server.py:173 | evaluate_round 13: strategy sampled 100 clients (out of 100)\n",
            "DEBUG:flwr:evaluate_round 13: strategy sampled 100 clients (out of 100)\n"
          ]
        },
        {
          "name": "stdout",
          "output_type": "stream",
          "text": [
            "Crowd level 4: MSE_loss = 0.010484863242801045, MAE_loss = 0.07374007342190303\n",
            "Crowd level 5: MSE_loss = 0.018543486900195947, MAE_loss = 0.11384055328971258\n"
          ]
        },
        {
          "name": "stderr",
          "output_type": "stream",
          "text": [
            "DEBUG flwr 2024-01-18 11:14:11,358 | server.py:187 | evaluate_round 13 received 100 results and 0 failures\n",
            "DEBUG:flwr:evaluate_round 13 received 100 results and 0 failures\n",
            "DEBUG flwr 2024-01-18 11:14:11,361 | server.py:222 | fit_round 14: strategy sampled 100 clients (out of 100)\n",
            "DEBUG:flwr:fit_round 14: strategy sampled 100 clients (out of 100)\n",
            "DEBUG flwr 2024-01-18 11:16:18,406 | server.py:236 | fit_round 14 received 100 results and 0 failures\n",
            "DEBUG:flwr:fit_round 14 received 100 results and 0 failures\n"
          ]
        },
        {
          "name": "stdout",
          "output_type": "stream",
          "text": [
            "----- Round 14 server-side evaluation -----\n",
            "All test data: MSE_loss = 0.007914112311297121, MAE_loss = 0.06303470417909557\n",
            "Crowd level 1: MSE_loss = 0.0021947873202900867, MAE_loss = 0.03974680490468215\n",
            "Crowd level 2: MSE_loss = 0.0025365395900295473, MAE_loss = 0.038703071613864604\n",
            "Crowd level 3: MSE_loss = 0.006239508418986119, MAE_loss = 0.051717932464661776\n"
          ]
        },
        {
          "name": "stderr",
          "output_type": "stream",
          "text": [
            "INFO flwr 2024-01-18 11:16:19,634 | server.py:125 | fit progress: (14, 0.007914112311297121, {'MAE_loss': 0.06303470417909557, 'MAE_loss_1': 0.03974680490468215, 'MAE_loss_2': 0.038703071613864604, 'MAE_loss_3': 0.051717932464661776, 'MAE_loss_4': 0.07397893917617669, 'MAE_loss_5': 0.1130686929933284}, 1870.2136891990003)\n",
            "INFO:flwr:fit progress: (14, 0.007914112311297121, {'MAE_loss': 0.06303470417909557, 'MAE_loss_1': 0.03974680490468215, 'MAE_loss_2': 0.038703071613864604, 'MAE_loss_3': 0.051717932464661776, 'MAE_loss_4': 0.07397893917617669, 'MAE_loss_5': 0.1130686929933284}, 1870.2136891990003)\n",
            "DEBUG flwr 2024-01-18 11:16:19,638 | server.py:173 | evaluate_round 14: strategy sampled 100 clients (out of 100)\n",
            "DEBUG:flwr:evaluate_round 14: strategy sampled 100 clients (out of 100)\n"
          ]
        },
        {
          "name": "stdout",
          "output_type": "stream",
          "text": [
            "Crowd level 4: MSE_loss = 0.01050056360449741, MAE_loss = 0.07397893917617669\n",
            "Crowd level 5: MSE_loss = 0.018558363124061117, MAE_loss = 0.1130686929933284\n"
          ]
        },
        {
          "name": "stderr",
          "output_type": "stream",
          "text": [
            "DEBUG flwr 2024-01-18 11:16:23,895 | server.py:187 | evaluate_round 14 received 100 results and 0 failures\n",
            "DEBUG:flwr:evaluate_round 14 received 100 results and 0 failures\n",
            "DEBUG flwr 2024-01-18 11:16:23,899 | server.py:222 | fit_round 15: strategy sampled 100 clients (out of 100)\n",
            "DEBUG:flwr:fit_round 15: strategy sampled 100 clients (out of 100)\n",
            "DEBUG flwr 2024-01-18 11:18:31,164 | server.py:236 | fit_round 15 received 100 results and 0 failures\n",
            "DEBUG:flwr:fit_round 15 received 100 results and 0 failures\n"
          ]
        },
        {
          "name": "stdout",
          "output_type": "stream",
          "text": [
            "----- Round 15 server-side evaluation -----\n",
            "All test data: MSE_loss = 0.007921328496351568, MAE_loss = 0.06317538952757605\n",
            "Crowd level 1: MSE_loss = 0.002190475069931336, MAE_loss = 0.03975666481966209\n",
            "Crowd level 2: MSE_loss = 0.002534105674145599, MAE_loss = 0.03871052188894518\n",
            "Crowd level 3: MSE_loss = 0.006243844230738863, MAE_loss = 0.05148170410281383\n"
          ]
        },
        {
          "name": "stderr",
          "output_type": "stream",
          "text": [
            "INFO flwr 2024-01-18 11:18:32,360 | server.py:125 | fit progress: (15, 0.007921328496351568, {'MAE_loss': 0.06317538952757605, 'MAE_loss_1': 0.03975666481966209, 'MAE_loss_2': 0.03871052188894518, 'MAE_loss_3': 0.05148170410281383, 'MAE_loss_4': 0.07422292370896161, 'MAE_loss_5': 0.11377003919870825}, 2002.9397703330005)\n",
            "INFO:flwr:fit progress: (15, 0.007921328496351568, {'MAE_loss': 0.06317538952757605, 'MAE_loss_1': 0.03975666481966209, 'MAE_loss_2': 0.03871052188894518, 'MAE_loss_3': 0.05148170410281383, 'MAE_loss_4': 0.07422292370896161, 'MAE_loss_5': 0.11377003919870825}, 2002.9397703330005)\n",
            "DEBUG flwr 2024-01-18 11:18:32,362 | server.py:173 | evaluate_round 15: strategy sampled 100 clients (out of 100)\n",
            "DEBUG:flwr:evaluate_round 15: strategy sampled 100 clients (out of 100)\n"
          ]
        },
        {
          "name": "stdout",
          "output_type": "stream",
          "text": [
            "Crowd level 4: MSE_loss = 0.010511276362288297, MAE_loss = 0.07422292370896161\n",
            "Crowd level 5: MSE_loss = 0.018587031004101133, MAE_loss = 0.11377003919870825\n"
          ]
        },
        {
          "name": "stderr",
          "output_type": "stream",
          "text": [
            "DEBUG flwr 2024-01-18 11:18:37,025 | server.py:187 | evaluate_round 15 received 100 results and 0 failures\n",
            "DEBUG:flwr:evaluate_round 15 received 100 results and 0 failures\n",
            "DEBUG flwr 2024-01-18 11:18:37,031 | server.py:222 | fit_round 16: strategy sampled 100 clients (out of 100)\n",
            "DEBUG:flwr:fit_round 16: strategy sampled 100 clients (out of 100)\n",
            "DEBUG flwr 2024-01-18 11:20:43,880 | server.py:236 | fit_round 16 received 100 results and 0 failures\n",
            "DEBUG:flwr:fit_round 16 received 100 results and 0 failures\n"
          ]
        },
        {
          "name": "stdout",
          "output_type": "stream",
          "text": [
            "----- Round 16 server-side evaluation -----\n",
            "All test data: MSE_loss = 0.007919026888976987, MAE_loss = 0.06302366991961995\n",
            "Crowd level 1: MSE_loss = 0.0021529189832414784, MAE_loss = 0.03939997983012964\n",
            "Crowd level 2: MSE_loss = 0.002499621789297893, MAE_loss = 0.03834468228657779\n",
            "Crowd level 3: MSE_loss = 0.006239602917721557, MAE_loss = 0.051465705889429836\n"
          ]
        },
        {
          "name": "stderr",
          "output_type": "stream",
          "text": [
            "INFO flwr 2024-01-18 11:20:45,089 | server.py:125 | fit progress: (16, 0.007919026888976987, {'MAE_loss': 0.06302366991961995, 'MAE_loss_1': 0.03939997983012964, 'MAE_loss_2': 0.03834468228657779, 'MAE_loss_3': 0.051465705889429836, 'MAE_loss_4': 0.07404455408248221, 'MAE_loss_5': 0.11393686936115166}, 2135.6693021290002)\n",
            "INFO:flwr:fit progress: (16, 0.007919026888976987, {'MAE_loss': 0.06302366991961995, 'MAE_loss_1': 0.03939997983012964, 'MAE_loss_2': 0.03834468228657779, 'MAE_loss_3': 0.051465705889429836, 'MAE_loss_4': 0.07404455408248221, 'MAE_loss_5': 0.11393686936115166}, 2135.6693021290002)\n",
            "DEBUG flwr 2024-01-18 11:20:45,092 | server.py:173 | evaluate_round 16: strategy sampled 100 clients (out of 100)\n",
            "DEBUG:flwr:evaluate_round 16: strategy sampled 100 clients (out of 100)\n"
          ]
        },
        {
          "name": "stdout",
          "output_type": "stream",
          "text": [
            "Crowd level 4: MSE_loss = 0.010534263791847576, MAE_loss = 0.07404455408248221\n",
            "Crowd level 5: MSE_loss = 0.01863142416970115, MAE_loss = 0.11393686936115166\n"
          ]
        },
        {
          "name": "stderr",
          "output_type": "stream",
          "text": [
            "DEBUG flwr 2024-01-18 11:20:49,776 | server.py:187 | evaluate_round 16 received 100 results and 0 failures\n",
            "DEBUG:flwr:evaluate_round 16 received 100 results and 0 failures\n",
            "DEBUG flwr 2024-01-18 11:20:49,779 | server.py:222 | fit_round 17: strategy sampled 100 clients (out of 100)\n",
            "DEBUG:flwr:fit_round 17: strategy sampled 100 clients (out of 100)\n",
            "DEBUG flwr 2024-01-18 11:22:56,989 | server.py:236 | fit_round 17 received 100 results and 0 failures\n",
            "DEBUG:flwr:fit_round 17 received 100 results and 0 failures\n"
          ]
        },
        {
          "name": "stdout",
          "output_type": "stream",
          "text": [
            "----- Round 17 server-side evaluation -----\n",
            "All test data: MSE_loss = 0.00791518720856762, MAE_loss = 0.06290449682737623\n",
            "Crowd level 1: MSE_loss = 0.0021229856453730666, MAE_loss = 0.039087176041197054\n",
            "Crowd level 2: MSE_loss = 0.002478881424634254, MAE_loss = 0.03811339844128924\n",
            "Crowd level 3: MSE_loss = 0.006230417437468103, MAE_loss = 0.051418127147404506\n"
          ]
        },
        {
          "name": "stderr",
          "output_type": "stream",
          "text": [
            "INFO flwr 2024-01-18 11:22:58,205 | server.py:125 | fit progress: (17, 0.00791518720856762, {'MAE_loss': 0.06290449682737623, 'MAE_loss_1': 0.039087176041197054, 'MAE_loss_2': 0.03811339844128924, 'MAE_loss_3': 0.051418127147404506, 'MAE_loss_4': 0.07403011154343553, 'MAE_loss_5': 0.11395799667781602}, 2268.785008097)\n",
            "INFO:flwr:fit progress: (17, 0.00791518720856762, {'MAE_loss': 0.06290449682737623, 'MAE_loss_1': 0.039087176041197054, 'MAE_loss_2': 0.03811339844128924, 'MAE_loss_3': 0.051418127147404506, 'MAE_loss_4': 0.07403011154343553, 'MAE_loss_5': 0.11395799667781602}, 2268.785008097)\n",
            "DEBUG flwr 2024-01-18 11:22:58,207 | server.py:173 | evaluate_round 17: strategy sampled 100 clients (out of 100)\n",
            "DEBUG:flwr:evaluate_round 17: strategy sampled 100 clients (out of 100)\n"
          ]
        },
        {
          "name": "stdout",
          "output_type": "stream",
          "text": [
            "Crowd level 4: MSE_loss = 0.010545546337565265, MAE_loss = 0.07403011154343553\n",
            "Crowd level 5: MSE_loss = 0.01866281886688418, MAE_loss = 0.11395799667781602\n"
          ]
        },
        {
          "name": "stderr",
          "output_type": "stream",
          "text": [
            "DEBUG flwr 2024-01-18 11:23:02,524 | server.py:187 | evaluate_round 17 received 100 results and 0 failures\n",
            "DEBUG:flwr:evaluate_round 17 received 100 results and 0 failures\n",
            "DEBUG flwr 2024-01-18 11:23:02,527 | server.py:222 | fit_round 18: strategy sampled 100 clients (out of 100)\n",
            "DEBUG:flwr:fit_round 18: strategy sampled 100 clients (out of 100)\n",
            "DEBUG flwr 2024-01-18 11:25:09,906 | server.py:236 | fit_round 18 received 100 results and 0 failures\n",
            "DEBUG:flwr:fit_round 18 received 100 results and 0 failures\n"
          ]
        },
        {
          "name": "stdout",
          "output_type": "stream",
          "text": [
            "----- Round 18 server-side evaluation -----\n",
            "All test data: MSE_loss = 0.007918177188002747, MAE_loss = 0.06301673779149618\n",
            "Crowd level 1: MSE_loss = 0.002173200714553269, MAE_loss = 0.03955542121603996\n",
            "Crowd level 2: MSE_loss = 0.0025213213433753633, MAE_loss = 0.038564248033267384\n",
            "Crowd level 3: MSE_loss = 0.006232201404620337, MAE_loss = 0.05112222939592282\n"
          ]
        },
        {
          "name": "stderr",
          "output_type": "stream",
          "text": [
            "INFO flwr 2024-01-18 11:25:11,121 | server.py:125 | fit progress: (18, 0.007918177188002747, {'MAE_loss': 0.06301673779149618, 'MAE_loss_1': 0.03955542121603996, 'MAE_loss_2': 0.038564248033267384, 'MAE_loss_3': 0.05112222939592282, 'MAE_loss_4': 0.07411040750305066, 'MAE_loss_5': 0.11380647712961117}, 2401.700656358)\n",
            "INFO:flwr:fit progress: (18, 0.007918177188002747, {'MAE_loss': 0.06301673779149618, 'MAE_loss_1': 0.03955542121603996, 'MAE_loss_2': 0.038564248033267384, 'MAE_loss_3': 0.05112222939592282, 'MAE_loss_4': 0.07411040750305066, 'MAE_loss_5': 0.11380647712961117}, 2401.700656358)\n",
            "DEBUG flwr 2024-01-18 11:25:11,126 | server.py:173 | evaluate_round 18: strategy sampled 100 clients (out of 100)\n",
            "DEBUG:flwr:evaluate_round 18: strategy sampled 100 clients (out of 100)\n"
          ]
        },
        {
          "name": "stdout",
          "output_type": "stream",
          "text": [
            "Crowd level 4: MSE_loss = 0.010516054402619325, MAE_loss = 0.07411040750305066\n",
            "Crowd level 5: MSE_loss = 0.01860948822437988, MAE_loss = 0.11380647712961117\n"
          ]
        },
        {
          "name": "stderr",
          "output_type": "stream",
          "text": [
            "DEBUG flwr 2024-01-18 11:25:15,405 | server.py:187 | evaluate_round 18 received 100 results and 0 failures\n",
            "DEBUG:flwr:evaluate_round 18 received 100 results and 0 failures\n",
            "DEBUG flwr 2024-01-18 11:25:15,410 | server.py:222 | fit_round 19: strategy sampled 100 clients (out of 100)\n",
            "DEBUG:flwr:fit_round 19: strategy sampled 100 clients (out of 100)\n",
            "DEBUG flwr 2024-01-18 11:27:22,247 | server.py:236 | fit_round 19 received 100 results and 0 failures\n",
            "DEBUG:flwr:fit_round 19 received 100 results and 0 failures\n"
          ]
        },
        {
          "name": "stdout",
          "output_type": "stream",
          "text": [
            "----- Round 19 server-side evaluation -----\n",
            "All test data: MSE_loss = 0.007917886643559103, MAE_loss = 0.06284043741699619\n",
            "Crowd level 1: MSE_loss = 0.002101443163331921, MAE_loss = 0.03891936584683388\n",
            "Crowd level 2: MSE_loss = 0.0024610499115794325, MAE_loss = 0.03793854056591603\n",
            "Crowd level 3: MSE_loss = 0.006232393432321797, MAE_loss = 0.051280170923755426\n"
          ]
        },
        {
          "name": "stderr",
          "output_type": "stream",
          "text": [
            "INFO flwr 2024-01-18 11:27:23,540 | server.py:125 | fit progress: (19, 0.007917886643559103, {'MAE_loss': 0.06284043741699619, 'MAE_loss_1': 0.03891936584683388, 'MAE_loss_2': 0.03793854056591603, 'MAE_loss_3': 0.051280170923755426, 'MAE_loss_4': 0.0739374034077229, 'MAE_loss_5': 0.11422031652972937}, 2534.1202403410007)\n",
            "INFO:flwr:fit progress: (19, 0.007917886643559103, {'MAE_loss': 0.06284043741699619, 'MAE_loss_1': 0.03891936584683388, 'MAE_loss_2': 0.03793854056591603, 'MAE_loss_3': 0.051280170923755426, 'MAE_loss_4': 0.0739374034077229, 'MAE_loss_5': 0.11422031652972937}, 2534.1202403410007)\n",
            "DEBUG flwr 2024-01-18 11:27:23,547 | server.py:173 | evaluate_round 19: strategy sampled 100 clients (out of 100)\n",
            "DEBUG:flwr:evaluate_round 19: strategy sampled 100 clients (out of 100)\n"
          ]
        },
        {
          "name": "stdout",
          "output_type": "stream",
          "text": [
            "Crowd level 4: MSE_loss = 0.010567203360835416, MAE_loss = 0.0739374034077229\n",
            "Crowd level 5: MSE_loss = 0.01869383596971693, MAE_loss = 0.11422031652972937\n"
          ]
        },
        {
          "name": "stderr",
          "output_type": "stream",
          "text": [
            "DEBUG flwr 2024-01-18 11:27:27,852 | server.py:187 | evaluate_round 19 received 100 results and 0 failures\n",
            "DEBUG:flwr:evaluate_round 19 received 100 results and 0 failures\n",
            "DEBUG flwr 2024-01-18 11:27:27,856 | server.py:222 | fit_round 20: strategy sampled 100 clients (out of 100)\n",
            "DEBUG:flwr:fit_round 20: strategy sampled 100 clients (out of 100)\n",
            "DEBUG flwr 2024-01-18 11:29:34,928 | server.py:236 | fit_round 20 received 100 results and 0 failures\n",
            "DEBUG:flwr:fit_round 20 received 100 results and 0 failures\n"
          ]
        },
        {
          "name": "stdout",
          "output_type": "stream",
          "text": [
            "----- Round 20 server-side evaluation -----\n",
            "All test data: MSE_loss = 0.007919444580520981, MAE_loss = 0.0631097012925117\n",
            "Crowd level 1: MSE_loss = 0.002157223098317765, MAE_loss = 0.03939885915040943\n",
            "Crowd level 2: MSE_loss = 0.0025060412850234533, MAE_loss = 0.038373536292511605\n",
            "Crowd level 3: MSE_loss = 0.006233683944667462, MAE_loss = 0.051683666662038226\n"
          ]
        },
        {
          "name": "stderr",
          "output_type": "stream",
          "text": [
            "INFO flwr 2024-01-18 11:29:36,152 | server.py:125 | fit progress: (20, 0.007919444580520981, {'MAE_loss': 0.0631097012925117, 'MAE_loss_1': 0.03939885915040943, 'MAE_loss_2': 0.038373536292511605, 'MAE_loss_3': 0.051683666662038226, 'MAE_loss_4': 0.07402858243296752, 'MAE_loss_5': 0.114137403559452}, 2666.7318927899996)\n",
            "INFO:flwr:fit progress: (20, 0.007919444580520981, {'MAE_loss': 0.0631097012925117, 'MAE_loss_1': 0.03939885915040943, 'MAE_loss_2': 0.038373536292511605, 'MAE_loss_3': 0.051683666662038226, 'MAE_loss_4': 0.07402858243296752, 'MAE_loss_5': 0.114137403559452}, 2666.7318927899996)\n",
            "DEBUG flwr 2024-01-18 11:29:36,154 | server.py:173 | evaluate_round 20: strategy sampled 100 clients (out of 100)\n",
            "DEBUG:flwr:evaluate_round 20: strategy sampled 100 clients (out of 100)\n"
          ]
        },
        {
          "name": "stdout",
          "output_type": "stream",
          "text": [
            "Crowd level 4: MSE_loss = 0.010518360932258808, MAE_loss = 0.07402858243296752\n",
            "Crowd level 5: MSE_loss = 0.018644434160525244, MAE_loss = 0.114137403559452\n"
          ]
        },
        {
          "name": "stderr",
          "output_type": "stream",
          "text": [
            "DEBUG flwr 2024-01-18 11:29:40,855 | server.py:187 | evaluate_round 20 received 100 results and 0 failures\n",
            "DEBUG:flwr:evaluate_round 20 received 100 results and 0 failures\n",
            "DEBUG flwr 2024-01-18 11:29:40,858 | server.py:222 | fit_round 21: strategy sampled 100 clients (out of 100)\n",
            "DEBUG:flwr:fit_round 21: strategy sampled 100 clients (out of 100)\n",
            "DEBUG flwr 2024-01-18 11:31:47,834 | server.py:236 | fit_round 21 received 100 results and 0 failures\n",
            "DEBUG:flwr:fit_round 21 received 100 results and 0 failures\n"
          ]
        },
        {
          "name": "stdout",
          "output_type": "stream",
          "text": [
            "----- Round 21 server-side evaluation -----\n",
            "All test data: MSE_loss = 0.0079169343298303, MAE_loss = 0.0630975280208125\n",
            "Crowd level 1: MSE_loss = 0.002174335795992734, MAE_loss = 0.039572562657043\n",
            "Crowd level 2: MSE_loss = 0.002523850160278028, MAE_loss = 0.038588464563352395\n",
            "Crowd level 3: MSE_loss = 0.0062369250265976416, MAE_loss = 0.05153897260277547\n"
          ]
        },
        {
          "name": "stderr",
          "output_type": "stream",
          "text": [
            "INFO flwr 2024-01-18 11:31:49,059 | server.py:125 | fit progress: (21, 0.0079169343298303, {'MAE_loss': 0.0630975280208125, 'MAE_loss_1': 0.039572562657043, 'MAE_loss_2': 0.038588464563352395, 'MAE_loss_3': 0.05153897260277547, 'MAE_loss_4': 0.07424098259589175, 'MAE_loss_5': 0.11361438235195262}, 2799.639266217)\n",
            "INFO:flwr:fit progress: (21, 0.0079169343298303, {'MAE_loss': 0.0630975280208125, 'MAE_loss_1': 0.039572562657043, 'MAE_loss_2': 0.038588464563352395, 'MAE_loss_3': 0.05153897260277547, 'MAE_loss_4': 0.07424098259589175, 'MAE_loss_5': 0.11361438235195262}, 2799.639266217)\n",
            "DEBUG flwr 2024-01-18 11:31:49,063 | server.py:173 | evaluate_round 21: strategy sampled 100 clients (out of 100)\n",
            "DEBUG:flwr:evaluate_round 21: strategy sampled 100 clients (out of 100)\n"
          ]
        },
        {
          "name": "stdout",
          "output_type": "stream",
          "text": [
            "Crowd level 4: MSE_loss = 0.010513270221334851, MAE_loss = 0.07424098259589175\n",
            "Crowd level 5: MSE_loss = 0.018597282184137483, MAE_loss = 0.11361438235195262\n"
          ]
        },
        {
          "name": "stderr",
          "output_type": "stream",
          "text": [
            "DEBUG flwr 2024-01-18 11:31:53,781 | server.py:187 | evaluate_round 21 received 100 results and 0 failures\n",
            "DEBUG:flwr:evaluate_round 21 received 100 results and 0 failures\n",
            "DEBUG flwr 2024-01-18 11:31:53,784 | server.py:222 | fit_round 22: strategy sampled 100 clients (out of 100)\n",
            "DEBUG:flwr:fit_round 22: strategy sampled 100 clients (out of 100)\n",
            "DEBUG flwr 2024-01-18 11:34:01,311 | server.py:236 | fit_round 22 received 100 results and 0 failures\n",
            "DEBUG:flwr:fit_round 22 received 100 results and 0 failures\n"
          ]
        },
        {
          "name": "stdout",
          "output_type": "stream",
          "text": [
            "----- Round 22 server-side evaluation -----\n",
            "All test data: MSE_loss = 0.007919751143130755, MAE_loss = 0.06295349046015569\n",
            "Crowd level 1: MSE_loss = 0.002153291773341031, MAE_loss = 0.03936614832733371\n",
            "Crowd level 2: MSE_loss = 0.0025158888203966182, MAE_loss = 0.03850950755540584\n",
            "Crowd level 3: MSE_loss = 0.006227051290176717, MAE_loss = 0.051079828561604264\n"
          ]
        },
        {
          "name": "stderr",
          "output_type": "stream",
          "text": [
            "INFO flwr 2024-01-18 11:34:02,538 | server.py:125 | fit progress: (22, 0.007919751143130755, {'MAE_loss': 0.06295349046015569, 'MAE_loss_1': 0.03936614832733371, 'MAE_loss_2': 0.03850950755540584, 'MAE_loss_3': 0.051079828561604264, 'MAE_loss_4': 0.07386290216906162, 'MAE_loss_5': 0.11402973717992496}, 2933.1183231590003)\n",
            "INFO:flwr:fit progress: (22, 0.007919751143130755, {'MAE_loss': 0.06295349046015569, 'MAE_loss_1': 0.03936614832733371, 'MAE_loss_2': 0.03850950755540584, 'MAE_loss_3': 0.051079828561604264, 'MAE_loss_4': 0.07386290216906162, 'MAE_loss_5': 0.11402973717992496}, 2933.1183231590003)\n",
            "DEBUG flwr 2024-01-18 11:34:02,541 | server.py:173 | evaluate_round 22: strategy sampled 100 clients (out of 100)\n",
            "DEBUG:flwr:evaluate_round 22: strategy sampled 100 clients (out of 100)\n"
          ]
        },
        {
          "name": "stdout",
          "output_type": "stream",
          "text": [
            "Crowd level 4: MSE_loss = 0.010525098768377207, MAE_loss = 0.07386290216906162\n",
            "Crowd level 5: MSE_loss = 0.01864048155840762, MAE_loss = 0.11402973717992496\n"
          ]
        },
        {
          "name": "stderr",
          "output_type": "stream",
          "text": [
            "DEBUG flwr 2024-01-18 11:34:06,896 | server.py:187 | evaluate_round 22 received 100 results and 0 failures\n",
            "DEBUG:flwr:evaluate_round 22 received 100 results and 0 failures\n",
            "DEBUG flwr 2024-01-18 11:34:06,900 | server.py:222 | fit_round 23: strategy sampled 100 clients (out of 100)\n",
            "DEBUG:flwr:fit_round 23: strategy sampled 100 clients (out of 100)\n",
            "DEBUG flwr 2024-01-18 11:36:13,886 | server.py:236 | fit_round 23 received 100 results and 0 failures\n",
            "DEBUG:flwr:fit_round 23 received 100 results and 0 failures\n"
          ]
        },
        {
          "name": "stdout",
          "output_type": "stream",
          "text": [
            "----- Round 23 server-side evaluation -----\n",
            "All test data: MSE_loss = 0.007916900287726633, MAE_loss = 0.06309183843903399\n",
            "Crowd level 1: MSE_loss = 0.002172030730705903, MAE_loss = 0.03958368930768909\n",
            "Crowd level 2: MSE_loss = 0.0025194272080878684, MAE_loss = 0.0385651260525951\n",
            "Crowd level 3: MSE_loss = 0.006241898776234584, MAE_loss = 0.05143893843585411\n"
          ]
        },
        {
          "name": "stderr",
          "output_type": "stream",
          "text": [
            "INFO flwr 2024-01-18 11:36:15,132 | server.py:125 | fit progress: (23, 0.007916900287726633, {'MAE_loss': 0.06309183843903399, 'MAE_loss_1': 0.03958368930768909, 'MAE_loss_2': 0.0385651260525951, 'MAE_loss_3': 0.05143893843585411, 'MAE_loss_4': 0.07446611440008545, 'MAE_loss_5': 0.11347737588962391}, 3065.7118015630003)\n",
            "INFO:flwr:fit progress: (23, 0.007916900287726633, {'MAE_loss': 0.06309183843903399, 'MAE_loss_1': 0.03958368930768909, 'MAE_loss_2': 0.0385651260525951, 'MAE_loss_3': 0.05143893843585411, 'MAE_loss_4': 0.07446611440008545, 'MAE_loss_5': 0.11347737588962391}, 3065.7118015630003)\n",
            "DEBUG flwr 2024-01-18 11:36:15,136 | server.py:173 | evaluate_round 23: strategy sampled 100 clients (out of 100)\n",
            "DEBUG:flwr:evaluate_round 23: strategy sampled 100 clients (out of 100)\n"
          ]
        },
        {
          "name": "stdout",
          "output_type": "stream",
          "text": [
            "Crowd level 4: MSE_loss = 0.010522757036754494, MAE_loss = 0.07446611440008545\n",
            "Crowd level 5: MSE_loss = 0.018589439300170024, MAE_loss = 0.11347737588962391\n"
          ]
        },
        {
          "name": "stderr",
          "output_type": "stream",
          "text": [
            "DEBUG flwr 2024-01-18 11:36:19,877 | server.py:187 | evaluate_round 23 received 100 results and 0 failures\n",
            "DEBUG:flwr:evaluate_round 23 received 100 results and 0 failures\n",
            "DEBUG flwr 2024-01-18 11:36:19,879 | server.py:222 | fit_round 24: strategy sampled 100 clients (out of 100)\n",
            "DEBUG:flwr:fit_round 24: strategy sampled 100 clients (out of 100)\n",
            "DEBUG flwr 2024-01-18 11:38:26,701 | server.py:236 | fit_round 24 received 100 results and 0 failures\n",
            "DEBUG:flwr:fit_round 24 received 100 results and 0 failures\n"
          ]
        },
        {
          "name": "stdout",
          "output_type": "stream",
          "text": [
            "----- Round 24 server-side evaluation -----\n",
            "All test data: MSE_loss = 0.007914720924283365, MAE_loss = 0.0628991176984661\n",
            "Crowd level 1: MSE_loss = 0.0021357669082461748, MAE_loss = 0.039217699287416856\n",
            "Crowd level 2: MSE_loss = 0.002495447769973088, MAE_loss = 0.03831440734457581\n",
            "Crowd level 3: MSE_loss = 0.006232902733778419, MAE_loss = 0.05131494620944694\n"
          ]
        },
        {
          "name": "stderr",
          "output_type": "stream",
          "text": [
            "INFO flwr 2024-01-18 11:38:27,910 | server.py:125 | fit progress: (24, 0.007914720924283365, {'MAE_loss': 0.0628991176984661, 'MAE_loss_1': 0.039217699287416856, 'MAE_loss_2': 0.03831440734457581, 'MAE_loss_3': 0.05131494620944694, 'MAE_loss_4': 0.07410773189621978, 'MAE_loss_5': 0.11362008207140835}, 3198.490387441001)\n",
            "INFO:flwr:fit progress: (24, 0.007914720924283365, {'MAE_loss': 0.0628991176984661, 'MAE_loss_1': 0.039217699287416856, 'MAE_loss_2': 0.03831440734457581, 'MAE_loss_3': 0.05131494620944694, 'MAE_loss_4': 0.07410773189621978, 'MAE_loss_5': 0.11362008207140835}, 3198.490387441001)\n",
            "DEBUG flwr 2024-01-18 11:38:27,916 | server.py:173 | evaluate_round 24: strategy sampled 100 clients (out of 100)\n",
            "DEBUG:flwr:evaluate_round 24: strategy sampled 100 clients (out of 100)\n"
          ]
        },
        {
          "name": "stdout",
          "output_type": "stream",
          "text": [
            "Crowd level 4: MSE_loss = 0.010540434422591163, MAE_loss = 0.07410773189621978\n",
            "Crowd level 5: MSE_loss = 0.01863273134996116, MAE_loss = 0.11362008207140835\n"
          ]
        },
        {
          "name": "stderr",
          "output_type": "stream",
          "text": [
            "DEBUG flwr 2024-01-18 11:38:32,597 | server.py:187 | evaluate_round 24 received 100 results and 0 failures\n",
            "DEBUG:flwr:evaluate_round 24 received 100 results and 0 failures\n",
            "DEBUG flwr 2024-01-18 11:38:32,602 | server.py:222 | fit_round 25: strategy sampled 100 clients (out of 100)\n",
            "DEBUG:flwr:fit_round 25: strategy sampled 100 clients (out of 100)\n",
            "DEBUG flwr 2024-01-18 11:40:39,835 | server.py:236 | fit_round 25 received 100 results and 0 failures\n",
            "DEBUG:flwr:fit_round 25 received 100 results and 0 failures\n"
          ]
        },
        {
          "name": "stdout",
          "output_type": "stream",
          "text": [
            "----- Round 25 server-side evaluation -----\n",
            "All test data: MSE_loss = 0.007914992768527019, MAE_loss = 0.06287011186881379\n",
            "Crowd level 1: MSE_loss = 0.0021384832025375666, MAE_loss = 0.03919566119835078\n",
            "Crowd level 2: MSE_loss = 0.0024930655661232633, MAE_loss = 0.03822866404067028\n",
            "Crowd level 3: MSE_loss = 0.0062250908322982685, MAE_loss = 0.05159046369734541\n"
          ]
        },
        {
          "name": "stderr",
          "output_type": "stream",
          "text": [
            "INFO flwr 2024-01-18 11:40:41,029 | server.py:125 | fit progress: (25, 0.007914992768527019, {'MAE_loss': 0.06287011186881379, 'MAE_loss_1': 0.03919566119835078, 'MAE_loss_2': 0.03822866404067028, 'MAE_loss_3': 0.05159046369734541, 'MAE_loss_4': 0.07355783927558972, 'MAE_loss_5': 0.11384168444976135}, 3331.6087713630004)\n",
            "INFO:flwr:fit progress: (25, 0.007914992768527019, {'MAE_loss': 0.06287011186881379, 'MAE_loss_1': 0.03919566119835078, 'MAE_loss_2': 0.03822866404067028, 'MAE_loss_3': 0.05159046369734541, 'MAE_loss_4': 0.07355783927558972, 'MAE_loss_5': 0.11384168444976135}, 3331.6087713630004)\n",
            "DEBUG flwr 2024-01-18 11:40:41,032 | server.py:173 | evaluate_round 25: strategy sampled 100 clients (out of 100)\n",
            "DEBUG:flwr:evaluate_round 25: strategy sampled 100 clients (out of 100)\n"
          ]
        },
        {
          "name": "stdout",
          "output_type": "stream",
          "text": [
            "Crowd level 4: MSE_loss = 0.010532164844875805, MAE_loss = 0.07355783927558972\n",
            "Crowd level 5: MSE_loss = 0.01864990883249478, MAE_loss = 0.11384168444976135\n"
          ]
        },
        {
          "name": "stderr",
          "output_type": "stream",
          "text": [
            "DEBUG flwr 2024-01-18 11:40:45,694 | server.py:187 | evaluate_round 25 received 100 results and 0 failures\n",
            "DEBUG:flwr:evaluate_round 25 received 100 results and 0 failures\n",
            "DEBUG flwr 2024-01-18 11:40:45,698 | server.py:222 | fit_round 26: strategy sampled 100 clients (out of 100)\n",
            "DEBUG:flwr:fit_round 26: strategy sampled 100 clients (out of 100)\n",
            "DEBUG flwr 2024-01-18 11:42:53,014 | server.py:236 | fit_round 26 received 100 results and 0 failures\n",
            "DEBUG:flwr:fit_round 26 received 100 results and 0 failures\n"
          ]
        },
        {
          "name": "stdout",
          "output_type": "stream",
          "text": [
            "----- Round 26 server-side evaluation -----\n",
            "All test data: MSE_loss = 0.00791046564070878, MAE_loss = 0.06270741547991444\n",
            "Crowd level 1: MSE_loss = 0.0020801425302139176, MAE_loss = 0.03866350240023515\n",
            "Crowd level 2: MSE_loss = 0.0024512182184430083, MAE_loss = 0.037826110917248315\n",
            "Crowd level 3: MSE_loss = 0.006218257723286291, MAE_loss = 0.051043288776513616\n"
          ]
        },
        {
          "name": "stderr",
          "output_type": "stream",
          "text": [
            "INFO flwr 2024-01-18 11:42:54,222 | server.py:125 | fit progress: (26, 0.00791046564070878, {'MAE_loss': 0.06270741547991444, 'MAE_loss_1': 0.03866350240023515, 'MAE_loss_2': 0.037826110917248315, 'MAE_loss_3': 0.051043288776513616, 'MAE_loss_4': 0.07422876205137446, 'MAE_loss_5': 0.11388397545052506}, 3464.8020114829997)\n",
            "INFO:flwr:fit progress: (26, 0.00791046564070878, {'MAE_loss': 0.06270741547991444, 'MAE_loss_1': 0.03866350240023515, 'MAE_loss_2': 0.037826110917248315, 'MAE_loss_3': 0.051043288776513616, 'MAE_loss_4': 0.07422876205137446, 'MAE_loss_5': 0.11388397545052506}, 3464.8020114829997)\n",
            "DEBUG flwr 2024-01-18 11:42:54,225 | server.py:173 | evaluate_round 26: strategy sampled 100 clients (out of 100)\n",
            "DEBUG:flwr:evaluate_round 26: strategy sampled 100 clients (out of 100)\n"
          ]
        },
        {
          "name": "stdout",
          "output_type": "stream",
          "text": [
            "Crowd level 4: MSE_loss = 0.010566124032025523, MAE_loss = 0.07422876205137446\n",
            "Crowd level 5: MSE_loss = 0.018704251636013833, MAE_loss = 0.11388397545052506\n"
          ]
        },
        {
          "name": "stderr",
          "output_type": "stream",
          "text": [
            "DEBUG flwr 2024-01-18 11:42:58,518 | server.py:187 | evaluate_round 26 received 100 results and 0 failures\n",
            "DEBUG:flwr:evaluate_round 26 received 100 results and 0 failures\n",
            "DEBUG flwr 2024-01-18 11:42:58,521 | server.py:222 | fit_round 27: strategy sampled 100 clients (out of 100)\n",
            "DEBUG:flwr:fit_round 27: strategy sampled 100 clients (out of 100)\n",
            "DEBUG flwr 2024-01-18 11:45:05,841 | server.py:236 | fit_round 27 received 100 results and 0 failures\n",
            "DEBUG:flwr:fit_round 27 received 100 results and 0 failures\n"
          ]
        },
        {
          "name": "stdout",
          "output_type": "stream",
          "text": [
            "----- Round 27 server-side evaluation -----\n",
            "All test data: MSE_loss = 0.007911775703085586, MAE_loss = 0.06296710493795885\n",
            "Crowd level 1: MSE_loss = 0.0021358283282398175, MAE_loss = 0.03920153735944564\n",
            "Crowd level 2: MSE_loss = 0.0024904249515079902, MAE_loss = 0.038226059155854634\n",
            "Crowd level 3: MSE_loss = 0.006231777627747967, MAE_loss = 0.05158851466210345\n"
          ]
        },
        {
          "name": "stderr",
          "output_type": "stream",
          "text": [
            "INFO flwr 2024-01-18 11:45:07,377 | server.py:125 | fit progress: (27, 0.007911775703085586, {'MAE_loss': 0.06296710493795885, 'MAE_loss_1': 0.03920153735944564, 'MAE_loss_2': 0.038226059155854634, 'MAE_loss_3': 0.05158851466210345, 'MAE_loss_4': 0.07435833043634113, 'MAE_loss_5': 0.11354039840286373}, 3597.957236483)\n",
            "INFO:flwr:fit progress: (27, 0.007911775703085586, {'MAE_loss': 0.06296710493795885, 'MAE_loss_1': 0.03920153735944564, 'MAE_loss_2': 0.038226059155854634, 'MAE_loss_3': 0.05158851466210345, 'MAE_loss_4': 0.07435833043634113, 'MAE_loss_5': 0.11354039840286373}, 3597.957236483)\n",
            "DEBUG flwr 2024-01-18 11:45:07,380 | server.py:173 | evaluate_round 27: strategy sampled 100 clients (out of 100)\n",
            "DEBUG:flwr:evaluate_round 27: strategy sampled 100 clients (out of 100)\n"
          ]
        },
        {
          "name": "stdout",
          "output_type": "stream",
          "text": [
            "Crowd level 4: MSE_loss = 0.01053165802122137, MAE_loss = 0.07435833043634113\n",
            "Crowd level 5: MSE_loss = 0.018632571862264427, MAE_loss = 0.11354039840286373\n"
          ]
        },
        {
          "name": "stderr",
          "output_type": "stream",
          "text": [
            "DEBUG flwr 2024-01-18 11:45:11,631 | server.py:187 | evaluate_round 27 received 100 results and 0 failures\n",
            "DEBUG:flwr:evaluate_round 27 received 100 results and 0 failures\n",
            "DEBUG flwr 2024-01-18 11:45:11,635 | server.py:222 | fit_round 28: strategy sampled 100 clients (out of 100)\n",
            "DEBUG:flwr:fit_round 28: strategy sampled 100 clients (out of 100)\n",
            "DEBUG flwr 2024-01-18 11:47:19,181 | server.py:236 | fit_round 28 received 100 results and 0 failures\n",
            "DEBUG:flwr:fit_round 28 received 100 results and 0 failures\n"
          ]
        },
        {
          "name": "stdout",
          "output_type": "stream",
          "text": [
            "----- Round 28 server-side evaluation -----\n",
            "All test data: MSE_loss = 0.007912141457707782, MAE_loss = 0.06294890882503629\n",
            "Crowd level 1: MSE_loss = 0.0021443477002059865, MAE_loss = 0.039250423424518684\n",
            "Crowd level 2: MSE_loss = 0.002503393580454891, MAE_loss = 0.03833895293369735\n",
            "Crowd level 3: MSE_loss = 0.006224523596391619, MAE_loss = 0.05158160685630302\n"
          ]
        },
        {
          "name": "stderr",
          "output_type": "stream",
          "text": [
            "INFO flwr 2024-01-18 11:47:20,416 | server.py:125 | fit progress: (28, 0.007912141457707782, {'MAE_loss': 0.06294890882503629, 'MAE_loss_1': 0.039250423424518684, 'MAE_loss_2': 0.03833895293369735, 'MAE_loss_3': 0.05158160685630302, 'MAE_loss_4': 0.07407340518324891, 'MAE_loss_5': 0.11357214277157962}, 3730.9960201159993)\n",
            "INFO:flwr:fit progress: (28, 0.007912141457707782, {'MAE_loss': 0.06294890882503629, 'MAE_loss_1': 0.039250423424518684, 'MAE_loss_2': 0.03833895293369735, 'MAE_loss_3': 0.05158160685630302, 'MAE_loss_4': 0.07407340518324891, 'MAE_loss_5': 0.11357214277157962}, 3730.9960201159993)\n",
            "DEBUG flwr 2024-01-18 11:47:20,419 | server.py:173 | evaluate_round 28: strategy sampled 100 clients (out of 100)\n",
            "DEBUG:flwr:evaluate_round 28: strategy sampled 100 clients (out of 100)\n"
          ]
        },
        {
          "name": "stdout",
          "output_type": "stream",
          "text": [
            "Crowd level 4: MSE_loss = 0.010519659687909985, MAE_loss = 0.07407340518324891\n",
            "Crowd level 5: MSE_loss = 0.018631776765126583, MAE_loss = 0.11357214277157962\n"
          ]
        },
        {
          "name": "stderr",
          "output_type": "stream",
          "text": [
            "DEBUG flwr 2024-01-18 11:47:24,775 | server.py:187 | evaluate_round 28 received 100 results and 0 failures\n",
            "DEBUG:flwr:evaluate_round 28 received 100 results and 0 failures\n",
            "DEBUG flwr 2024-01-18 11:47:24,779 | server.py:222 | fit_round 29: strategy sampled 100 clients (out of 100)\n",
            "DEBUG:flwr:fit_round 29: strategy sampled 100 clients (out of 100)\n",
            "DEBUG flwr 2024-01-18 11:49:32,048 | server.py:236 | fit_round 29 received 100 results and 0 failures\n",
            "DEBUG:flwr:fit_round 29 received 100 results and 0 failures\n"
          ]
        },
        {
          "name": "stdout",
          "output_type": "stream",
          "text": [
            "----- Round 29 server-side evaluation -----\n",
            "All test data: MSE_loss = 0.007915934369230559, MAE_loss = 0.06285370884649455\n",
            "Crowd level 1: MSE_loss = 0.0021178828871014797, MAE_loss = 0.03903003008318351\n",
            "Crowd level 2: MSE_loss = 0.0024855187186561102, MAE_loss = 0.03819352058814318\n",
            "Crowd level 3: MSE_loss = 0.006226090598172025, MAE_loss = 0.05136123290781665\n"
          ]
        },
        {
          "name": "stderr",
          "output_type": "stream",
          "text": [
            "INFO flwr 2024-01-18 11:49:33,262 | server.py:125 | fit progress: (29, 0.007915934369230559, {'MAE_loss': 0.06285370884649455, 'MAE_loss_1': 0.03903003008318351, 'MAE_loss_2': 0.03819352058814318, 'MAE_loss_3': 0.05136123290781665, 'MAE_loss_4': 0.07383943569155933, 'MAE_loss_5': 0.11392763371505032}, 3863.8423782579994)\n",
            "INFO:flwr:fit progress: (29, 0.007915934369230559, {'MAE_loss': 0.06285370884649455, 'MAE_loss_1': 0.03903003008318351, 'MAE_loss_2': 0.03819352058814318, 'MAE_loss_3': 0.05136123290781665, 'MAE_loss_4': 0.07383943569155933, 'MAE_loss_5': 0.11392763371505032}, 3863.8423782579994)\n",
            "DEBUG flwr 2024-01-18 11:49:33,266 | server.py:173 | evaluate_round 29: strategy sampled 100 clients (out of 100)\n",
            "DEBUG:flwr:evaluate_round 29: strategy sampled 100 clients (out of 100)\n"
          ]
        },
        {
          "name": "stdout",
          "output_type": "stream",
          "text": [
            "Crowd level 4: MSE_loss = 0.010547597701793185, MAE_loss = 0.07383943569155933\n",
            "Crowd level 5: MSE_loss = 0.018667834649292968, MAE_loss = 0.11392763371505032\n"
          ]
        },
        {
          "name": "stderr",
          "output_type": "stream",
          "text": [
            "DEBUG flwr 2024-01-18 11:49:38,048 | server.py:187 | evaluate_round 29 received 100 results and 0 failures\n",
            "DEBUG:flwr:evaluate_round 29 received 100 results and 0 failures\n",
            "DEBUG flwr 2024-01-18 11:49:38,051 | server.py:222 | fit_round 30: strategy sampled 100 clients (out of 100)\n",
            "DEBUG:flwr:fit_round 30: strategy sampled 100 clients (out of 100)\n",
            "DEBUG flwr 2024-01-18 11:51:44,642 | server.py:236 | fit_round 30 received 100 results and 0 failures\n",
            "DEBUG:flwr:fit_round 30 received 100 results and 0 failures\n"
          ]
        },
        {
          "name": "stdout",
          "output_type": "stream",
          "text": [
            "----- Round 30 server-side evaluation -----\n",
            "All test data: MSE_loss = 0.007921869019746208, MAE_loss = 0.06269616221180574\n",
            "Crowd level 1: MSE_loss = 0.002082697654570915, MAE_loss = 0.038703841409242795\n",
            "Crowd level 2: MSE_loss = 0.0024543435044824626, MAE_loss = 0.037876873057987225\n",
            "Crowd level 3: MSE_loss = 0.006221789057295664, MAE_loss = 0.05091155309451469\n"
          ]
        },
        {
          "name": "stderr",
          "output_type": "stream",
          "text": [
            "INFO flwr 2024-01-18 11:51:45,848 | server.py:125 | fit progress: (30, 0.007921869019746208, {'MAE_loss': 0.06269616221180574, 'MAE_loss_1': 0.038703841409242795, 'MAE_loss_2': 0.037876873057987225, 'MAE_loss_3': 0.05091155309451469, 'MAE_loss_4': 0.07350698373023715, 'MAE_loss_5': 0.11458493340981836}, 3996.427687542)\n",
            "INFO:flwr:fit progress: (30, 0.007921869019746208, {'MAE_loss': 0.06269616221180574, 'MAE_loss_1': 0.038703841409242795, 'MAE_loss_2': 0.037876873057987225, 'MAE_loss_3': 0.05091155309451469, 'MAE_loss_4': 0.07350698373023715, 'MAE_loss_5': 0.11458493340981836}, 3996.427687542)\n",
            "DEBUG flwr 2024-01-18 11:51:45,851 | server.py:173 | evaluate_round 30: strategy sampled 100 clients (out of 100)\n",
            "DEBUG:flwr:evaluate_round 30: strategy sampled 100 clients (out of 100)\n"
          ]
        },
        {
          "name": "stdout",
          "output_type": "stream",
          "text": [
            "Crowd level 4: MSE_loss = 0.010581959500223767, MAE_loss = 0.07350698373023715\n",
            "Crowd level 5: MSE_loss = 0.018737123566089836, MAE_loss = 0.11458493340981836\n"
          ]
        },
        {
          "name": "stderr",
          "output_type": "stream",
          "text": [
            "DEBUG flwr 2024-01-18 11:51:50,631 | server.py:187 | evaluate_round 30 received 100 results and 0 failures\n",
            "DEBUG:flwr:evaluate_round 30 received 100 results and 0 failures\n",
            "INFO flwr 2024-01-18 11:51:50,635 | server.py:153 | FL finished in 4001.2147859449997\n",
            "INFO:flwr:FL finished in 4001.2147859449997\n",
            "INFO flwr 2024-01-18 11:51:50,639 | app.py:226 | app_fit: losses_distributed [(1, 0.47303824971917136), (2, 0.14854075290008137), (3, 0.05467069715121209), (4, 0.024463046164091708), (5, 0.01387492423803151), (6, 0.010169612533759696), (7, 0.008786195011459214), (8, 0.008217556334804563), (9, 0.00800197253624286), (10, 0.007944977106355902), (11, 0.007910293677439846), (12, 0.007899971083699116), (13, 0.007890833699062074), (14, 0.007890679118713178), (15, 0.007888478214912955), (16, 0.007887687232104297), (17, 0.007887037340011775), (18, 0.007888496891251456), (19, 0.007886700389513217), (20, 0.007887957779454564), (21, 0.007888529901025839), (22, 0.00788777019411751), (23, 0.007889262838169894), (24, 0.007887661136051905), (25, 0.007888193490344983), (26, 0.007887953751201066), (27, 0.007888715682173765), (28, 0.007889073222211315), (29, 0.007887202297759435), (30, 0.007887655755136934)]\n",
            "INFO:flwr:app_fit: losses_distributed [(1, 0.47303824971917136), (2, 0.14854075290008137), (3, 0.05467069715121209), (4, 0.024463046164091708), (5, 0.01387492423803151), (6, 0.010169612533759696), (7, 0.008786195011459214), (8, 0.008217556334804563), (9, 0.00800197253624286), (10, 0.007944977106355902), (11, 0.007910293677439846), (12, 0.007899971083699116), (13, 0.007890833699062074), (14, 0.007890679118713178), (15, 0.007888478214912955), (16, 0.007887687232104297), (17, 0.007887037340011775), (18, 0.007888496891251456), (19, 0.007886700389513217), (20, 0.007887957779454564), (21, 0.007888529901025839), (22, 0.00788777019411751), (23, 0.007889262838169894), (24, 0.007887661136051905), (25, 0.007888193490344983), (26, 0.007887953751201066), (27, 0.007888715682173765), (28, 0.007889073222211315), (29, 0.007887202297759435), (30, 0.007887655755136934)]\n",
            "INFO flwr 2024-01-18 11:51:50,641 | app.py:227 | app_fit: metrics_distributed_fit {}\n",
            "INFO:flwr:app_fit: metrics_distributed_fit {}\n",
            "INFO flwr 2024-01-18 11:51:50,644 | app.py:228 | app_fit: metrics_distributed {}\n",
            "INFO:flwr:app_fit: metrics_distributed {}\n",
            "INFO flwr 2024-01-18 11:51:50,647 | app.py:229 | app_fit: losses_centralized [(0, 3.680575243328568), (1, 0.46949930829301123), (2, 0.14804834019612664), (3, 0.05484362477856174), (4, 0.02472620936624268), (5, 0.014084624024635176), (6, 0.01032724000809923), (7, 0.008899938409406297), (8, 0.008294067837980711), (9, 0.008063192501945201), (10, 0.007991966980018977), (11, 0.007949219599627348), (12, 0.007942509768771764), (13, 0.00792954365136756), (14, 0.007914112311297121), (15, 0.007921328496351568), (16, 0.007919026888976987), (17, 0.00791518720856762), (18, 0.007918177188002747), (19, 0.007917886643559103), (20, 0.007919444580520981), (21, 0.0079169343298303), (22, 0.007919751143130755), (23, 0.007916900287726633), (24, 0.007914720924283365), (25, 0.007914992768527019), (26, 0.00791046564070878), (27, 0.007911775703085586), (28, 0.007912141457707782), (29, 0.007915934369230559), (30, 0.007921869019746208)]\n",
            "INFO:flwr:app_fit: losses_centralized [(0, 3.680575243328568), (1, 0.46949930829301123), (2, 0.14804834019612664), (3, 0.05484362477856174), (4, 0.02472620936624268), (5, 0.014084624024635176), (6, 0.01032724000809923), (7, 0.008899938409406297), (8, 0.008294067837980711), (9, 0.008063192501945201), (10, 0.007991966980018977), (11, 0.007949219599627348), (12, 0.007942509768771764), (13, 0.00792954365136756), (14, 0.007914112311297121), (15, 0.007921328496351568), (16, 0.007919026888976987), (17, 0.00791518720856762), (18, 0.007918177188002747), (19, 0.007917886643559103), (20, 0.007919444580520981), (21, 0.0079169343298303), (22, 0.007919751143130755), (23, 0.007916900287726633), (24, 0.007914720924283365), (25, 0.007914992768527019), (26, 0.00791046564070878), (27, 0.007911775703085586), (28, 0.007912141457707782), (29, 0.007915934369230559), (30, 0.007921869019746208)]\n",
            "INFO flwr 2024-01-18 11:51:50,654 | app.py:230 | app_fit: metrics_centralized {'MAE_loss': [(0, 1.5870249590898553), (1, 0.5697634032465285), (2, 0.3228543002976415), (3, 0.19545238763662443), (4, 0.1301823958524037), (5, 0.09603059219169276), (6, 0.07990823404619005), (7, 0.07207620238202314), (8, 0.0676684593577714), (9, 0.06532594275767527), (10, 0.06472969655907945), (11, 0.06389393269515131), (12, 0.06371952647686703), (13, 0.06329916517258001), (14, 0.06303470417909557), (15, 0.06317538952757605), (16, 0.06302366991961995), (17, 0.06290449682737623), (18, 0.06301673779149618), (19, 0.06284043741699619), (20, 0.0631097012925117), (21, 0.0630975280208125), (22, 0.06295349046015569), (23, 0.06309183843903399), (24, 0.0628991176984661), (25, 0.06287011186881379), (26, 0.06270741547991444), (27, 0.06296710493795885), (28, 0.06294890882503629), (29, 0.06285370884649455), (30, 0.06269616221180574)], 'MAE_loss_1': [(0, 1.5237905299082732), (1, 0.5732271261887026), (2, 0.34619150317003267), (3, 0.21952373909052855), (4, 0.14770043938689992), (5, 0.10449169006960365), (6, 0.07920197753113703), (7, 0.0640751936187679), (8, 0.053982522999555374), (9, 0.04765755002460883), (10, 0.04496252668391803), (11, 0.04268211989874428), (12, 0.041577974066101815), (13, 0.040297108616723795), (14, 0.03974680490468215), (15, 0.03975666481966209), (16, 0.03939997983012964), (17, 0.039087176041197054), (18, 0.03955542121603996), (19, 0.03891936584683388), (20, 0.03939885915040943), (21, 0.039572562657043), (22, 0.03936614832733371), (23, 0.03958368930768909), (24, 0.039217699287416856), (25, 0.03919566119835078), (26, 0.03866350240023515), (27, 0.03920153735944564), (28, 0.039250423424518684), (29, 0.03903003008318351), (30, 0.038703841409242795)], 'MAE_loss_2': [(0, 1.6402422723103498), (1, 0.597747358034937), (2, 0.34849791547721615), (3, 0.2142340681515043), (4, 0.1406091727921503), (5, 0.09795995158645247), (6, 0.07373673604665774), (7, 0.05969989383530168), (8, 0.05074317280798772), (9, 0.045315969702291306), (10, 0.0430076941839922), (11, 0.04113169827105717), (12, 0.04019747121167384), (13, 0.039143750438637645), (14, 0.038703071613864604), (15, 0.03871052188894518), (16, 0.03834468228657779), (17, 0.03811339844128924), (18, 0.038564248033267384), (19, 0.03793854056591603), (20, 0.038373536292511605), (21, 0.038588464563352395), (22, 0.03850950755540584), (23, 0.0385651260525951), (24, 0.03831440734457581), (25, 0.03822866404067028), (26, 0.037826110917248315), (27, 0.038226059155854634), (28, 0.03833895293369735), (29, 0.03819352058814318), (30, 0.037876873057987225)], 'MAE_loss_3': [(0, 1.681275717254545), (1, 0.5799297347603762), (2, 0.32354427286897036), (3, 0.1952458862856519), (4, 0.12725673849984515), (5, 0.09072499037262235), (6, 0.07211041627623538), (7, 0.062173021088361924), (8, 0.05707845364575137), (9, 0.0539021986926005), (10, 0.052929145085900166), (11, 0.052565073569259435), (12, 0.0520410215436313), (13, 0.0515102663115583), (14, 0.051717932464661776), (15, 0.05148170410281383), (16, 0.051465705889429836), (17, 0.051418127147404506), (18, 0.05112222939592282), (19, 0.051280170923755426), (20, 0.051683666662038226), (21, 0.05153897260277547), (22, 0.051079828561604264), (23, 0.05143893843585411), (24, 0.05131494620944694), (25, 0.05159046369734541), (26, 0.051043288776513616), (27, 0.05158851466210345), (28, 0.05158160685630302), (29, 0.05136123290781665), (30, 0.05091155309451469)], 'MAE_loss_4': [(0, 1.6377711890214315), (1, 0.5712926386128345), (2, 0.30928202604233884), (3, 0.18010034238080788), (4, 0.11829500035733648), (5, 0.08913580549255729), (6, 0.07670902260475511), (7, 0.07241172109226607), (8, 0.0714379957022324), (9, 0.07158036274781246), (10, 0.07321341865622655), (11, 0.07304784043672916), (12, 0.07341223812824728), (13, 0.07374007342190303), (14, 0.07397893917617669), (15, 0.07422292370896161), (16, 0.07404455408248221), (17, 0.07403011154343553), (18, 0.07411040750305066), (19, 0.0739374034077229), (20, 0.07402858243296752), (21, 0.07424098259589175), (22, 0.07386290216906162), (23, 0.07446611440008545), (24, 0.07410773189621978), (25, 0.07355783927558972), (26, 0.07422876205137446), (27, 0.07435833043634113), (28, 0.07407340518324891), (29, 0.07383943569155933), (30, 0.07350698373023715)], 'MAE_loss_5': [(0, 1.4529072625502464), (1, 0.5259582449655177), (2, 0.2850629676683649), (3, 0.16645910175626305), (4, 0.1159182050627465), (5, 0.09743311389978716), (6, 0.09809921292867986), (7, 0.10292175757194315), (8, 0.1064269304851067), (9, 0.10981187477695213), (10, 0.11134395187369632), (11, 0.11193434072497138), (12, 0.11333836083172336), (13, 0.11384055328971258), (14, 0.1130686929933284), (15, 0.11377003919870825), (16, 0.11393686936115166), (17, 0.11395799667781602), (18, 0.11380647712961117), (19, 0.11422031652972937), (20, 0.114137403559452), (21, 0.11361438235195262), (22, 0.11402973717992496), (23, 0.11347737588962391), (24, 0.11362008207140835), (25, 0.11384168444976135), (26, 0.11388397545052506), (27, 0.11354039840286373), (28, 0.11357214277157962), (29, 0.11392763371505032), (30, 0.11458493340981836)]}\n",
            "INFO:flwr:app_fit: metrics_centralized {'MAE_loss': [(0, 1.5870249590898553), (1, 0.5697634032465285), (2, 0.3228543002976415), (3, 0.19545238763662443), (4, 0.1301823958524037), (5, 0.09603059219169276), (6, 0.07990823404619005), (7, 0.07207620238202314), (8, 0.0676684593577714), (9, 0.06532594275767527), (10, 0.06472969655907945), (11, 0.06389393269515131), (12, 0.06371952647686703), (13, 0.06329916517258001), (14, 0.06303470417909557), (15, 0.06317538952757605), (16, 0.06302366991961995), (17, 0.06290449682737623), (18, 0.06301673779149618), (19, 0.06284043741699619), (20, 0.0631097012925117), (21, 0.0630975280208125), (22, 0.06295349046015569), (23, 0.06309183843903399), (24, 0.0628991176984661), (25, 0.06287011186881379), (26, 0.06270741547991444), (27, 0.06296710493795885), (28, 0.06294890882503629), (29, 0.06285370884649455), (30, 0.06269616221180574)], 'MAE_loss_1': [(0, 1.5237905299082732), (1, 0.5732271261887026), (2, 0.34619150317003267), (3, 0.21952373909052855), (4, 0.14770043938689992), (5, 0.10449169006960365), (6, 0.07920197753113703), (7, 0.0640751936187679), (8, 0.053982522999555374), (9, 0.04765755002460883), (10, 0.04496252668391803), (11, 0.04268211989874428), (12, 0.041577974066101815), (13, 0.040297108616723795), (14, 0.03974680490468215), (15, 0.03975666481966209), (16, 0.03939997983012964), (17, 0.039087176041197054), (18, 0.03955542121603996), (19, 0.03891936584683388), (20, 0.03939885915040943), (21, 0.039572562657043), (22, 0.03936614832733371), (23, 0.03958368930768909), (24, 0.039217699287416856), (25, 0.03919566119835078), (26, 0.03866350240023515), (27, 0.03920153735944564), (28, 0.039250423424518684), (29, 0.03903003008318351), (30, 0.038703841409242795)], 'MAE_loss_2': [(0, 1.6402422723103498), (1, 0.597747358034937), (2, 0.34849791547721615), (3, 0.2142340681515043), (4, 0.1406091727921503), (5, 0.09795995158645247), (6, 0.07373673604665774), (7, 0.05969989383530168), (8, 0.05074317280798772), (9, 0.045315969702291306), (10, 0.0430076941839922), (11, 0.04113169827105717), (12, 0.04019747121167384), (13, 0.039143750438637645), (14, 0.038703071613864604), (15, 0.03871052188894518), (16, 0.03834468228657779), (17, 0.03811339844128924), (18, 0.038564248033267384), (19, 0.03793854056591603), (20, 0.038373536292511605), (21, 0.038588464563352395), (22, 0.03850950755540584), (23, 0.0385651260525951), (24, 0.03831440734457581), (25, 0.03822866404067028), (26, 0.037826110917248315), (27, 0.038226059155854634), (28, 0.03833895293369735), (29, 0.03819352058814318), (30, 0.037876873057987225)], 'MAE_loss_3': [(0, 1.681275717254545), (1, 0.5799297347603762), (2, 0.32354427286897036), (3, 0.1952458862856519), (4, 0.12725673849984515), (5, 0.09072499037262235), (6, 0.07211041627623538), (7, 0.062173021088361924), (8, 0.05707845364575137), (9, 0.0539021986926005), (10, 0.052929145085900166), (11, 0.052565073569259435), (12, 0.0520410215436313), (13, 0.0515102663115583), (14, 0.051717932464661776), (15, 0.05148170410281383), (16, 0.051465705889429836), (17, 0.051418127147404506), (18, 0.05112222939592282), (19, 0.051280170923755426), (20, 0.051683666662038226), (21, 0.05153897260277547), (22, 0.051079828561604264), (23, 0.05143893843585411), (24, 0.05131494620944694), (25, 0.05159046369734541), (26, 0.051043288776513616), (27, 0.05158851466210345), (28, 0.05158160685630302), (29, 0.05136123290781665), (30, 0.05091155309451469)], 'MAE_loss_4': [(0, 1.6377711890214315), (1, 0.5712926386128345), (2, 0.30928202604233884), (3, 0.18010034238080788), (4, 0.11829500035733648), (5, 0.08913580549255729), (6, 0.07670902260475511), (7, 0.07241172109226607), (8, 0.0714379957022324), (9, 0.07158036274781246), (10, 0.07321341865622655), (11, 0.07304784043672916), (12, 0.07341223812824728), (13, 0.07374007342190303), (14, 0.07397893917617669), (15, 0.07422292370896161), (16, 0.07404455408248221), (17, 0.07403011154343553), (18, 0.07411040750305066), (19, 0.0739374034077229), (20, 0.07402858243296752), (21, 0.07424098259589175), (22, 0.07386290216906162), (23, 0.07446611440008545), (24, 0.07410773189621978), (25, 0.07355783927558972), (26, 0.07422876205137446), (27, 0.07435833043634113), (28, 0.07407340518324891), (29, 0.07383943569155933), (30, 0.07350698373023715)], 'MAE_loss_5': [(0, 1.4529072625502464), (1, 0.5259582449655177), (2, 0.2850629676683649), (3, 0.16645910175626305), (4, 0.1159182050627465), (5, 0.09743311389978716), (6, 0.09809921292867986), (7, 0.10292175757194315), (8, 0.1064269304851067), (9, 0.10981187477695213), (10, 0.11134395187369632), (11, 0.11193434072497138), (12, 0.11333836083172336), (13, 0.11384055328971258), (14, 0.1130686929933284), (15, 0.11377003919870825), (16, 0.11393686936115166), (17, 0.11395799667781602), (18, 0.11380647712961117), (19, 0.11422031652972937), (20, 0.114137403559452), (21, 0.11361438235195262), (22, 0.11402973717992496), (23, 0.11347737588962391), (24, 0.11362008207140835), (25, 0.11384168444976135), (26, 0.11388397545052506), (27, 0.11354039840286373), (28, 0.11357214277157962), (29, 0.11392763371505032), (30, 0.11458493340981836)]}\n"
          ]
        },
        {
          "data": {
            "text/plain": [
              "History (loss, distributed):\n",
              "\tround 1: 0.47303824971917136\n",
              "\tround 2: 0.14854075290008137\n",
              "\tround 3: 0.05467069715121209\n",
              "\tround 4: 0.024463046164091708\n",
              "\tround 5: 0.01387492423803151\n",
              "\tround 6: 0.010169612533759696\n",
              "\tround 7: 0.008786195011459214\n",
              "\tround 8: 0.008217556334804563\n",
              "\tround 9: 0.00800197253624286\n",
              "\tround 10: 0.007944977106355902\n",
              "\tround 11: 0.007910293677439846\n",
              "\tround 12: 0.007899971083699116\n",
              "\tround 13: 0.007890833699062074\n",
              "\tround 14: 0.007890679118713178\n",
              "\tround 15: 0.007888478214912955\n",
              "\tround 16: 0.007887687232104297\n",
              "\tround 17: 0.007887037340011775\n",
              "\tround 18: 0.007888496891251456\n",
              "\tround 19: 0.007886700389513217\n",
              "\tround 20: 0.007887957779454564\n",
              "\tround 21: 0.007888529901025839\n",
              "\tround 22: 0.00788777019411751\n",
              "\tround 23: 0.007889262838169894\n",
              "\tround 24: 0.007887661136051905\n",
              "\tround 25: 0.007888193490344983\n",
              "\tround 26: 0.007887953751201066\n",
              "\tround 27: 0.007888715682173765\n",
              "\tround 28: 0.007889073222211315\n",
              "\tround 29: 0.007887202297759435\n",
              "\tround 30: 0.007887655755136934\n",
              "History (loss, centralized):\n",
              "\tround 0: 3.680575243328568\n",
              "\tround 1: 0.46949930829301123\n",
              "\tround 2: 0.14804834019612664\n",
              "\tround 3: 0.05484362477856174\n",
              "\tround 4: 0.02472620936624268\n",
              "\tround 5: 0.014084624024635176\n",
              "\tround 6: 0.01032724000809923\n",
              "\tround 7: 0.008899938409406297\n",
              "\tround 8: 0.008294067837980711\n",
              "\tround 9: 0.008063192501945201\n",
              "\tround 10: 0.007991966980018977\n",
              "\tround 11: 0.007949219599627348\n",
              "\tround 12: 0.007942509768771764\n",
              "\tround 13: 0.00792954365136756\n",
              "\tround 14: 0.007914112311297121\n",
              "\tround 15: 0.007921328496351568\n",
              "\tround 16: 0.007919026888976987\n",
              "\tround 17: 0.00791518720856762\n",
              "\tround 18: 0.007918177188002747\n",
              "\tround 19: 0.007917886643559103\n",
              "\tround 20: 0.007919444580520981\n",
              "\tround 21: 0.0079169343298303\n",
              "\tround 22: 0.007919751143130755\n",
              "\tround 23: 0.007916900287726633\n",
              "\tround 24: 0.007914720924283365\n",
              "\tround 25: 0.007914992768527019\n",
              "\tround 26: 0.00791046564070878\n",
              "\tround 27: 0.007911775703085586\n",
              "\tround 28: 0.007912141457707782\n",
              "\tround 29: 0.007915934369230559\n",
              "\tround 30: 0.007921869019746208\n",
              "History (metrics, centralized):\n",
              "{'MAE_loss': [(0, 1.5870249590898553), (1, 0.5697634032465285), (2, 0.3228543002976415), (3, 0.19545238763662443), (4, 0.1301823958524037), (5, 0.09603059219169276), (6, 0.07990823404619005), (7, 0.07207620238202314), (8, 0.0676684593577714), (9, 0.06532594275767527), (10, 0.06472969655907945), (11, 0.06389393269515131), (12, 0.06371952647686703), (13, 0.06329916517258001), (14, 0.06303470417909557), (15, 0.06317538952757605), (16, 0.06302366991961995), (17, 0.06290449682737623), (18, 0.06301673779149618), (19, 0.06284043741699619), (20, 0.0631097012925117), (21, 0.0630975280208125), (22, 0.06295349046015569), (23, 0.06309183843903399), (24, 0.0628991176984661), (25, 0.06287011186881379), (26, 0.06270741547991444), (27, 0.06296710493795885), (28, 0.06294890882503629), (29, 0.06285370884649455), (30, 0.06269616221180574)], 'MAE_loss_1': [(0, 1.5237905299082732), (1, 0.5732271261887026), (2, 0.34619150317003267), (3, 0.21952373909052855), (4, 0.14770043938689992), (5, 0.10449169006960365), (6, 0.07920197753113703), (7, 0.0640751936187679), (8, 0.053982522999555374), (9, 0.04765755002460883), (10, 0.04496252668391803), (11, 0.04268211989874428), (12, 0.041577974066101815), (13, 0.040297108616723795), (14, 0.03974680490468215), (15, 0.03975666481966209), (16, 0.03939997983012964), (17, 0.039087176041197054), (18, 0.03955542121603996), (19, 0.03891936584683388), (20, 0.03939885915040943), (21, 0.039572562657043), (22, 0.03936614832733371), (23, 0.03958368930768909), (24, 0.039217699287416856), (25, 0.03919566119835078), (26, 0.03866350240023515), (27, 0.03920153735944564), (28, 0.039250423424518684), (29, 0.03903003008318351), (30, 0.038703841409242795)], 'MAE_loss_2': [(0, 1.6402422723103498), (1, 0.597747358034937), (2, 0.34849791547721615), (3, 0.2142340681515043), (4, 0.1406091727921503), (5, 0.09795995158645247), (6, 0.07373673604665774), (7, 0.05969989383530168), (8, 0.05074317280798772), (9, 0.045315969702291306), (10, 0.0430076941839922), (11, 0.04113169827105717), (12, 0.04019747121167384), (13, 0.039143750438637645), (14, 0.038703071613864604), (15, 0.03871052188894518), (16, 0.03834468228657779), (17, 0.03811339844128924), (18, 0.038564248033267384), (19, 0.03793854056591603), (20, 0.038373536292511605), (21, 0.038588464563352395), (22, 0.03850950755540584), (23, 0.0385651260525951), (24, 0.03831440734457581), (25, 0.03822866404067028), (26, 0.037826110917248315), (27, 0.038226059155854634), (28, 0.03833895293369735), (29, 0.03819352058814318), (30, 0.037876873057987225)], 'MAE_loss_3': [(0, 1.681275717254545), (1, 0.5799297347603762), (2, 0.32354427286897036), (3, 0.1952458862856519), (4, 0.12725673849984515), (5, 0.09072499037262235), (6, 0.07211041627623538), (7, 0.062173021088361924), (8, 0.05707845364575137), (9, 0.0539021986926005), (10, 0.052929145085900166), (11, 0.052565073569259435), (12, 0.0520410215436313), (13, 0.0515102663115583), (14, 0.051717932464661776), (15, 0.05148170410281383), (16, 0.051465705889429836), (17, 0.051418127147404506), (18, 0.05112222939592282), (19, 0.051280170923755426), (20, 0.051683666662038226), (21, 0.05153897260277547), (22, 0.051079828561604264), (23, 0.05143893843585411), (24, 0.05131494620944694), (25, 0.05159046369734541), (26, 0.051043288776513616), (27, 0.05158851466210345), (28, 0.05158160685630302), (29, 0.05136123290781665), (30, 0.05091155309451469)], 'MAE_loss_4': [(0, 1.6377711890214315), (1, 0.5712926386128345), (2, 0.30928202604233884), (3, 0.18010034238080788), (4, 0.11829500035733648), (5, 0.08913580549255729), (6, 0.07670902260475511), (7, 0.07241172109226607), (8, 0.0714379957022324), (9, 0.07158036274781246), (10, 0.07321341865622655), (11, 0.07304784043672916), (12, 0.07341223812824728), (13, 0.07374007342190303), (14, 0.07397893917617669), (15, 0.07422292370896161), (16, 0.07404455408248221), (17, 0.07403011154343553), (18, 0.07411040750305066), (19, 0.0739374034077229), (20, 0.07402858243296752), (21, 0.07424098259589175), (22, 0.07386290216906162), (23, 0.07446611440008545), (24, 0.07410773189621978), (25, 0.07355783927558972), (26, 0.07422876205137446), (27, 0.07435833043634113), (28, 0.07407340518324891), (29, 0.07383943569155933), (30, 0.07350698373023715)], 'MAE_loss_5': [(0, 1.4529072625502464), (1, 0.5259582449655177), (2, 0.2850629676683649), (3, 0.16645910175626305), (4, 0.1159182050627465), (5, 0.09743311389978716), (6, 0.09809921292867986), (7, 0.10292175757194315), (8, 0.1064269304851067), (9, 0.10981187477695213), (10, 0.11134395187369632), (11, 0.11193434072497138), (12, 0.11333836083172336), (13, 0.11384055328971258), (14, 0.1130686929933284), (15, 0.11377003919870825), (16, 0.11393686936115166), (17, 0.11395799667781602), (18, 0.11380647712961117), (19, 0.11422031652972937), (20, 0.114137403559452), (21, 0.11361438235195262), (22, 0.11402973717992496), (23, 0.11347737588962391), (24, 0.11362008207140835), (25, 0.11384168444976135), (26, 0.11388397545052506), (27, 0.11354039840286373), (28, 0.11357214277157962), (29, 0.11392763371505032), (30, 0.11458493340981836)]}"
            ]
          },
          "execution_count": 40,
          "metadata": {},
          "output_type": "execute_result"
        }
      ],
      "source": [
        "# FedAvgアルゴリズムを用いた手法\n",
        "strategy = fl.server.strategy.FedAvg(\n",
        "    fraction_fit=1.0,  # 利用可能なクライアントの内、X%学習に使用\n",
        "    fraction_evaluate=1.0,  # 利用可能なクライアントの内、X%評価に使用\n",
        "    min_fit_clients=NUM_CLIENTS,  # クライアント数Xより少ない場合は学習しない\n",
        "    min_evaluate_clients=NUM_CLIENTS,  # クライアント数Xより少ない場合は評価しない\n",
        "    min_available_clients=NUM_CLIENTS,  # クライアント数Xが利用可能になるまで待つ\n",
        "    initial_parameters=fl.common.ndarrays_to_parameters(get_parameters(Net(input_dim, output_dim))),  # モデルパラメータの初期値\n",
        "    evaluate_fn=evaluate  # 評価関数\n",
        ")\n",
        "\n",
        "# FedAdamアルゴリズムを用いた手法\n",
        "# strategy = fl.server.strategy.FedAdagrad(\n",
        "#     fraction_fit=1.0,\n",
        "#     fraction_evaluate=1.0,\n",
        "#     min_fit_clients=NUM_CLIENTS,\n",
        "#     min_evaluate_clients=NUM_CLIENTS,\n",
        "#     min_available_clients=NUM_CLIENTS,\n",
        "#     initial_parameters=fl.common.ndarrays_to_parameters(get_parameters(Net(input_dim, output_dim))),\n",
        "#     evaluate_fn=evaluate\n",
        "# )\n",
        "\n",
        "# 各クライアントの計算資源を指定\n",
        "num_cpus = multiprocessing.cpu_count()\n",
        "client_resources = {\"num_cpus\": num_cpus, \"num_gpus\": 0}\n",
        "if DEVICE.type == \"cuda\":\n",
        "    num_gpus = torch.cuda.device_count()\n",
        "    client_resources[\"num_gpus\"] = num_gpus\n",
        "\n",
        "# 連合学習シミュレーションの開始\n",
        "fl.simulation.start_simulation(\n",
        "    client_fn=client_fn,\n",
        "    num_clients=NUM_CLIENTS,\n",
        "    config=fl.server.ServerConfig(num_rounds=ROUNDS),\n",
        "    strategy=strategy,\n",
        "    client_resources=client_resources\n",
        ")"
      ]
    },
    {
      "cell_type": "markdown",
      "metadata": {
        "id": "_ufqNbDw9NgE"
      },
      "source": [
        "## 評価\n",
        "\n",
        "1m歩いた時の平均時間誤差 (MAE) [s/m]\n",
        "\n",
        "- ランダムに分割\n",
        "\n",
        "| クライアント数 | 収束ラウンド数 | 全体 | 混雑度1 | 混雑度2 |  混雑度3 |  混雑度4 |  混雑度5 |\n",
        "|:---:|:---:|:---:|:---:|:---:|:---:|:---:|:---:|\n",
        "| 10 | 2 | 0.0619112033 | 0.0372089321 | 0.0365712017 | 0.0507407992 | 0.0737848683 | 0.1133870780 |\n",
        "| 50 | 3 | 0.0620158370 | 0.0367395795 | 0.0361763794 | 0.0496458076 | 0.0759601122 | 0.1137922705 |\n",
        "| 100 | 5 | 0.0623555531 | 0.0377113196 | 0.0369542538 | 0.0507650156 | 0.0737137413 | 0.1147774621 |\n",
        "| 500 | 30 | 0.0624800370 | 0.0375856798 | 0.0368313923 | 0.0511188377 | 0.0738422583 | 0.1151743999 |\n",
        "| 1000 | 100 | 0.0625261947 | 0.0380095562 | 0.0372345823 | 0.0510124069 | 0.0738623510 | 0.1146447972 |\n",
        "\n",
        "<br>\n",
        "\n",
        "- 歩行速度別に分割\n",
        "\n",
        "| クライアント数 | 収束ラウンド数 | 全体 | 混雑度1 | 混雑度2 |  混雑度3 |  混雑度4 |  混雑度5 |\n",
        "|:---:|:---:|:---:|:---:|:---:|:---:|:---:|:---:|\n",
        "| 10 | 10 | 0.0625724085 | 0.0379385760 | 0.0372291169 | 0.0499230392 | 0.0749120427 | 0.1150485299 |\n",
        "| 50 | 15 | 0.0627550964 | 0.0388325309 | 0.0378466156 | 0.0506888826 | 0.0739609882 | 0.1145591556 |\n",
        "| 100 | 20 | 0.0628205000 | 0.0389990176 | 0.0381010128 | 0.0509919797 | 0.0737414638 | 0.1143638297 |\n",
        "| 500 | 30 | 0.0628307263 | 0.0382393137 | 0.0374111600 | 0.0512425374 | 0.0748514561 | 0.1145554759 |\n",
        "| 1000 | 75 | 0.0628108941 | 0.0380571892 | 0.0372053137 | 0.0511329156 | 0.0748489026 | 0.1149706355 |"
      ]
    }
  ],
  "metadata": {
    "colab": {
      "collapsed_sections": [
        "D5YobPSoXHWZ",
        "zPl0v8I0ezOo",
        "O2F20NweM3Mn",
        "JsR7WQh753IZ",
        "yNLIeuc_lhja",
        "zVCmmkm_Ixel",
        "VmDio8Vsl1yj",
        "3-nhYFC0l8hs",
        "w4lLKlgskUg6",
        "bIeVyzIPidj8",
        "2dIKUcATkeYr"
      ],
      "machine_shape": "hm",
      "provenance": []
    },
    "kernelspec": {
      "display_name": "Python 3",
      "name": "python3"
    },
    "language_info": {
      "name": "python"
    }
  },
  "nbformat": 4,
  "nbformat_minor": 0
}