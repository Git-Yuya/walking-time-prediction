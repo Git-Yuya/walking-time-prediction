{
  "nbformat": 4,
  "nbformat_minor": 0,
  "metadata": {
    "colab": {
      "provenance": [],
      "collapsed_sections": [
        "2FMFCW1cIYhD",
        "T8inFIoSIT3i",
        "tVsOEBZtOMKU",
        "fz_PJi9eIPE3",
        "gifsLnO3IinV",
        "DfWXXFGnCISc"
      ],
      "machine_shape": "hm"
    },
    "kernelspec": {
      "name": "python3",
      "display_name": "Python 3"
    },
    "language_info": {
      "name": "python"
    }
  },
  "cells": [
    {
      "cell_type": "markdown",
      "source": [
        "# マルチエージェントシミュレーション"
      ],
      "metadata": {
        "id": "ESDI1ujaIdDD"
      }
    },
    {
      "cell_type": "markdown",
      "source": [
        "## 必要なライブラリをインポート"
      ],
      "metadata": {
        "id": "2FMFCW1cIYhD"
      }
    },
    {
      "cell_type": "code",
      "execution_count": null,
      "metadata": {
        "id": "Wksc9TY8Q4em"
      },
      "outputs": [],
      "source": [
        "import math\n",
        "import random\n",
        "\n",
        "import os\n",
        "import csv\n",
        "import pandas as pd\n",
        "\n",
        "from typing import List, Tuple, Dict\n",
        "from __future__ import annotations"
      ]
    },
    {
      "cell_type": "markdown",
      "source": [
        "## 歩行者エージェントクラス"
      ],
      "metadata": {
        "id": "T8inFIoSIT3i"
      }
    },
    {
      "cell_type": "code",
      "source": [
        "class Pedestrian:\n",
        "    \"\"\" 歩行者エージェントを表現するクラス \"\"\"\n",
        "\n",
        "    def __init__(self, id: int, lane_min: int, lane_max: int, start_time: int) -> None:\n",
        "        \"\"\"\n",
        "        コンストラクタ\n",
        "\n",
        "        Parameters\n",
        "        ----------\n",
        "        id : int\n",
        "            識別番号\n",
        "        x : float\n",
        "            x座標\n",
        "        lane : int\n",
        "            歩いているレーン番号\n",
        "        lane_min : int\n",
        "            レーン番号の最小値\n",
        "        lane_max : int\n",
        "            レーン番号の最大値\n",
        "        walking_speed : float\n",
        "            通常時の歩行速度（0.8～1.7 m/s）\n",
        "        walking_time : int\n",
        "            歩行時間 [s]\n",
        "        start_time : int\n",
        "            歩行者エージェントの発生時刻\n",
        "        \"\"\"\n",
        "        self.id = id\n",
        "        self.x = 0.0\n",
        "        self.lane = random.randint(lane_min, lane_max)\n",
        "        self.walking_speed = random.randint(8, 17) / 10\n",
        "        self.walking_time = 0\n",
        "        self.start_time = start_time\n",
        "\n",
        "    def update_walking_time(self) -> None:\n",
        "        \"\"\" 歩行時間を更新 \"\"\"\n",
        "        self.walking_time += 1"
      ],
      "metadata": {
        "id": "L6PQvl8QXeRo"
      },
      "execution_count": null,
      "outputs": []
    },
    {
      "cell_type": "markdown",
      "source": [
        "## 歩行者の位置を更新するための関数"
      ],
      "metadata": {
        "id": "tVsOEBZtOMKU"
      }
    },
    {
      "cell_type": "code",
      "source": [
        "def get_front_agent(pedestrians: List[Pedestrian], x: float, lane: int) -> Pedestrian | None:\n",
        "    \"\"\"\n",
        "    x座標とレーンから前を歩く歩行者エージェントを取得\n",
        "\n",
        "    Parameters\n",
        "    ----------\n",
        "    pedestrians : List[Pedestrian]\n",
        "        歩行者エージェントリスト（x座標が大きい順）\n",
        "    x : float\n",
        "        x座標\n",
        "    lane : int\n",
        "        レーン番号\n",
        "\n",
        "    Returns\n",
        "    -------\n",
        "    front_agent : Pedestrian | None\n",
        "        前を歩く歩行者エージェント\n",
        "    \"\"\"\n",
        "    front_agent = None\n",
        "    for pedestrian in pedestrians:\n",
        "        if (pedestrian.lane == lane and pedestrian.x > x):\n",
        "            front_agent = pedestrian\n",
        "        elif (pedestrian.x < x):\n",
        "            break\n",
        "\n",
        "    return front_agent"
      ],
      "metadata": {
        "id": "gB5xJ-EArvtb"
      },
      "execution_count": null,
      "outputs": []
    },
    {
      "cell_type": "code",
      "source": [
        "def get_behind_agent(pedestrians: List[Pedestrian], x: float, lane: int) -> Pedestrian | None:\n",
        "    \"\"\"\n",
        "    x座標とレーンから後ろを歩く歩行者エージェントを取得\n",
        "\n",
        "    Parameters\n",
        "    ----------\n",
        "    pedestrians : List[Pedestrian]\n",
        "        歩行者エージェントリスト（x座標が大きい順）\n",
        "    x : float\n",
        "        x座標\n",
        "    lane : int\n",
        "        レーン番号\n",
        "\n",
        "    Returns\n",
        "    -------\n",
        "    behind_agent : Pedestrian | None\n",
        "        後ろを歩く歩行者エージェント\n",
        "    \"\"\"\n",
        "    behind_agent = None\n",
        "    for pedestrian in pedestrians:\n",
        "        if (pedestrian.lane == lane and pedestrian.x < x):\n",
        "            behind_agent = pedestrian\n",
        "            break\n",
        "\n",
        "    return behind_agent"
      ],
      "metadata": {
        "id": "NHRxsVLHzPFz"
      },
      "execution_count": null,
      "outputs": []
    },
    {
      "cell_type": "code",
      "source": [
        "def is_change_lane(pedestrians: List[Pedestrian], pedestrian: Pedestrian, lane_min: int, lane_max: int) -> bool:\n",
        "    \"\"\"\n",
        "    レーンを変更するかどうかを判定\n",
        "\n",
        "    Parameters\n",
        "    ----------\n",
        "    pedestrians : List[Pedestrian]\n",
        "        歩行者エージェントリスト（x座標が大きい順）\n",
        "    pedestrian : Pedestrian\n",
        "        歩行者エージェント\n",
        "    lane_min : int\n",
        "        レーン番号の最小値\n",
        "    lane_max : int\n",
        "        レーン番号の最大値\n",
        "\n",
        "    Returns\n",
        "    -------\n",
        "    is_change : bool, default False\n",
        "        レーンを変更したかどうか\n",
        "    \"\"\"\n",
        "    is_change = False\n",
        "\n",
        "    # レーンが1つしかない場合\n",
        "    if (lane_max == 1):\n",
        "        return is_change\n",
        "\n",
        "    # 変更先のレーン\n",
        "    change_lane = -1\n",
        "    if (pedestrian.lane == lane_min):\n",
        "        change_lane = pedestrian.lane + 1\n",
        "    elif (pedestrian.lane == lane_max):\n",
        "        change_lane = pedestrian.lane - 1\n",
        "    else:\n",
        "        if (random.randint(0, 1) == 0):\n",
        "            change_lane = pedestrian.lane + 1\n",
        "        else:\n",
        "            change_lane = pedestrian.lane - 1\n",
        "\n",
        "    # 変更先レーンで前を歩く歩行者\n",
        "    front_agent = get_front_agent(pedestrians, pedestrian.x, change_lane)\n",
        "    # 変更先レーンで後ろを歩く歩行者\n",
        "    behind_agent = get_behind_agent(pedestrians, pedestrian.x, change_lane)\n",
        "\n",
        "    # x方向に進む最大距離\n",
        "    x_max = math.sqrt(pedestrian.walking_speed ** 2 - 0.5 ** 2)\n",
        "\n",
        "    # レーン変更先で前または後ろを歩く歩行者がいない場合\n",
        "    if ((front_agent is None) or (behind_agent is None)):\n",
        "        is_change = True\n",
        "        pedestrian.lane = change_lane\n",
        "        pedestrian.x += x_max\n",
        "\n",
        "    # 前後に歩行者がいる場合\n",
        "    else:\n",
        "        # レーン変更の条件\n",
        "        # ① レーン変更先で前を歩く歩行者（更新後）と後ろを歩く歩行者（更新前）の距離が2.5 m以上\n",
        "        # ② レーン変更する予定の歩行者とレーン変更先の後ろを歩く歩行者との距離が0.5 m以上\n",
        "        if ((front_agent.x - behind_agent.x >= 2.5) and (pedestrian.x - behind_agent.x >= 0.5)):\n",
        "            is_change = True\n",
        "            pedestrian.lane = change_lane\n",
        "\n",
        "            # 衝突判定の閾値\n",
        "            distance_threshold = 0.5\n",
        "            # 前を歩く歩行者との距離\n",
        "            distance_to_front = front_agent.x - (pedestrian.x + x_max)\n",
        "\n",
        "            # レーン変更先の前を歩く人に追いつく場合\n",
        "            if (distance_to_front < distance_threshold):\n",
        "                pedestrian.x = front_agent.x - distance_threshold\n",
        "\n",
        "            # レーン変更先の前を歩く人に追いつかない場合\n",
        "            else:\n",
        "                pedestrian.x += x_max\n",
        "\n",
        "    return is_change"
      ],
      "metadata": {
        "id": "GTTGXAadeP3I"
      },
      "execution_count": null,
      "outputs": []
    },
    {
      "cell_type": "code",
      "source": [
        "def update_position(pedestrians: List[Pedestrian], lane_min: int, lane_max: int) -> None:\n",
        "    \"\"\"\n",
        "    歩行者の位置を更新\n",
        "\n",
        "    Parameters\n",
        "    ----------\n",
        "    pedestrians : List[Pedestrian]\n",
        "        歩行者エージェントリスト（x座標が大きい順）\n",
        "    lane_min : int\n",
        "        レーン番号の最小値\n",
        "    lane_max : int\n",
        "        レーン番号の最大値\n",
        "    \"\"\"\n",
        "    for pedestrian in pedestrians:\n",
        "        # 前を歩く歩行者\n",
        "        front_agent = get_front_agent(pedestrians, pedestrian.x, pedestrian.lane)\n",
        "        # 後ろを歩く歩行者\n",
        "        behind_agent = get_behind_agent(pedestrians, pedestrian.x, pedestrian.lane)\n",
        "\n",
        "        # 前を歩く歩行者がいない場合\n",
        "        if (front_agent is None):\n",
        "            pedestrian.x += pedestrian.walking_speed\n",
        "\n",
        "        # 前を歩く歩行者がいる場合\n",
        "        else:\n",
        "            # 衝突判定の閾値\n",
        "            distance_threshold = 0.5\n",
        "            # 前を歩く歩行者との距離\n",
        "            distance_to_front = abs(front_agent.x - (pedestrian.x + pedestrian.walking_speed))\n",
        "\n",
        "            # 前を歩く人に追いつく場合\n",
        "            if (distance_to_front < distance_threshold):\n",
        "                # 追い抜き判定\n",
        "                # 追い抜く場合は、is_change_lane()で処理を実行\n",
        "                flag = is_change_lane(pedestrians, pedestrian, lane_min, lane_max)\n",
        "                # 追い抜けない場合は、前の歩行者を追従\n",
        "                if (flag == False):\n",
        "                    pedestrian.x = front_agent.x - distance_threshold\n",
        "\n",
        "            # 前を歩く人に追いつかない場合\n",
        "            else:\n",
        "                pedestrian.x += pedestrian.walking_speed"
      ],
      "metadata": {
        "id": "rL2A4Gjs4gV0"
      },
      "execution_count": null,
      "outputs": []
    },
    {
      "cell_type": "markdown",
      "source": [
        "## マルチエージェントシミュレーション"
      ],
      "metadata": {
        "id": "fz_PJi9eIPE3"
      }
    },
    {
      "cell_type": "code",
      "source": [
        "# シミュレーションの終了時刻\n",
        "end_time = 100\n",
        "# 歩行者が歩くレーンの最小値\n",
        "lane_min = 1\n",
        "# 歩行者が歩くレーンの最大値\n",
        "lane_max = random.randint(2, 6)\n",
        "# 歩行者エージェントの総数\n",
        "N = random.randint(1 * lane_max, 100 * lane_max)\n",
        "# 各レーンのエージェント発生数\n",
        "N_lane = int(N / lane_max)\n",
        "\n",
        "# 混雑度\n",
        "crowd_level = -1\n",
        "density = N_lane / end_time\n",
        "if (density <= 0.2):\n",
        "    crowd_level = 1\n",
        "elif (density <= 0.4):\n",
        "    crowd_level = 2\n",
        "elif (density <= 0.6):\n",
        "    crowd_level = 3\n",
        "elif (density <= 0.8):\n",
        "    crowd_level = 4\n",
        "elif (density <= 1.0):\n",
        "    crowd_level = 5\n",
        "\n",
        "# 歩行者エージェントの各レーンでの発生時刻リストのリスト\n",
        "start_time_lists = [sorted(random.sample(range(end_time), N_lane)) for _ in range(lane_max)]\n",
        "\n",
        "# 歩行者エージェントを格納するリスト（x座標が大きい順）\n",
        "pedestrians = []\n",
        "\n",
        "# 各レーンで発生した歩行者エージェント数\n",
        "numbers = [0 for _ in range(lane_max)]"
      ],
      "metadata": {
        "id": "VHfacSMwB7gE"
      },
      "execution_count": null,
      "outputs": []
    },
    {
      "cell_type": "code",
      "source": [
        "# シミュレーション\n",
        "for current_time in range(end_time):\n",
        "    # 歩行者エージェントを発生時刻に作成\n",
        "    for i in range(lane_max):\n",
        "        if (numbers[i] < N_lane):\n",
        "            if current_time == start_time_lists[i][numbers[i]]:\n",
        "                numbers[i] += 1\n",
        "                new_agent = Pedestrian(id=sum(numbers), lane_min=lane_min, lane_max=lane_max, start_time=current_time)\n",
        "                pedestrians.append(new_agent)\n",
        "\n",
        "    # 歩行者エージェントの位置を更新\n",
        "    update_position(pedestrians, lane_min, lane_max)\n",
        "\n",
        "    # x座標が大きい順にソート（降順）\n",
        "    pedestrians.sort(key=lambda p: p.x, reverse=True)\n",
        "\n",
        "    # print(f\"Current time: {current_time + 1}\")\n",
        "    for pedestrian in pedestrians:\n",
        "        # 歩行時間を更新\n",
        "        pedestrian.update_walking_time()\n",
        "        # シミュレーション結果を表示（20秒ごと）\n",
        "        # if ((current_time + 1) % 20 == 0):\n",
        "        #     print(f\"id={pedestrian.id}, x={pedestrian.x}, lane={pedestrian.lane}, speed={pedestrian.walking_speed}\")"
      ],
      "metadata": {
        "id": "vUyR9XMw-q9A"
      },
      "execution_count": null,
      "outputs": []
    },
    {
      "cell_type": "code",
      "source": [
        "# 結果の表示\n",
        "print(f\"crowd_level_{crowd_level}\")\n",
        "for pedestrian in pedestrians:\n",
        "    print(f\"id={pedestrian.id}, x={pedestrian.x}, lane={pedestrian.lane}, speed={pedestrian.walking_speed}, time={pedestrian.walking_time}\")"
      ],
      "metadata": {
        "id": "aK6pp_iuRu3c",
        "colab": {
          "base_uri": "https://localhost:8080/"
        },
        "outputId": "1308eca4-6bd3-4d48-9269-15cc051948a4"
      },
      "execution_count": null,
      "outputs": [
        {
          "output_type": "stream",
          "name": "stdout",
          "text": [
            "crowd_level_2\n",
            "id=13, x=150.97442304278158, lane=2, speed=1.7, time=91\n",
            "id=12, x=147.03973683071388, lane=1, speed=1.6, time=92\n",
            "id=16, x=143.91986841535683, lane=2, speed=1.6, time=90\n",
            "id=31, x=135.27442304278168, lane=2, speed=1.7, time=81\n",
            "id=14, x=134.92842712474618, lane=4, speed=1.5, time=91\n",
            "id=28, x=130.0504764575346, lane=1, speed=1.6, time=82\n",
            "id=2, x=128.69999999999982, lane=5, speed=1.3, time=99\n",
            "id=3, x=127.29999999999981, lane=3, speed=1.3, time=98\n",
            "id=18, x=124.41533936612461, lane=2, speed=1.4, time=89\n",
            "id=36, x=122.81073962682049, lane=2, speed=1.6, time=77\n",
            "id=8, x=122.09999999999981, lane=5, speed=1.3, time=94\n",
            "id=30, x=121.15685424949238, lane=6, speed=1.5, time=81\n",
            "id=11, x=119.59999999999982, lane=1, speed=1.3, time=92\n",
            "id=23, x=118.78136476990903, lane=4, speed=1.4, time=86\n",
            "id=6, x=115.09087121146375, lane=5, speed=1.2, time=96\n",
            "id=7, x=114.00000000000018, lane=3, speed=1.2, time=95\n",
            "id=48, x=113.44884608556326, lane=1, speed=1.7, time=67\n",
            "id=38, x=113.10508477383675, lane=2, speed=1.5, time=76\n",
            "id=39, x=112.3306080421777, lane=3, speed=1.6, time=76\n",
            "id=34, x=111.60508477383677, lane=2, speed=1.5, time=77\n",
            "id=45, x=110.83135778478167, lane=2, speed=1.7, time=69\n",
            "id=1, x=109.99999999999982, lane=4, speed=1.1, time=100\n",
            "id=51, x=109.89742131531806, lane=5, speed=1.7, time=65\n",
            "id=22, x=103.79087121146375, lane=3, speed=1.2, time=87\n",
            "id=46, x=102.98528137423857, lane=6, speed=1.5, time=69\n",
            "id=24, x=102.9817424229273, lane=4, speed=1.2, time=86\n",
            "id=27, x=100.47261363439087, lane=4, speed=1.2, time=84\n",
            "id=17, x=97.45959179422638, lane=5, speed=1.1, time=89\n",
            "id=29, x=96.98174242292728, lane=3, speed=1.2, time=81\n",
            "id=20, x=96.17066710857672, lane=1, speed=1.1, time=88\n",
            "id=9, x=93.86602540378445, lane=6, speed=1.0, time=94\n",
            "id=41, x=88.03609848024509, lane=3, speed=1.2, time=74\n",
            "id=21, x=87.86602540378443, lane=4, speed=1.0, time=88\n",
            "id=60, x=87.4996643124703, lane=6, speed=1.6, time=56\n",
            "id=5, x=86.40000000000006, lane=5, speed=0.9, time=96\n",
            "id=42, x=86.07261363439082, lane=2, speed=1.2, time=72\n",
            "id=55, x=84.7397204906311, lane=2, speed=1.4, time=61\n",
            "id=35, x=84.57979589711323, lane=5, speed=1.1, time=77\n",
            "id=26, x=83.73205080756888, lane=3, speed=1.0, time=84\n",
            "id=10, x=83.70000000000005, lane=4, speed=0.9, time=93\n",
            "id=52, x=82.59999999999995, lane=5, speed=1.3, time=64\n",
            "id=15, x=81.90000000000003, lane=1, speed=0.9, time=91\n",
            "id=68, x=78.81986841535695, lane=4, speed=1.6, time=52\n",
            "id=4, x=78.39999999999985, lane=2, speed=0.8, time=98\n",
            "id=37, x=77.0, lane=5, speed=1.0, time=77\n",
            "id=61, x=76.72300904918662, lane=2, speed=1.4, time=55\n",
            "id=25, x=76.5, lane=6, speed=0.9, time=85\n",
            "id=56, x=76.39999999999992, lane=5, speed=1.3, time=59\n",
            "id=73, x=76.19563346022757, lane=4, speed=1.7, time=50\n",
            "id=69, x=76.15685424949237, lane=3, speed=1.5, time=51\n",
            "id=53, x=75.2726136343908, lane=1, speed=1.2, time=63\n",
            "id=64, x=75.04601809837321, lane=4, speed=1.4, time=54\n",
            "id=72, x=73.75685424949238, lane=4, speed=1.5, time=50\n",
            "id=83, x=73.27672266484944, lane=3, speed=1.6, time=46\n",
            "id=67, x=72.8, lane=5, speed=1.4, time=52\n",
            "id=77, x=71.78023896615753, lane=1, speed=1.5, time=49\n",
            "id=70, x=71.30766968306219, lane=5, speed=1.4, time=51\n",
            "id=32, x=71.09999999999997, lane=6, speed=0.9, time=79\n",
            "id=43, x=70.86602540378443, lane=2, speed=1.0, time=71\n",
            "id=19, x=70.39999999999988, lane=3, speed=0.8, time=88\n",
            "id=40, x=68.39999999999995, lane=6, speed=0.9, time=76\n",
            "id=80, x=67.47381880844428, lane=2, speed=1.6, time=47\n",
            "id=89, x=66.4992307237088, lane=3, speed=1.7, time=40\n",
            "id=76, x=63.31421356237304, lane=2, speed=1.3, time=49\n",
            "id=33, x=63.1999999999999, lane=1, speed=0.8, time=79\n",
            "id=59, x=61.60000000000005, lane=6, speed=1.1, time=56\n",
            "id=47, x=61.04833147735472, lane=2, speed=0.9, time=68\n",
            "id=66, x=59.79087121146365, lane=1, speed=1.2, time=52\n",
            "id=91, x=59.69966431247038, lane=6, speed=1.6, time=40\n",
            "id=49, x=59.399999999999935, lane=4, speed=0.9, time=66\n",
            "id=93, x=59.184399475153775, lane=3, speed=1.7, time=38\n",
            "id=65, x=59.159591794226586, lane=2, speed=1.1, time=54\n",
            "id=44, x=55.99999999999993, lane=3, speed=0.8, time=70\n",
            "id=94, x=55.519868415357095, lane=1, speed=1.6, time=35\n",
            "id=88, x=55.510474629362044, lane=6, speed=1.4, time=40\n",
            "id=62, x=54.73205080756888, lane=4, speed=1.0, time=55\n",
            "id=75, x=53.77979589711332, lane=5, speed=1.1, time=49\n",
            "id=50, x=52.79999999999994, lane=3, speed=0.8, time=66\n",
            "id=58, x=51.29999999999995, lane=4, speed=0.9, time=57\n",
            "id=102, x=51.039736830714155, lane=6, speed=1.6, time=32\n",
            "id=101, x=50.96454451164135, lane=5, speed=1.7, time=32\n",
            "id=92, x=50.59999999999997, lane=1, speed=1.3, time=39\n",
            "id=98, x=50.094009459486394, lane=1, speed=1.5, time=34\n",
            "id=97, x=49.739736830714136, lane=4, speed=1.6, time=34\n",
            "id=54, x=49.59999999999995, lane=2, speed=0.8, time=62\n",
            "id=84, x=48.27979589711331, lane=2, speed=1.1, time=44\n",
            "id=81, x=47.0, lane=5, speed=1.0, time=47\n",
            "id=85, x=46.20000000000003, lane=4, speed=1.1, time=42\n",
            "id=57, x=45.599999999999966, lane=3, speed=0.8, time=57\n",
            "id=105, x=45.37442304278158, lane=4, speed=1.7, time=28\n",
            "id=86, x=44.97979589711326, lane=5, speed=1.1, time=41\n",
            "id=104, x=44.214213562373104, lane=1, speed=1.5, time=31\n",
            "id=63, x=43.99999999999997, lane=6, speed=0.8, time=55\n",
            "id=96, x=43.8, lane=2, speed=1.3, time=34\n",
            "id=78, x=43.19999999999996, lane=6, speed=0.9, time=48\n",
            "id=110, x=41.949615361854384, lane=2, speed=1.7, time=25\n",
            "id=82, x=41.24833147735475, lane=4, speed=0.9, time=46\n",
            "id=87, x=41.0, lane=5, speed=1.0, time=41\n",
            "id=71, x=40.79999999999998, lane=3, speed=0.8, time=51\n",
            "id=99, x=40.54833147735476, lane=4, speed=1.2, time=34\n",
            "id=103, x=40.29999999999998, lane=3, speed=1.3, time=32\n",
            "id=74, x=39.999999999999986, lane=1, speed=0.8, time=50\n",
            "id=100, x=39.60000000000001, lane=5, speed=1.2, time=33\n",
            "id=79, x=38.39999999999999, lane=1, speed=0.8, time=48\n",
            "id=90, x=35.84833147735476, lane=3, speed=0.9, time=40\n",
            "id=95, x=35.0, lane=3, speed=1.0, time=35\n",
            "id=120, x=34.619868415357075, lane=4, speed=1.6, time=22\n",
            "id=117, x=34.32842712474619, lane=2, speed=1.5, time=23\n",
            "id=119, x=32.82842712474619, lane=2, speed=1.5, time=22\n",
            "id=107, x=32.39999999999999, lane=5, speed=1.2, time=27\n",
            "id=108, x=32.39999999999999, lane=6, speed=1.2, time=27\n",
            "id=115, x=31.89999999999999, lane=6, speed=1.4, time=24\n",
            "id=113, x=31.20000000000001, lane=3, speed=1.3, time=24\n",
            "id=109, x=31.19999999999999, lane=5, speed=1.2, time=26\n",
            "id=116, x=29.800000000000008, lane=2, speed=1.3, time=23\n",
            "id=106, x=28.0, lane=1, speed=1.0, time=28\n",
            "id=114, x=26.27979589711328, lane=5, speed=1.1, time=24\n",
            "id=121, x=23.999999999999993, lane=5, speed=1.2, time=20\n",
            "id=118, x=23.0, lane=3, speed=1.0, time=23\n",
            "id=111, x=22.499999999999993, lane=4, speed=0.9, time=25\n",
            "id=112, x=21.599999999999994, lane=2, speed=0.9, time=24\n",
            "id=127, x=20.700000000000006, lane=5, speed=1.3, time=16\n",
            "id=126, x=19.090871211463565, lane=4, speed=1.2, time=16\n",
            "id=122, x=19.0, lane=6, speed=1.0, time=19\n",
            "id=132, x=18.474423042781574, lane=4, speed=1.7, time=11\n",
            "id=124, x=18.0, lane=6, speed=1.0, time=18\n",
            "id=130, x=17.974423042781574, lane=4, speed=1.7, time=12\n",
            "id=131, x=17.474423042781574, lane=4, speed=1.7, time=11\n",
            "id=123, x=16.200000000000003, lane=3, speed=0.9, time=18\n",
            "id=129, x=15.490871211463567, lane=4, speed=1.2, time=13\n",
            "id=125, x=14.400000000000004, lane=5, speed=0.9, time=16\n",
            "id=128, x=12.600000000000003, lane=5, speed=0.9, time=14\n",
            "id=135, x=12.0, lane=6, speed=1.5, time=8\n",
            "id=133, x=10.999999999999998, lane=1, speed=1.1, time=10\n",
            "id=137, x=10.12480768092719, lane=5, speed=1.7, time=6\n",
            "id=134, x=8.0, lane=6, speed=1.0, time=8\n",
            "id=136, x=5.6, lane=3, speed=0.8, time=7\n",
            "id=140, x=5.5, lane=1, speed=1.1, time=5\n",
            "id=138, x=5.4, lane=5, speed=0.9, time=6\n",
            "id=139, x=5.4, lane=6, speed=0.9, time=6\n",
            "id=141, x=3.6, lane=5, speed=0.9, time=4\n",
            "id=142, x=3.5999999999999996, lane=4, speed=1.2, time=3\n",
            "id=143, x=3.1198684153570664, lane=3, speed=1.6, time=2\n",
            "id=144, x=1.7, lane=2, speed=1.7, time=1\n"
          ]
        }
      ]
    },
    {
      "cell_type": "markdown",
      "source": [
        "## CSVファイルに書き込み"
      ],
      "metadata": {
        "id": "gifsLnO3IinV"
      }
    },
    {
      "cell_type": "code",
      "source": [
        "# ファイル名\n",
        "file_name = \"dataset.csv\"\n",
        "# 既存のファイルがある場合は追記モードで開き、ない場合は新規作成\n",
        "mode = \"a\" if os.path.exists(file_name) else \"w\"\n",
        "\n",
        "with open(file_name, mode=mode, newline=\"\") as file:\n",
        "    fieldnames = [\"distance\", \"width\", \"speed\", \"crowd_level\", \"time\"]\n",
        "    writer = csv.DictWriter(file, fieldnames=fieldnames)\n",
        "\n",
        "    # ファイルが新規作成された場合はヘッダを書き込む\n",
        "    if mode == \"w\":\n",
        "        writer.writeheader()\n",
        "\n",
        "    # シミュレーション結果をCSVファイルに書き込む\n",
        "    for pedestrian in pedestrians:\n",
        "        writer.writerow({\n",
        "            \"distance\": pedestrian.x,\n",
        "            \"width\": 0.5 * lane_max,\n",
        "            \"speed\": pedestrian.walking_speed,\n",
        "            \"crowd_level\": crowd_level,\n",
        "            \"time\": pedestrian.walking_time\n",
        "        })"
      ],
      "metadata": {
        "id": "jIyLEotMXfR9"
      },
      "execution_count": null,
      "outputs": []
    },
    {
      "cell_type": "markdown",
      "source": [
        "## データ量の調整"
      ],
      "metadata": {
        "id": "DfWXXFGnCISc"
      }
    },
    {
      "cell_type": "code",
      "source": [
        "dataset = pd.read_csv(\"dataset.csv\")\n",
        "dataset = dataset[:-10]  # 最後のX行を削除\n",
        "print(dataset.shape)\n",
        "dataset.to_csv(\"dataset.csv\", index=False)"
      ],
      "metadata": {
        "colab": {
          "base_uri": "https://localhost:8080/"
        },
        "id": "RlCHJ0tc9qx9",
        "outputId": "0fae1384-599a-47d5-f53f-9cacea5ab285"
      },
      "execution_count": null,
      "outputs": [
        {
          "output_type": "stream",
          "name": "stdout",
          "text": [
            "(134, 5)\n"
          ]
        }
      ]
    },
    {
      "cell_type": "markdown",
      "source": [
        "データセット作成完了"
      ],
      "metadata": {
        "id": "gkTuDuXiLKux"
      }
    }
  ]
}